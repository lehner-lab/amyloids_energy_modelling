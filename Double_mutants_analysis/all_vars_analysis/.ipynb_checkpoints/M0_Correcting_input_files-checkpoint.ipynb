{
 "cells": [
  {
   "cell_type": "markdown",
   "id": "10c357fd-dc26-44cc-a7fb-d98de59f3163",
   "metadata": {},
   "source": [
    "# Correcting Mireia's files to be input into MoCHI\n",
    "\n",
    "Problem identified - the `.tsv` files (generated previously) have NA and 1 in WT column, which can be mistaken for NA in the amino acid (aa) sequence language, so MoCHI raises an error\n",
    "The WT column should have nothing (`\"\"` in python terms) instead of NA (and 1 where it's 1)\n",
    "\n",
    "So here I am reading the files and rewriting the correct version\n"
   ]
  },
  {
   "cell_type": "code",
   "execution_count": 1,
   "id": "8ae8c21b-87eb-4c75-a30f-1582748eca19",
   "metadata": {},
   "outputs": [],
   "source": [
    "import pandas as pd\n",
    "import numpy as np\n",
    "import glob"
   ]
  },
  {
   "cell_type": "markdown",
   "id": "ffbc947e-85fa-4735-b5b1-f6bc529d0ef2",
   "metadata": {},
   "source": [
    "### Doing this for files with *all* variants (straight out of DiMSum)"
   ]
  },
  {
   "cell_type": "code",
   "execution_count": 2,
   "id": "5bfda44d-ad2e-4f12-a6f8-00238a74c159",
   "metadata": {},
   "outputs": [],
   "source": [
    "original_files_dir = '/lustre/scratch126/gengen/projects/amyloid_beta_epistasis/Previous_files_from_Mireia/Doubles_datasets/dimsum_outputs/'\n",
    "corrected_files_dir = original_files_dir + 'corrected_fitness_abundance_files_Anna/'\n"
   ]
  },
  {
   "cell_type": "code",
   "execution_count": 3,
   "id": "24080d74-bc7a-423a-8f94-e3248be6bfad",
   "metadata": {},
   "outputs": [
    {
     "data": {
      "text/plain": [
       "'/lustre/scratch126/gengen/projects/amyloid_beta_epistasis/Previous_files_from_Mireia/Doubles_datasets/dimsum_outputs/'"
      ]
     },
     "execution_count": 3,
     "metadata": {},
     "output_type": "execute_result"
    }
   ],
   "source": [
    "original_files_dir"
   ]
  },
  {
   "cell_type": "code",
   "execution_count": 4,
   "id": "9352fe63-e158-489b-8cd9-4a5e47298100",
   "metadata": {},
   "outputs": [
    {
     "data": {
      "text/plain": [
       "'/lustre/scratch126/gengen/projects/amyloid_beta_epistasis/Previous_files_from_Mireia/Doubles_datasets/dimsum_outputs/corrected_fitness_abundance_files_Anna/'"
      ]
     },
     "execution_count": 4,
     "metadata": {},
     "output_type": "execute_result"
    }
   ],
   "source": [
    "corrected_files_dir"
   ]
  },
  {
   "cell_type": "code",
   "execution_count": 5,
   "id": "e92560be-25ae-4dab-a709-ea3ddd9c6e21",
   "metadata": {},
   "outputs": [],
   "source": [
    "# dataset keys\n",
    "datasets = ['eLife_doubles','NNK_doubles','Nicking_doubles']"
   ]
  },
  {
   "cell_type": "code",
   "execution_count": 6,
   "id": "3d19029a-ebec-4451-b426-924d5dead248",
   "metadata": {},
   "outputs": [],
   "source": [
    "# files straight out of DiMSum\n",
    "\n",
    "# all the datasets we will be working with\n",
    "datasets = ['eLife_doubles','NNK_doubles','Nicking_doubles']\n",
    "\n",
    "# here I went away and presaved files all_variants.csv file and variant_data_merge.csv from dimsum output in notebook RData2csv.ipynb\n",
    "# explicitly declare paths to each results folder \n",
    "lib_paths_dimsum = {}\n",
    "lib_paths_dimsum['eLife_doubles'] = '/lustre/scratch126/gengen/projects/amyloid_beta_epistasis/Previous_files_from_Mireia/Doubles_datasets/dimsum_outputs/eLife_doubles/'\n",
    "lib_paths_dimsum['NNK_doubles'] = '/lustre/scratch126/gengen/projects/amyloid_beta_epistasis/Previous_files_from_Mireia/Doubles_datasets/dimsum_outputs/NNK_doubles/'\n",
    "lib_paths_dimsum['Nicking_doubles'] = '/lustre/scratch126/gengen/projects/amyloid_beta_epistasis/Previous_files_from_Mireia/Doubles_datasets/dimsum_outputs/Nicking_doubles/'\n",
    "\n",
    "# tables with only classifiable variants - to check where WT is labelled\n",
    "lib_paths_class_only = {}\n",
    "lib_paths_class_only['eLife_doubles'] = '/lustre/scratch126/gengen/projects/amyloid_beta_epistasis/Previous_files_from_Mireia/Doubles_datasets/classifiable_only/corrected_fitness_abundance_files_Anna/mochi_elife_classifiable_corrected.tsv'\n",
    "lib_paths_class_only['NNK_doubles'] = '/lustre/scratch126/gengen/projects/amyloid_beta_epistasis/Previous_files_from_Mireia/Doubles_datasets/classifiable_only/corrected_fitness_abundance_files_Anna/mochi_classifiable_NNKfu_corrected.tsv'\n",
    "lib_paths_class_only['Nicking_doubles'] = '/lustre/scratch126/gengen/projects/amyloid_beta_epistasis/Previous_files_from_Mireia/Doubles_datasets/classifiable_only/corrected_fitness_abundance_files_Anna/mochi_nicking_classifiable_corrected.tsv'\n"
   ]
  },
  {
   "cell_type": "code",
   "execution_count": 7,
   "id": "1cc017f8-168e-4acc-bc78-910bf2c91b0f",
   "metadata": {},
   "outputs": [
    {
     "name": "stdout",
     "output_type": "stream",
     "text": [
      "eLife_doubles\n",
      "NNK_doubles\n",
      "Nicking_doubles\n",
      "CPU times: user 462 ms, sys: 53.2 ms, total: 516 ms\n",
      "Wall time: 525 ms\n"
     ]
    }
   ],
   "source": [
    "%%time\n",
    "# reading in all_variants.csv and variant_data_merge.csv files\n",
    "all_variants = {}\n",
    "all_variants_class_only = {}\n",
    "\n",
    "for dataset in datasets:\n",
    "    print(dataset)\n",
    "    \n",
    "    if dataset == 'eLife_doubles':\n",
    "        all_variants[dataset] = pd.read_csv(lib_paths_dimsum[dataset] + 'all_variants.df.csv',\n",
    "                          index_col=0, keep_default_na=False)\n",
    "    else:\n",
    "        \n",
    "        all_variants[dataset] = pd.read_csv(lib_paths_dimsum[dataset] + 'all_variants.csv',\n",
    "                              index_col=0, keep_default_na=False)\n",
    "    \n",
    "    all_variants_class_only[dataset] = pd.read_csv(lib_paths_class_only[dataset],\n",
    "                                                   sep='\\t', #index_col=0, keep_default_na=False\n",
    "                                                  )\n",
    "        "
   ]
  },
  {
   "cell_type": "code",
   "execution_count": 8,
   "id": "5aa6f8c2-d184-40be-8568-9da85d880425",
   "metadata": {},
   "outputs": [
    {
     "data": {
      "text/plain": [
       "array(['NA', 'TRUE'], dtype=object)"
      ]
     },
     "execution_count": 8,
     "metadata": {},
     "output_type": "execute_result"
    }
   ],
   "source": [
    "np.unique(all_variants['eLife_doubles']['WT'])"
   ]
  },
  {
   "cell_type": "code",
   "execution_count": 9,
   "id": "3806b0d1-c195-4d1c-9afc-1c998b3a9856",
   "metadata": {},
   "outputs": [
    {
     "data": {
      "text/plain": [
       "array(['True', 'nan'], dtype='<U4')"
      ]
     },
     "execution_count": 9,
     "metadata": {},
     "output_type": "execute_result"
    }
   ],
   "source": [
    "np.unique([str(elem) for elem in all_variants_class_only['eLife_doubles']['WT']])"
   ]
  },
  {
   "cell_type": "code",
   "execution_count": null,
   "id": "a8ae9f34-ea1b-4669-976a-10d95f6a8cf6",
   "metadata": {},
   "outputs": [],
   "source": []
  },
  {
   "cell_type": "raw",
   "id": "e834be85-8d17-4b07-887d-9c66d37d41ea",
   "metadata": {},
   "source": [
    "def correct_fitness_abundance_table(fa_table, idx):\n",
    "    if fa_table.loc[idx,'WT'] != 1:\n",
    "        print(1)\n",
    "        return('')\n",
    "    else:\n",
    "        print(2)\n",
    "        return(fa_table.loc[idx,'WT'])"
   ]
  },
  {
   "cell_type": "code",
   "execution_count": 10,
   "id": "e48fd945-4d27-4263-9e77-da85ada6479a",
   "metadata": {},
   "outputs": [
    {
     "name": "stdout",
     "output_type": "stream",
     "text": [
      "eLife_doubles\n",
      "NNK_doubles\n",
      "Nicking_doubles\n"
     ]
    }
   ],
   "source": [
    "for dataset in datasets:\n",
    "    print(dataset)\n",
    "    all_variants[dataset]['WT'] = ['True' if str(value) == 'TRUE' else '' for value in all_variants[dataset]['WT']]\n",
    "    all_variants_class_only[dataset]['WT'] = ['True' if str(value) == 'True' else '' for value in all_variants_class_only[dataset]['WT']]\n",
    "    "
   ]
  },
  {
   "cell_type": "code",
   "execution_count": 11,
   "id": "eb90abbd-5826-407e-98a4-99c4987b2344",
   "metadata": {},
   "outputs": [
    {
     "data": {
      "text/plain": [
       "array(['', 'True'], dtype=object)"
      ]
     },
     "execution_count": 11,
     "metadata": {},
     "output_type": "execute_result"
    }
   ],
   "source": [
    "np.unique(all_variants['eLife_doubles']['WT'])"
   ]
  },
  {
   "cell_type": "code",
   "execution_count": 12,
   "id": "dbd57eff-3bea-4d81-8956-005e060d87ba",
   "metadata": {},
   "outputs": [
    {
     "data": {
      "text/html": [
       "<div>\n",
       "<style scoped>\n",
       "    .dataframe tbody tr th:only-of-type {\n",
       "        vertical-align: middle;\n",
       "    }\n",
       "\n",
       "    .dataframe tbody tr th {\n",
       "        vertical-align: top;\n",
       "    }\n",
       "\n",
       "    .dataframe thead th {\n",
       "        text-align: right;\n",
       "    }\n",
       "</style>\n",
       "<table border=\"1\" class=\"dataframe\">\n",
       "  <thead>\n",
       "    <tr style=\"text-align: right;\">\n",
       "      <th></th>\n",
       "      <th>merge_seq</th>\n",
       "      <th>aa_seq</th>\n",
       "      <th>Nham_nt</th>\n",
       "      <th>Nham_aa</th>\n",
       "      <th>Nmut_codons</th>\n",
       "      <th>WT</th>\n",
       "      <th>STOP</th>\n",
       "      <th>STOP_readthrough</th>\n",
       "      <th>mean_count</th>\n",
       "      <th>count_e1_s0</th>\n",
       "      <th>...</th>\n",
       "      <th>fitness3_uncorr</th>\n",
       "      <th>sigma3_uncorr</th>\n",
       "      <th>fitness</th>\n",
       "      <th>sigma</th>\n",
       "      <th>nscore_c</th>\n",
       "      <th>sigma_norm_first_toWT</th>\n",
       "      <th>category_sigma</th>\n",
       "      <th>zscore_mode</th>\n",
       "      <th>p.adjust_mode</th>\n",
       "      <th>category_dead</th>\n",
       "    </tr>\n",
       "  </thead>\n",
       "  <tbody>\n",
       "    <tr>\n",
       "      <th>9270</th>\n",
       "      <td>gatgcagagttccgacatgactcaggatatgaagttcatcatcaaa...</td>\n",
       "      <td>DAEFRHDSGYEVHHQKLVFFAEDVGSNKGAIIGLMVGGVVIA</td>\n",
       "      <td>0</td>\n",
       "      <td>0</td>\n",
       "      <td>0</td>\n",
       "      <td>True</td>\n",
       "      <td>False</td>\n",
       "      <td>False</td>\n",
       "      <td>5180649.0</td>\n",
       "      <td>6742700</td>\n",
       "      <td>...</td>\n",
       "      <td>0.148268232234454</td>\n",
       "      <td>0.309149356001861</td>\n",
       "      <td>-0.067406</td>\n",
       "      <td>0.052937</td>\n",
       "      <td>0.018891</td>\n",
       "      <td>0.015931</td>\n",
       "      <td>classifiable</td>\n",
       "      <td>0.356859</td>\n",
       "      <td>0.804018</td>\n",
       "      <td>dead</td>\n",
       "    </tr>\n",
       "  </tbody>\n",
       "</table>\n",
       "<p>1 rows × 29 columns</p>\n",
       "</div>"
      ],
      "text/plain": [
       "                                              merge_seq  \\\n",
       "9270  gatgcagagttccgacatgactcaggatatgaagttcatcatcaaa...   \n",
       "\n",
       "                                          aa_seq  Nham_nt  Nham_aa  \\\n",
       "9270  DAEFRHDSGYEVHHQKLVFFAEDVGSNKGAIIGLMVGGVVIA        0        0   \n",
       "\n",
       "      Nmut_codons    WT   STOP  STOP_readthrough  mean_count count_e1_s0  ...  \\\n",
       "9270            0  True  False             False   5180649.0     6742700  ...   \n",
       "\n",
       "        fitness3_uncorr      sigma3_uncorr   fitness     sigma  nscore_c  \\\n",
       "9270  0.148268232234454  0.309149356001861 -0.067406  0.052937  0.018891   \n",
       "\n",
       "     sigma_norm_first_toWT category_sigma zscore_mode p.adjust_mode  \\\n",
       "9270              0.015931   classifiable    0.356859      0.804018   \n",
       "\n",
       "     category_dead  \n",
       "9270          dead  \n",
       "\n",
       "[1 rows x 29 columns]"
      ]
     },
     "execution_count": 12,
     "metadata": {},
     "output_type": "execute_result"
    }
   ],
   "source": [
    "all_variants['eLife_doubles'][all_variants['eLife_doubles']['WT'] == 'True']"
   ]
  },
  {
   "cell_type": "code",
   "execution_count": 13,
   "id": "f72d1219-03f0-4f4d-b318-75a14e5683a8",
   "metadata": {},
   "outputs": [
    {
     "name": "stdout",
     "output_type": "stream",
     "text": [
      "dataset: eLife_doubles\n",
      "(array(['', 'True'], dtype=object), array([15714,     1]))\n",
      "                                          aa_seq  Nham_aa    WT   fitness  \\\n",
      "7808  DAEFRHDSGYEVHHQKLVFFAEDVGSNKGAIIGLMVGGVVIA        0  True  0.018891   \n",
      "\n",
      "         sigma  \n",
      "7808  0.052937  \n",
      "                                              merge_seq  \\\n",
      "9270  gatgcagagttccgacatgactcaggatatgaagttcatcatcaaa...   \n",
      "\n",
      "                                          aa_seq  Nham_nt  Nham_aa  \\\n",
      "9270  DAEFRHDSGYEVHHQKLVFFAEDVGSNKGAIIGLMVGGVVIA        0        0   \n",
      "\n",
      "      Nmut_codons    WT   STOP  STOP_readthrough  mean_count count_e1_s0  ...  \\\n",
      "9270            0  True  False             False   5180649.0     6742700  ...   \n",
      "\n",
      "        fitness3_uncorr      sigma3_uncorr   fitness     sigma  nscore_c  \\\n",
      "9270  0.148268232234454  0.309149356001861 -0.067406  0.052937  0.018891   \n",
      "\n",
      "     sigma_norm_first_toWT category_sigma zscore_mode p.adjust_mode  \\\n",
      "9270              0.015931   classifiable    0.356859      0.804018   \n",
      "\n",
      "     category_dead  \n",
      "9270          dead  \n",
      "\n",
      "[1 rows x 29 columns]\n",
      "WT for current dataset is the same for class only file and all vars file:  True\n",
      "dataset: NNK_doubles\n",
      "(array(['', 'True'], dtype=object), array([20079,     1]))\n",
      "                aa_seq  Nham_aa    WT   fitness     sigma\n",
      "10564  KGAIIGLMVGGVVIA        0  True -0.094581  0.202355\n",
      "                                              nt_seq           aa_seq Nham_nt  \\\n",
      "14288  aaaggtgcaatcattggactcatggtgggcggtgttgtcatagcg  KGAIIGLMVGGVVIA       0   \n",
      "\n",
      "       Nham_aa Nmut_codons    WT  indel   STOP  STOP_readthrough  \\\n",
      "14288        0           0  True  False  False             False   \n",
      "\n",
      "          mean_count  ...  count_e2_s1  count_e3_s1      fitness1_uncorr  \\\n",
      "14288  185526.333333  ...       477975       965862  -0.0087208170790376   \n",
      "\n",
      "         fitness2_uncorr     fitness3_uncorr      sigma1_uncorr  \\\n",
      "14288  0.145126792980714  -0.136405975901676  0.355032101620933   \n",
      "\n",
      "           sigma2_uncorr      sigma3_uncorr   fitness     sigma  \n",
      "14288  0.323604878349056  0.379627597014525  0.015158  0.202355  \n",
      "\n",
      "[1 rows x 24 columns]\n",
      "WT for current dataset is the same for class only file and all vars file:  True\n",
      "dataset: Nicking_doubles\n",
      "(array(['', 'True'], dtype=object), array([21885,     1]))\n",
      "                             aa_seq  Nham_aa    WT   fitness     sigma\n",
      "12943  DAEFRHDSGYEVHHQKLVFFAEDVGSNK        0  True  0.053225  0.164876\n",
      "                                                  nt_seq  \\\n",
      "32591  gatgcagagttccgacatgactcaggatatgaagttcatcatcaaa...   \n",
      "\n",
      "                             aa_seq Nham_nt  Nham_aa  Nmut_codons    WT  \\\n",
      "32591  DAEFRHDSGYEVHHQKLVFFAEDVGSNK       0        0            0  True   \n",
      "\n",
      "       indel   STOP  STOP_readthrough    mean_count  ...  count_e2_s1  \\\n",
      "32591  False  False             False  1.745569e+06  ...      2326326   \n",
      "\n",
      "       count_e3_s1      fitness1_uncorr      sigma1_uncorr    fitness2_uncorr  \\\n",
      "32591      1186812  -0.0130608632065294  0.240933979600889  -0.10028775020425   \n",
      "\n",
      "           sigma2_uncorr    fitness3_uncorr      sigma3_uncorr   fitness  \\\n",
      "32591  0.311563814468563  0.113348613410779  0.328662146593157 -0.005676   \n",
      "\n",
      "          sigma  \n",
      "32591  0.164876  \n",
      "\n",
      "[1 rows x 24 columns]\n",
      "WT for current dataset is the same for class only file and all vars file:  True\n"
     ]
    }
   ],
   "source": [
    "# wt that are marked in class only files\n",
    "\n",
    "wt_class_only_files = {}\n",
    "wt_all_vars_files = {} # just to see if they are the same as in class only files\n",
    "\n",
    "for dataset in datasets:\n",
    "    print('dataset:', dataset)\n",
    "    print(np.unique(all_variants_class_only[dataset]['WT'], return_counts=True))\n",
    "    \n",
    "    wt_class_only_files[dataset] = list(all_variants_class_only[dataset][all_variants_class_only[dataset]['WT'] == 'True'].loc[:,'aa_seq'])[0]\n",
    "    wt_all_vars_files[dataset] = list(all_variants[dataset][all_variants[dataset]['WT'] == 'True'].loc[:,'aa_seq'])[0]\n",
    "    \n",
    "    print(all_variants_class_only[dataset][all_variants_class_only[dataset]['WT'] == 'True'])\n",
    "    print(all_variants[dataset][all_variants[dataset]['WT'] == 'True'])\n",
    "    \n",
    "    print('WT for current dataset is the same for class only file and all vars file: ', wt_class_only_files[dataset] == wt_all_vars_files[dataset])"
   ]
  },
  {
   "cell_type": "code",
   "execution_count": 14,
   "id": "64cb2f1f-5ed5-4d2b-8078-31f805ada8dc",
   "metadata": {},
   "outputs": [
    {
     "data": {
      "text/plain": [
       "{'eLife_doubles': 'DAEFRHDSGYEVHHQKLVFFAEDVGSNKGAIIGLMVGGVVIA',\n",
       " 'NNK_doubles': 'KGAIIGLMVGGVVIA',\n",
       " 'Nicking_doubles': 'DAEFRHDSGYEVHHQKLVFFAEDVGSNK'}"
      ]
     },
     "execution_count": 14,
     "metadata": {},
     "output_type": "execute_result"
    }
   ],
   "source": [
    "wt_class_only_files"
   ]
  },
  {
   "cell_type": "code",
   "execution_count": 15,
   "id": "03626993-a330-4888-a82b-bd2faf4e437a",
   "metadata": {},
   "outputs": [],
   "source": [
    "AB_WT = \"DAEFRHDSGYEVHHQKLVFFAEDVGSNKGAIIGLMVGGVVIA\""
   ]
  },
  {
   "cell_type": "code",
   "execution_count": 16,
   "id": "a3551b48-024b-4f78-a2b4-5fe16c47c933",
   "metadata": {},
   "outputs": [
    {
     "data": {
      "text/plain": [
       "True"
      ]
     },
     "execution_count": 16,
     "metadata": {},
     "output_type": "execute_result"
    }
   ],
   "source": [
    "wt_class_only_files['eLife_doubles'] == AB_WT"
   ]
  },
  {
   "cell_type": "code",
   "execution_count": 17,
   "id": "d5741d18-75cd-4ac9-87c1-c2f6c14925f2",
   "metadata": {},
   "outputs": [
    {
     "data": {
      "text/plain": [
       "True"
      ]
     },
     "execution_count": 17,
     "metadata": {},
     "output_type": "execute_result"
    }
   ],
   "source": [
    "wt_class_only_files['NNK_doubles'] in AB_WT"
   ]
  },
  {
   "cell_type": "code",
   "execution_count": 18,
   "id": "7efa35e7-548f-4f25-8aef-11d6284612d8",
   "metadata": {},
   "outputs": [
    {
     "data": {
      "text/plain": [
       "True"
      ]
     },
     "execution_count": 18,
     "metadata": {},
     "output_type": "execute_result"
    }
   ],
   "source": [
    "wt_class_only_files['Nicking_doubles'] in AB_WT"
   ]
  },
  {
   "cell_type": "markdown",
   "id": "015416e4-c429-46fc-a0ef-8f44d19a19d8",
   "metadata": {},
   "source": [
    "# Assigning the above variants WT in `all_variants_for_mochi`"
   ]
  },
  {
   "cell_type": "code",
   "execution_count": 19,
   "id": "0ca829f7-1a67-4bf6-bd8b-fa6f2a9fea15",
   "metadata": {},
   "outputs": [
    {
     "name": "stdout",
     "output_type": "stream",
     "text": [
      "eLife_doubles\n",
      "NNK_doubles\n",
      "Nicking_doubles\n"
     ]
    }
   ],
   "source": [
    "# subset to columns needed in mochi\n",
    "all_variants_for_mochi = {}\n",
    "all_variants_class_only_for_mochi = {}\n",
    "\n",
    "# in eLife taking the fitness column too (uncentered)\n",
    "\n",
    "for dataset in datasets:\n",
    "    print(dataset)\n",
    "    all_variants_for_mochi[dataset] = all_variants[dataset].loc[:,['aa_seq','Nham_aa','WT','fitness','sigma']]\n",
    "    all_variants_class_only_for_mochi[dataset] = all_variants_class_only[dataset].loc[:,['aa_seq','Nham_aa','WT','fitness','sigma']]\n",
    "    "
   ]
  },
  {
   "cell_type": "code",
   "execution_count": 20,
   "id": "a0d44e6c-9b2b-4822-99be-39e420ede0f3",
   "metadata": {},
   "outputs": [
    {
     "name": "stdout",
     "output_type": "stream",
     "text": [
      "eLife_doubles\n",
      "2582  rows here with WT aa_seq\n",
      "NNK_doubles\n",
      "1  rows here with WT aa_seq\n",
      "Nicking_doubles\n",
      "61  rows here with WT aa_seq\n"
     ]
    }
   ],
   "source": [
    "# indices of rows where aa_seq is WT\n",
    "wt_idx = {}\n",
    "\n",
    "for dataset in datasets:\n",
    "    print(dataset)\n",
    "    wt_idx[dataset] = list(all_variants_for_mochi[dataset][all_variants_for_mochi[dataset]['aa_seq'] == wt_class_only_files[dataset]].index)\n",
    "\n",
    "    print(len(wt_idx[dataset]), ' rows here with WT aa_seq')"
   ]
  },
  {
   "cell_type": "markdown",
   "id": "422e5b8a-9229-43d8-87d8-084cc5784afa",
   "metadata": {},
   "source": [
    "## Assigning WT = True to the first occurence of the WT sequence in aa_seq"
   ]
  },
  {
   "cell_type": "code",
   "execution_count": 21,
   "id": "901823d1-96a7-403f-b700-d034874e8b3c",
   "metadata": {},
   "outputs": [
    {
     "name": "stdout",
     "output_type": "stream",
     "text": [
      "eLife_doubles\n",
      "NNK_doubles\n",
      "Nicking_doubles\n"
     ]
    }
   ],
   "source": [
    "for dataset in datasets:\n",
    "    print(dataset)\n",
    "    all_variants[dataset].loc[wt_idx[dataset][0],'WT'] = 'True'\n",
    "    all_variants_for_mochi[dataset].loc[wt_idx[dataset][0],'WT'] = 'True'"
   ]
  },
  {
   "cell_type": "code",
   "execution_count": null,
   "id": "66ee7125-9bb3-447f-abf6-45999094b233",
   "metadata": {},
   "outputs": [],
   "source": []
  },
  {
   "cell_type": "code",
   "execution_count": 22,
   "id": "c5a4c2b6-fc95-40c4-b7ba-0b217fd756c3",
   "metadata": {},
   "outputs": [
    {
     "data": {
      "text/plain": [
       "Index(['merge_seq', 'aa_seq', 'Nham_nt', 'Nham_aa', 'Nmut_codons', 'WT',\n",
       "       'STOP', 'STOP_readthrough', 'mean_count', 'count_e1_s0', 'count_e2_s0',\n",
       "       'count_e3_s0', 'count_e1_s1', 'count_e2_s1', 'count_e3_s1',\n",
       "       'fitness1_uncorr', 'sigma1_uncorr', 'fitness2_uncorr', 'sigma2_uncorr',\n",
       "       'fitness3_uncorr', 'sigma3_uncorr', 'fitness', 'sigma', 'nscore_c',\n",
       "       'sigma_norm_first_toWT', 'category_sigma', 'zscore_mode',\n",
       "       'p.adjust_mode', 'category_dead'],\n",
       "      dtype='object')"
      ]
     },
     "execution_count": 22,
     "metadata": {},
     "output_type": "execute_result"
    }
   ],
   "source": [
    "all_variants['eLife_doubles'].columns"
   ]
  },
  {
   "cell_type": "code",
   "execution_count": 23,
   "id": "f6c71f08-bb62-4ebc-866a-fb4d2398186e",
   "metadata": {},
   "outputs": [
    {
     "data": {
      "text/plain": [
       "Index(['nt_seq', 'aa_seq', 'Nham_nt', 'Nham_aa', 'Nmut_codons', 'WT', 'indel',\n",
       "       'STOP', 'STOP_readthrough', 'mean_count', 'count_e1_s0', 'count_e2_s0',\n",
       "       'count_e3_s0', 'count_e1_s1', 'count_e2_s1', 'count_e3_s1',\n",
       "       'fitness1_uncorr', 'fitness2_uncorr', 'fitness3_uncorr',\n",
       "       'sigma1_uncorr', 'sigma2_uncorr', 'sigma3_uncorr', 'fitness', 'sigma'],\n",
       "      dtype='object')"
      ]
     },
     "execution_count": 23,
     "metadata": {},
     "output_type": "execute_result"
    }
   ],
   "source": [
    "all_variants['NNK_doubles'].columns"
   ]
  },
  {
   "cell_type": "code",
   "execution_count": 24,
   "id": "7df2cc77-3958-41ea-ae55-8290aa254333",
   "metadata": {},
   "outputs": [
    {
     "data": {
      "text/plain": [
       "Index(['nt_seq', 'aa_seq', 'Nham_nt', 'Nham_aa', 'Nmut_codons', 'WT', 'indel',\n",
       "       'STOP', 'STOP_readthrough', 'mean_count', 'count_e1_s0', 'count_e2_s0',\n",
       "       'count_e3_s0', 'count_e1_s1', 'count_e2_s1', 'count_e3_s1',\n",
       "       'fitness1_uncorr', 'sigma1_uncorr', 'fitness2_uncorr', 'sigma2_uncorr',\n",
       "       'fitness3_uncorr', 'sigma3_uncorr', 'fitness', 'sigma'],\n",
       "      dtype='object')"
      ]
     },
     "execution_count": 24,
     "metadata": {},
     "output_type": "execute_result"
    }
   ],
   "source": [
    "all_variants['Nicking_doubles'].columns"
   ]
  },
  {
   "cell_type": "code",
   "execution_count": 25,
   "id": "f940a36f-4f5a-48cb-b870-7a9c2cbb2827",
   "metadata": {
    "tags": []
   },
   "outputs": [
    {
     "name": "stdout",
     "output_type": "stream",
     "text": [
      "eLife_doubles\n",
      "NNK_doubles\n",
      "Nicking_doubles\n"
     ]
    }
   ],
   "source": [
    "# save to then use in some figure making (Fig.1d)\n",
    "for dataset in datasets:\n",
    "    print(dataset)\n",
    "    all_variants[dataset].to_csv(corrected_files_dir + 'all_variants_corrected_' + dataset + '_full_table_for_plotting.tsv')"
   ]
  },
  {
   "cell_type": "code",
   "execution_count": 26,
   "id": "ec997a27-31df-4044-a9ec-bdd3eb433dcf",
   "metadata": {
    "tags": []
   },
   "outputs": [
    {
     "data": {
      "text/plain": [
       "'/lustre/scratch126/gengen/projects/amyloid_beta_epistasis/Previous_files_from_Mireia/Doubles_datasets/dimsum_outputs/corrected_fitness_abundance_files_Anna/'"
      ]
     },
     "execution_count": 26,
     "metadata": {},
     "output_type": "execute_result"
    }
   ],
   "source": [
    "corrected_files_dir"
   ]
  },
  {
   "cell_type": "code",
   "execution_count": null,
   "id": "c0025f80-01b0-4476-972f-5c211f3425e6",
   "metadata": {},
   "outputs": [],
   "source": []
  },
  {
   "cell_type": "code",
   "execution_count": 25,
   "id": "76561ff4-65c5-4776-90f4-a59490a4d4b2",
   "metadata": {},
   "outputs": [
    {
     "data": {
      "text/html": [
       "<div>\n",
       "<style scoped>\n",
       "    .dataframe tbody tr th:only-of-type {\n",
       "        vertical-align: middle;\n",
       "    }\n",
       "\n",
       "    .dataframe tbody tr th {\n",
       "        vertical-align: top;\n",
       "    }\n",
       "\n",
       "    .dataframe thead th {\n",
       "        text-align: right;\n",
       "    }\n",
       "</style>\n",
       "<table border=\"1\" class=\"dataframe\">\n",
       "  <thead>\n",
       "    <tr style=\"text-align: right;\">\n",
       "      <th></th>\n",
       "      <th>aa_seq</th>\n",
       "      <th>Nham_aa</th>\n",
       "      <th>WT</th>\n",
       "      <th>fitness</th>\n",
       "      <th>sigma</th>\n",
       "    </tr>\n",
       "  </thead>\n",
       "  <tbody>\n",
       "    <tr>\n",
       "      <th>1</th>\n",
       "      <td>KAEFRHDSGYEVHHQKLVFFAEDVGSNKGAIIGLMVGGVVIA</td>\n",
       "      <td>1</td>\n",
       "      <td></td>\n",
       "      <td>-0.117352</td>\n",
       "      <td>0.387033</td>\n",
       "    </tr>\n",
       "    <tr>\n",
       "      <th>2</th>\n",
       "      <td>NAEFRHDSGYEVHHQKLVFFAEDVGSNKGAIIGLMVGGVVIA</td>\n",
       "      <td>1</td>\n",
       "      <td></td>\n",
       "      <td>0.352500</td>\n",
       "      <td>0.062247</td>\n",
       "    </tr>\n",
       "    <tr>\n",
       "      <th>3</th>\n",
       "      <td>NTEFRHDSGYEVHHQKLVFFAEDVGSNKGAIIGLMVGGVVIA</td>\n",
       "      <td>2</td>\n",
       "      <td></td>\n",
       "      <td>0.381524</td>\n",
       "      <td>0.420981</td>\n",
       "    </tr>\n",
       "    <tr>\n",
       "      <th>4</th>\n",
       "      <td>NEEFRHDSGYEVHHQKLVFFAEDVGSNKGAIIGLMVGGVVIA</td>\n",
       "      <td>2</td>\n",
       "      <td></td>\n",
       "      <td>0.052856</td>\n",
       "      <td>0.450957</td>\n",
       "    </tr>\n",
       "    <tr>\n",
       "      <th>5</th>\n",
       "      <td>NAKFRHDSGYEVHHQKLVFFAEDVGSNKGAIIGLMVGGVVIA</td>\n",
       "      <td>2</td>\n",
       "      <td></td>\n",
       "      <td>0.495394</td>\n",
       "      <td>0.711069</td>\n",
       "    </tr>\n",
       "    <tr>\n",
       "      <th>...</th>\n",
       "      <td>...</td>\n",
       "      <td>...</td>\n",
       "      <td>...</td>\n",
       "      <td>...</td>\n",
       "      <td>...</td>\n",
       "    </tr>\n",
       "    <tr>\n",
       "      <th>18645</th>\n",
       "      <td>YAEFLHDSGYEVHHQKLVFFAEDVGSNKGAIIGLMVGGVVIA</td>\n",
       "      <td>2</td>\n",
       "      <td></td>\n",
       "      <td>-0.885994</td>\n",
       "      <td>0.894598</td>\n",
       "    </tr>\n",
       "    <tr>\n",
       "      <th>18646</th>\n",
       "      <td>YAVFRHDSGYEVHHQKLVFFAEDVGSNKGAIIGLMVGGVVIA</td>\n",
       "      <td>2</td>\n",
       "      <td></td>\n",
       "      <td>-2.245360</td>\n",
       "      <td>1.278978</td>\n",
       "    </tr>\n",
       "    <tr>\n",
       "      <th>18647</th>\n",
       "      <td>YVEFRHDSGYEVHHQKLVFFAEDVGSNKGAIIGLMVGGVVIA</td>\n",
       "      <td>2</td>\n",
       "      <td></td>\n",
       "      <td>-3.576266</td>\n",
       "      <td>0.732316</td>\n",
       "    </tr>\n",
       "    <tr>\n",
       "      <th>18648</th>\n",
       "      <td>CAEFRHDSGYEVHHQKLVFFAEDVGSNKGAIIGLMVGGVVIA</td>\n",
       "      <td>1</td>\n",
       "      <td></td>\n",
       "      <td>0.066515</td>\n",
       "      <td>0.359042</td>\n",
       "    </tr>\n",
       "    <tr>\n",
       "      <th>18649</th>\n",
       "      <td>FAEFRHDSGYEVHHQKLVFFAEDVGSNKGAIIGLMVGGVVIA</td>\n",
       "      <td>1</td>\n",
       "      <td></td>\n",
       "      <td>0.327003</td>\n",
       "      <td>0.640515</td>\n",
       "    </tr>\n",
       "  </tbody>\n",
       "</table>\n",
       "<p>18649 rows × 5 columns</p>\n",
       "</div>"
      ],
      "text/plain": [
       "                                           aa_seq  Nham_aa WT   fitness  \\\n",
       "1      KAEFRHDSGYEVHHQKLVFFAEDVGSNKGAIIGLMVGGVVIA        1    -0.117352   \n",
       "2      NAEFRHDSGYEVHHQKLVFFAEDVGSNKGAIIGLMVGGVVIA        1     0.352500   \n",
       "3      NTEFRHDSGYEVHHQKLVFFAEDVGSNKGAIIGLMVGGVVIA        2     0.381524   \n",
       "4      NEEFRHDSGYEVHHQKLVFFAEDVGSNKGAIIGLMVGGVVIA        2     0.052856   \n",
       "5      NAKFRHDSGYEVHHQKLVFFAEDVGSNKGAIIGLMVGGVVIA        2     0.495394   \n",
       "...                                           ...      ... ..       ...   \n",
       "18645  YAEFLHDSGYEVHHQKLVFFAEDVGSNKGAIIGLMVGGVVIA        2    -0.885994   \n",
       "18646  YAVFRHDSGYEVHHQKLVFFAEDVGSNKGAIIGLMVGGVVIA        2    -2.245360   \n",
       "18647  YVEFRHDSGYEVHHQKLVFFAEDVGSNKGAIIGLMVGGVVIA        2    -3.576266   \n",
       "18648  CAEFRHDSGYEVHHQKLVFFAEDVGSNKGAIIGLMVGGVVIA        1     0.066515   \n",
       "18649  FAEFRHDSGYEVHHQKLVFFAEDVGSNKGAIIGLMVGGVVIA        1     0.327003   \n",
       "\n",
       "          sigma  \n",
       "1      0.387033  \n",
       "2      0.062247  \n",
       "3      0.420981  \n",
       "4      0.450957  \n",
       "5      0.711069  \n",
       "...         ...  \n",
       "18645  0.894598  \n",
       "18646  1.278978  \n",
       "18647  0.732316  \n",
       "18648  0.359042  \n",
       "18649  0.640515  \n",
       "\n",
       "[18649 rows x 5 columns]"
      ]
     },
     "execution_count": 25,
     "metadata": {},
     "output_type": "execute_result"
    }
   ],
   "source": [
    "all_variants_for_mochi['eLife_doubles']"
   ]
  },
  {
   "cell_type": "code",
   "execution_count": 35,
   "id": "931a87d9-160c-4998-b5f7-620b34fdebeb",
   "metadata": {},
   "outputs": [
    {
     "data": {
      "text/plain": [
       "(array(['', 'True'], dtype=object), array([28529,     1]))"
      ]
     },
     "execution_count": 35,
     "metadata": {},
     "output_type": "execute_result"
    }
   ],
   "source": [
    "np.unique(all_variants_for_mochi['NNK_doubles']['WT'], return_counts=True)"
   ]
  },
  {
   "cell_type": "code",
   "execution_count": 36,
   "id": "9a789888-cbff-4413-a824-b8ce4741fedc",
   "metadata": {},
   "outputs": [
    {
     "data": {
      "text/plain": [
       "(array(['', 'True'], dtype=object), array([54708,     1]))"
      ]
     },
     "execution_count": 36,
     "metadata": {},
     "output_type": "execute_result"
    }
   ],
   "source": [
    "np.unique(all_variants_for_mochi['Nicking_doubles']['WT'], return_counts=True)"
   ]
  },
  {
   "cell_type": "code",
   "execution_count": 37,
   "id": "50d125c4-f956-4111-861c-1d0c8327a2d1",
   "metadata": {},
   "outputs": [
    {
     "data": {
      "text/plain": [
       "(array(['', 'True'], dtype=object), array([18648,     1]))"
      ]
     },
     "execution_count": 37,
     "metadata": {},
     "output_type": "execute_result"
    }
   ],
   "source": [
    "np.unique(all_variants_for_mochi['eLife_doubles']['WT'], return_counts=True)"
   ]
  },
  {
   "cell_type": "code",
   "execution_count": null,
   "id": "26f04328-acf9-4c2b-a61a-6298995501da",
   "metadata": {},
   "outputs": [],
   "source": []
  },
  {
   "cell_type": "code",
   "execution_count": null,
   "id": "cff0a0d7-0a20-4dff-9d55-748b95b9d6b6",
   "metadata": {},
   "outputs": [],
   "source": []
  },
  {
   "cell_type": "code",
   "execution_count": null,
   "id": "a4d39a34-5149-4e2a-bcdb-507425822bb0",
   "metadata": {},
   "outputs": [],
   "source": []
  },
  {
   "cell_type": "code",
   "execution_count": null,
   "id": "aa3a6614-5f20-4417-b669-18e430c348ef",
   "metadata": {},
   "outputs": [],
   "source": []
  },
  {
   "cell_type": "code",
   "execution_count": null,
   "id": "173c6578-4584-418a-95cf-9b55ddf49e3d",
   "metadata": {},
   "outputs": [],
   "source": []
  },
  {
   "cell_type": "code",
   "execution_count": 38,
   "id": "116a396d-6333-4c0e-bbad-b9449e82b8bb",
   "metadata": {},
   "outputs": [
    {
     "name": "stdout",
     "output_type": "stream",
     "text": [
      "eLife_doubles\n",
      "saving to /lustre/scratch126/gengen/projects/amyloid_beta_epistasis/Previous_files_from_Mireia/Doubles_datasets/dimsum_outputs/corrected_fitness_abundance_files_Anna/mochi_eLife_doubles_all_variants_corrected.tsv\n",
      "NNK_doubles\n",
      "saving to /lustre/scratch126/gengen/projects/amyloid_beta_epistasis/Previous_files_from_Mireia/Doubles_datasets/dimsum_outputs/corrected_fitness_abundance_files_Anna/mochi_NNK_doubles_all_variants_corrected.tsv\n",
      "Nicking_doubles\n",
      "saving to /lustre/scratch126/gengen/projects/amyloid_beta_epistasis/Previous_files_from_Mireia/Doubles_datasets/dimsum_outputs/corrected_fitness_abundance_files_Anna/mochi_Nicking_doubles_all_variants_corrected.tsv\n"
     ]
    }
   ],
   "source": [
    "# resaving\n",
    "\n",
    "for dataset in datasets:\n",
    "    print(dataset)\n",
    "    curr_path = corrected_files_dir + 'mochi_' + dataset + '_all_variants_corrected.tsv'\n",
    "    print('saving to', curr_path)\n",
    "    all_variants_for_mochi[dataset].to_csv(curr_path,\n",
    "                                    index=False,\n",
    "                                    sep='\\t')"
   ]
  },
  {
   "cell_type": "code",
   "execution_count": null,
   "id": "5b20de83-bdc1-4db8-a9a3-452982600ef2",
   "metadata": {},
   "outputs": [],
   "source": []
  }
 ],
 "metadata": {
  "kernelspec": {
   "display_name": "Python 3 (ipykernel)",
   "language": "python",
   "name": "python3"
  },
  "language_info": {
   "codemirror_mode": {
    "name": "ipython",
    "version": 3
   },
   "file_extension": ".py",
   "mimetype": "text/x-python",
   "name": "python",
   "nbconvert_exporter": "python",
   "pygments_lexer": "ipython3",
   "version": "3.11.4"
  }
 },
 "nbformat": 4,
 "nbformat_minor": 5
}
