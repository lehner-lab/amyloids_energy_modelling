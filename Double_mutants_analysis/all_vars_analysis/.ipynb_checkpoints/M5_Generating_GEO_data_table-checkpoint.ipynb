{
 "cells": [
  {
   "cell_type": "markdown",
   "id": "7444e3ea-24ed-4338-9638-519bdb9043da",
   "metadata": {},
   "source": [
    "# Generating table for GEO upload with DiMSum outputs for all the datasets used in the study"
   ]
  },
  {
   "cell_type": "code",
   "execution_count": 1,
   "id": "97b4f982-92f4-4271-a5ae-5cd82a031e15",
   "metadata": {},
   "outputs": [],
   "source": [
    "import pandas as pd\n",
    "import numpy as np\n",
    "import seaborn as sns"
   ]
  },
  {
   "cell_type": "code",
   "execution_count": 2,
   "id": "952b251d-291e-46da-ae9a-89ac9bcca537",
   "metadata": {},
   "outputs": [],
   "source": [
    "pd.set_option('display.max_rows', 500)"
   ]
  },
  {
   "cell_type": "markdown",
   "id": "46603d56-e454-40c2-8d5d-5025c5f2a914",
   "metadata": {
    "tags": []
   },
   "source": [
    "## Read in DiMSum output files with all variants of doubles datasets"
   ]
  },
  {
   "cell_type": "code",
   "execution_count": 3,
   "id": "c50c8831-4d4f-4904-9a1d-90b5a7895bd4",
   "metadata": {
    "tags": []
   },
   "outputs": [],
   "source": [
    "datasets = ['eLife_doubles','NNK_doubles','Nicking_doubles']"
   ]
  },
  {
   "cell_type": "code",
   "execution_count": 4,
   "id": "02c81c4f-7716-4ffe-aca6-eab52c0d23d6",
   "metadata": {
    "tags": []
   },
   "outputs": [
    {
     "name": "stdout",
     "output_type": "stream",
     "text": [
      "eLife_doubles\n",
      "NNK_doubles\n",
      "Nicking_doubles\n"
     ]
    },
    {
     "name": "stderr",
     "output_type": "stream",
     "text": [
      "/tmp/ipykernel_3792008/3546296216.py:9: DtypeWarning: Columns (6) have mixed types. Specify dtype option on import or set low_memory=False.\n",
      "  all_variants[dataset] = pd.read_csv(corrected_files_dir + 'all_variants_corrected_' + dataset + '_full_table_for_plotting.tsv',\n"
     ]
    }
   ],
   "source": [
    "# produced and saved in notebook M0 in this directory\n",
    "\n",
    "corrected_files_dir = '/lustre/scratch126/gengen/projects/amyloid_beta_epistasis/Previous_files_from_Mireia/Doubles_datasets/dimsum_outputs/corrected_fitness_abundance_files_Anna/'\n",
    "\n",
    "all_variants = {}\n",
    "\n",
    "for dataset in datasets:\n",
    "    print(dataset)\n",
    "    all_variants[dataset] = pd.read_csv(corrected_files_dir + 'all_variants_corrected_' + dataset + '_full_table_for_plotting.tsv',\n",
    "                                       index_col=0)"
   ]
  },
  {
   "cell_type": "code",
   "execution_count": 5,
   "id": "5b3ec335-aaff-4f23-9429-e7e96ee6cb0c",
   "metadata": {
    "tags": []
   },
   "outputs": [
    {
     "data": {
      "text/plain": [
       "18649"
      ]
     },
     "execution_count": 5,
     "metadata": {},
     "output_type": "execute_result"
    }
   ],
   "source": [
    "len(all_variants['eLife_doubles'])"
   ]
  },
  {
   "cell_type": "code",
   "execution_count": 6,
   "id": "b1a11574-7150-4663-aa00-9ad1d97d482e",
   "metadata": {
    "tags": []
   },
   "outputs": [
    {
     "data": {
      "text/plain": [
       "28530"
      ]
     },
     "execution_count": 6,
     "metadata": {},
     "output_type": "execute_result"
    }
   ],
   "source": [
    "len(all_variants['NNK_doubles'])"
   ]
  },
  {
   "cell_type": "code",
   "execution_count": 7,
   "id": "245725e7-8561-4379-b058-a4efd1377205",
   "metadata": {
    "tags": []
   },
   "outputs": [
    {
     "data": {
      "text/plain": [
       "54709"
      ]
     },
     "execution_count": 7,
     "metadata": {},
     "output_type": "execute_result"
    }
   ],
   "source": [
    "len(all_variants['Nicking_doubles'])"
   ]
  },
  {
   "cell_type": "code",
   "execution_count": 8,
   "id": "48284eb3-2919-4421-b734-23cf99947200",
   "metadata": {
    "tags": []
   },
   "outputs": [
    {
     "name": "stdout",
     "output_type": "stream",
     "text": [
      "eLife_doubles\n",
      "[42]\n",
      "NNK_doubles\n",
      "[15]\n",
      "Nicking_doubles\n",
      "[28]\n"
     ]
    }
   ],
   "source": [
    "for dataset in datasets:\n",
    "    print(dataset)\n",
    "    print(np.unique([len(aa_seq) for aa_seq in all_variants[dataset].aa_seq]))"
   ]
  },
  {
   "cell_type": "code",
   "execution_count": null,
   "id": "6a09e690-a89c-4ea8-bae4-343255c65e08",
   "metadata": {},
   "outputs": [],
   "source": []
  },
  {
   "cell_type": "markdown",
   "id": "14d63ab8-7d2a-4e5e-8d30-7f1a80add1d8",
   "metadata": {
    "tags": []
   },
   "source": [
    "## Read in DiMSum output files with all variants of combinatorial datasets"
   ]
  },
  {
   "cell_type": "code",
   "execution_count": 9,
   "id": "949d3b27-4bd5-42e3-afff-7ca91d043d2a",
   "metadata": {},
   "outputs": [],
   "source": [
    "# DTS libraries/datasets we will be working with\n",
    "libs_DTS = ['DTS01','DTS05']\n",
    "\n",
    "lib_paths_dimsum = {}\n",
    "lib_paths_dimsum['DTS01'] = '/lustre/scratch126/gengen/projects/amyloid_beta_epistasis/Previous_files_from_Mireia/Combinatorial_DTS01_c-terminus/dimsum_min10/'\n",
    "lib_paths_dimsum['DTS05'] = '/lustre/scratch126/gengen/projects/amyloid_beta_epistasis/Previous_files_from_Mireia/Combinatorial_DTS_c-terminus/dimsum/AB_DTS05/'\n"
   ]
  },
  {
   "cell_type": "code",
   "execution_count": 10,
   "id": "236e3b00-95bf-4f5b-a572-3b2a27adb2b7",
   "metadata": {},
   "outputs": [
    {
     "name": "stdout",
     "output_type": "stream",
     "text": [
      "DTS01\n",
      "DTS05\n"
     ]
    }
   ],
   "source": [
    "for lib in libs_DTS:\n",
    "    print(lib)\n",
    "    all_variants[lib] = pd.read_csv(lib_paths_dimsum[lib] + 'all_variants.csv',\n",
    "                          index_col=0, keep_default_na=False)"
   ]
  },
  {
   "cell_type": "code",
   "execution_count": 11,
   "id": "f0e6e827-c085-4922-aeb8-3efd3a226a60",
   "metadata": {},
   "outputs": [
    {
     "data": {
      "text/html": [
       "<div>\n",
       "<style scoped>\n",
       "    .dataframe tbody tr th:only-of-type {\n",
       "        vertical-align: middle;\n",
       "    }\n",
       "\n",
       "    .dataframe tbody tr th {\n",
       "        vertical-align: top;\n",
       "    }\n",
       "\n",
       "    .dataframe thead th {\n",
       "        text-align: right;\n",
       "    }\n",
       "</style>\n",
       "<table border=\"1\" class=\"dataframe\">\n",
       "  <thead>\n",
       "    <tr style=\"text-align: right;\">\n",
       "      <th></th>\n",
       "      <th>nt_seq</th>\n",
       "      <th>aa_seq</th>\n",
       "      <th>Nham_nt</th>\n",
       "      <th>Nham_aa</th>\n",
       "      <th>Nmut_codons</th>\n",
       "      <th>WT</th>\n",
       "      <th>indel</th>\n",
       "      <th>STOP</th>\n",
       "      <th>STOP_readthrough</th>\n",
       "      <th>count_e1_s0</th>\n",
       "      <th>...</th>\n",
       "      <th>count_e3_s1</th>\n",
       "      <th>mean_count</th>\n",
       "      <th>fitness1_uncorr</th>\n",
       "      <th>fitness2_uncorr</th>\n",
       "      <th>fitness3_uncorr</th>\n",
       "      <th>sigma1_uncorr</th>\n",
       "      <th>sigma2_uncorr</th>\n",
       "      <th>sigma3_uncorr</th>\n",
       "      <th>fitness</th>\n",
       "      <th>sigma</th>\n",
       "    </tr>\n",
       "  </thead>\n",
       "  <tbody>\n",
       "    <tr>\n",
       "      <th>1</th>\n",
       "      <td>NA</td>\n",
       "      <td>GAIIGIIIGGMLLA</td>\n",
       "      <td>NA</td>\n",
       "      <td>6</td>\n",
       "      <td>NA</td>\n",
       "      <td>NA</td>\n",
       "      <td>False</td>\n",
       "      <td>False</td>\n",
       "      <td>False</td>\n",
       "      <td>57</td>\n",
       "      <td>...</td>\n",
       "      <td>0</td>\n",
       "      <td>45.000000</td>\n",
       "      <td>-6.29053521179474</td>\n",
       "      <td>-7.14809196834481</td>\n",
       "      <td>NA</td>\n",
       "      <td>1.49279257546146</td>\n",
       "      <td>3.08419531769185</td>\n",
       "      <td>NA</td>\n",
       "      <td>-6.453303</td>\n",
       "      <td>1.343676</td>\n",
       "    </tr>\n",
       "    <tr>\n",
       "      <th>2</th>\n",
       "      <td>NA</td>\n",
       "      <td>GAIIGIIIGGVMMA</td>\n",
       "      <td>NA</td>\n",
       "      <td>5</td>\n",
       "      <td>NA</td>\n",
       "      <td>NA</td>\n",
       "      <td>False</td>\n",
       "      <td>False</td>\n",
       "      <td>False</td>\n",
       "      <td>490</td>\n",
       "      <td>...</td>\n",
       "      <td>7</td>\n",
       "      <td>372.666667</td>\n",
       "      <td>-6.57008715816327</td>\n",
       "      <td>-7.1750243660309</td>\n",
       "      <td>-6.56069181549137</td>\n",
       "      <td>0.875822329055295</td>\n",
       "      <td>1.33904356492612</td>\n",
       "      <td>1.06221836345588</td>\n",
       "      <td>-6.689845</td>\n",
       "      <td>0.603279</td>\n",
       "    </tr>\n",
       "    <tr>\n",
       "      <th>3</th>\n",
       "      <td>NA</td>\n",
       "      <td>GAIIGIIIGGVIMA</td>\n",
       "      <td>NA</td>\n",
       "      <td>5</td>\n",
       "      <td>NA</td>\n",
       "      <td>NA</td>\n",
       "      <td>False</td>\n",
       "      <td>False</td>\n",
       "      <td>False</td>\n",
       "      <td>33</td>\n",
       "      <td>...</td>\n",
       "      <td>0</td>\n",
       "      <td>29.500000</td>\n",
       "      <td>-6.43713868598662</td>\n",
       "      <td>NA</td>\n",
       "      <td>NA</td>\n",
       "      <td>1.97777649195475</td>\n",
       "      <td>NA</td>\n",
       "      <td>NA</td>\n",
       "      <td>-6.437139</td>\n",
       "      <td>1.977776</td>\n",
       "    </tr>\n",
       "    <tr>\n",
       "      <th>4</th>\n",
       "      <td>NA</td>\n",
       "      <td>GAIIGIIMGGFMFA</td>\n",
       "      <td>NA</td>\n",
       "      <td>5</td>\n",
       "      <td>NA</td>\n",
       "      <td>NA</td>\n",
       "      <td>False</td>\n",
       "      <td>False</td>\n",
       "      <td>False</td>\n",
       "      <td>55</td>\n",
       "      <td>...</td>\n",
       "      <td>5</td>\n",
       "      <td>112.333333</td>\n",
       "      <td>NA</td>\n",
       "      <td>-5.59153127700666</td>\n",
       "      <td>-6.44188278403944</td>\n",
       "      <td>NA</td>\n",
       "      <td>1.22839899062725</td>\n",
       "      <td>1.18020173448254</td>\n",
       "      <td>-6.033716</td>\n",
       "      <td>0.851058</td>\n",
       "    </tr>\n",
       "    <tr>\n",
       "      <th>5</th>\n",
       "      <td>NA</td>\n",
       "      <td>GAIIGIIVGGIILA</td>\n",
       "      <td>NA</td>\n",
       "      <td>5</td>\n",
       "      <td>NA</td>\n",
       "      <td>NA</td>\n",
       "      <td>False</td>\n",
       "      <td>False</td>\n",
       "      <td>False</td>\n",
       "      <td>23</td>\n",
       "      <td>...</td>\n",
       "      <td>18</td>\n",
       "      <td>16.500000</td>\n",
       "      <td>NA</td>\n",
       "      <td>NA</td>\n",
       "      <td>-2.67646016687167</td>\n",
       "      <td>NA</td>\n",
       "      <td>NA</td>\n",
       "      <td>1.38928292456688</td>\n",
       "      <td>-2.676460</td>\n",
       "      <td>1.389283</td>\n",
       "    </tr>\n",
       "    <tr>\n",
       "      <th>...</th>\n",
       "      <td>...</td>\n",
       "      <td>...</td>\n",
       "      <td>...</td>\n",
       "      <td>...</td>\n",
       "      <td>...</td>\n",
       "      <td>...</td>\n",
       "      <td>...</td>\n",
       "      <td>...</td>\n",
       "      <td>...</td>\n",
       "      <td>...</td>\n",
       "      <td>...</td>\n",
       "      <td>...</td>\n",
       "      <td>...</td>\n",
       "      <td>...</td>\n",
       "      <td>...</td>\n",
       "      <td>...</td>\n",
       "      <td>...</td>\n",
       "      <td>...</td>\n",
       "      <td>...</td>\n",
       "      <td>...</td>\n",
       "      <td>...</td>\n",
       "    </tr>\n",
       "    <tr>\n",
       "      <th>37667</th>\n",
       "      <td>NA</td>\n",
       "      <td>GALLGLLLGGVMFA</td>\n",
       "      <td>NA</td>\n",
       "      <td>5</td>\n",
       "      <td>NA</td>\n",
       "      <td>NA</td>\n",
       "      <td>False</td>\n",
       "      <td>False</td>\n",
       "      <td>False</td>\n",
       "      <td>139</td>\n",
       "      <td>...</td>\n",
       "      <td>16</td>\n",
       "      <td>159.000000</td>\n",
       "      <td>NA</td>\n",
       "      <td>-6.43112057193056</td>\n",
       "      <td>-5.57746890384693</td>\n",
       "      <td>NA</td>\n",
       "      <td>1.52928197462871</td>\n",
       "      <td>0.899488200209036</td>\n",
       "      <td>-5.796884</td>\n",
       "      <td>0.775319</td>\n",
       "    </tr>\n",
       "    <tr>\n",
       "      <th>37668</th>\n",
       "      <td>NA</td>\n",
       "      <td>GALLGLLLGGVLVA</td>\n",
       "      <td>NA</td>\n",
       "      <td>6</td>\n",
       "      <td>NA</td>\n",
       "      <td>NA</td>\n",
       "      <td>False</td>\n",
       "      <td>False</td>\n",
       "      <td>False</td>\n",
       "      <td>155</td>\n",
       "      <td>...</td>\n",
       "      <td>0</td>\n",
       "      <td>143.000000</td>\n",
       "      <td>-6.19229677221133</td>\n",
       "      <td>-7.52312808633473</td>\n",
       "      <td>NA</td>\n",
       "      <td>1.04206894651161</td>\n",
       "      <td>3.07632452941573</td>\n",
       "      <td>NA</td>\n",
       "      <td>-6.329283</td>\n",
       "      <td>0.986981</td>\n",
       "    </tr>\n",
       "    <tr>\n",
       "      <th>37669</th>\n",
       "      <td>NA</td>\n",
       "      <td>GALLGLLLGGVFIA</td>\n",
       "      <td>NA</td>\n",
       "      <td>6</td>\n",
       "      <td>NA</td>\n",
       "      <td>NA</td>\n",
       "      <td>False</td>\n",
       "      <td>False</td>\n",
       "      <td>False</td>\n",
       "      <td>81</td>\n",
       "      <td>...</td>\n",
       "      <td>5</td>\n",
       "      <td>91.000000</td>\n",
       "      <td>NA</td>\n",
       "      <td>-5.39147534169413</td>\n",
       "      <td>-5.8292317562616</td>\n",
       "      <td>NA</td>\n",
       "      <td>1.21333443870815</td>\n",
       "      <td>1.21026620028259</td>\n",
       "      <td>-5.610908</td>\n",
       "      <td>0.856870</td>\n",
       "    </tr>\n",
       "    <tr>\n",
       "      <th>37670</th>\n",
       "      <td>NA</td>\n",
       "      <td>GALLGLLLGGFIFA</td>\n",
       "      <td>NA</td>\n",
       "      <td>6</td>\n",
       "      <td>NA</td>\n",
       "      <td>NA</td>\n",
       "      <td>False</td>\n",
       "      <td>False</td>\n",
       "      <td>False</td>\n",
       "      <td>144</td>\n",
       "      <td>...</td>\n",
       "      <td>7</td>\n",
       "      <td>96.666667</td>\n",
       "      <td>-6.11868495486808</td>\n",
       "      <td>-8.02822603288643</td>\n",
       "      <td>-4.58625302029274</td>\n",
       "      <td>1.04393337020561</td>\n",
       "      <td>3.06911460776611</td>\n",
       "      <td>1.21782402854677</td>\n",
       "      <td>-5.629564</td>\n",
       "      <td>0.767410</td>\n",
       "    </tr>\n",
       "    <tr>\n",
       "      <th>37671</th>\n",
       "      <td>NA</td>\n",
       "      <td>GALLGLLLGGFFVA</td>\n",
       "      <td>NA</td>\n",
       "      <td>7</td>\n",
       "      <td>NA</td>\n",
       "      <td>NA</td>\n",
       "      <td>False</td>\n",
       "      <td>False</td>\n",
       "      <td>False</td>\n",
       "      <td>270</td>\n",
       "      <td>...</td>\n",
       "      <td>14</td>\n",
       "      <td>331.666667</td>\n",
       "      <td>-6.45961154183867</td>\n",
       "      <td>-6.70305151149813</td>\n",
       "      <td>-6.08130367280625</td>\n",
       "      <td>0.965582254768953</td>\n",
       "      <td>1.12450809212606</td>\n",
       "      <td>0.908589233108079</td>\n",
       "      <td>-6.373183</td>\n",
       "      <td>0.570293</td>\n",
       "    </tr>\n",
       "  </tbody>\n",
       "</table>\n",
       "<p>37671 rows × 24 columns</p>\n",
       "</div>"
      ],
      "text/plain": [
       "      nt_seq          aa_seq Nham_nt  Nham_aa Nmut_codons  WT  indel   STOP  \\\n",
       "1         NA  GAIIGIIIGGMLLA      NA        6          NA  NA  False  False   \n",
       "2         NA  GAIIGIIIGGVMMA      NA        5          NA  NA  False  False   \n",
       "3         NA  GAIIGIIIGGVIMA      NA        5          NA  NA  False  False   \n",
       "4         NA  GAIIGIIMGGFMFA      NA        5          NA  NA  False  False   \n",
       "5         NA  GAIIGIIVGGIILA      NA        5          NA  NA  False  False   \n",
       "...      ...             ...     ...      ...         ...  ..    ...    ...   \n",
       "37667     NA  GALLGLLLGGVMFA      NA        5          NA  NA  False  False   \n",
       "37668     NA  GALLGLLLGGVLVA      NA        6          NA  NA  False  False   \n",
       "37669     NA  GALLGLLLGGVFIA      NA        6          NA  NA  False  False   \n",
       "37670     NA  GALLGLLLGGFIFA      NA        6          NA  NA  False  False   \n",
       "37671     NA  GALLGLLLGGFFVA      NA        7          NA  NA  False  False   \n",
       "\n",
       "       STOP_readthrough count_e1_s0  ... count_e3_s1  mean_count  \\\n",
       "1                 False          57  ...           0   45.000000   \n",
       "2                 False         490  ...           7  372.666667   \n",
       "3                 False          33  ...           0   29.500000   \n",
       "4                 False          55  ...           5  112.333333   \n",
       "5                 False          23  ...          18   16.500000   \n",
       "...                 ...         ...  ...         ...         ...   \n",
       "37667             False         139  ...          16  159.000000   \n",
       "37668             False         155  ...           0  143.000000   \n",
       "37669             False          81  ...           5   91.000000   \n",
       "37670             False         144  ...           7   96.666667   \n",
       "37671             False         270  ...          14  331.666667   \n",
       "\n",
       "         fitness1_uncorr    fitness2_uncorr    fitness3_uncorr  \\\n",
       "1      -6.29053521179474  -7.14809196834481                 NA   \n",
       "2      -6.57008715816327   -7.1750243660309  -6.56069181549137   \n",
       "3      -6.43713868598662                 NA                 NA   \n",
       "4                     NA  -5.59153127700666  -6.44188278403944   \n",
       "5                     NA                 NA  -2.67646016687167   \n",
       "...                  ...                ...                ...   \n",
       "37667                 NA  -6.43112057193056  -5.57746890384693   \n",
       "37668  -6.19229677221133  -7.52312808633473                 NA   \n",
       "37669                 NA  -5.39147534169413   -5.8292317562616   \n",
       "37670  -6.11868495486808  -8.02822603288643  -4.58625302029274   \n",
       "37671  -6.45961154183867  -6.70305151149813  -6.08130367280625   \n",
       "\n",
       "           sigma1_uncorr     sigma2_uncorr      sigma3_uncorr   fitness  \\\n",
       "1       1.49279257546146  3.08419531769185                 NA -6.453303   \n",
       "2      0.875822329055295  1.33904356492612   1.06221836345588 -6.689845   \n",
       "3       1.97777649195475                NA                 NA -6.437139   \n",
       "4                     NA  1.22839899062725   1.18020173448254 -6.033716   \n",
       "5                     NA                NA   1.38928292456688 -2.676460   \n",
       "...                  ...               ...                ...       ...   \n",
       "37667                 NA  1.52928197462871  0.899488200209036 -5.796884   \n",
       "37668   1.04206894651161  3.07632452941573                 NA -6.329283   \n",
       "37669                 NA  1.21333443870815   1.21026620028259 -5.610908   \n",
       "37670   1.04393337020561  3.06911460776611   1.21782402854677 -5.629564   \n",
       "37671  0.965582254768953  1.12450809212606  0.908589233108079 -6.373183   \n",
       "\n",
       "          sigma  \n",
       "1      1.343676  \n",
       "2      0.603279  \n",
       "3      1.977776  \n",
       "4      0.851058  \n",
       "5      1.389283  \n",
       "...         ...  \n",
       "37667  0.775319  \n",
       "37668  0.986981  \n",
       "37669  0.856870  \n",
       "37670  0.767410  \n",
       "37671  0.570293  \n",
       "\n",
       "[37671 rows x 24 columns]"
      ]
     },
     "execution_count": 11,
     "metadata": {},
     "output_type": "execute_result"
    }
   ],
   "source": [
    "all_variants['DTS01']"
   ]
  },
  {
   "cell_type": "code",
   "execution_count": 12,
   "id": "f58c08a8-6afc-4a51-9024-2d24f7143dac",
   "metadata": {},
   "outputs": [
    {
     "name": "stdout",
     "output_type": "stream",
     "text": [
      "DTS01\n",
      "[14]\n",
      "DTS05\n",
      "[31]\n"
     ]
    }
   ],
   "source": [
    "for dataset in libs_DTS:\n",
    "    print(dataset)\n",
    "    print(np.unique([len(aa_seq) for aa_seq in all_variants[dataset].aa_seq]))"
   ]
  },
  {
   "cell_type": "code",
   "execution_count": null,
   "id": "49ca3ef8-8a68-4eb7-b4e5-823a975791d8",
   "metadata": {},
   "outputs": [],
   "source": []
  },
  {
   "cell_type": "markdown",
   "id": "5f42db78-cbb6-4b82-aee5-8b3e36942a6b",
   "metadata": {},
   "source": [
    "## Here it's not necessary to complemet variants here to full Abeta sequence, but I will add that column to help future users and to be able to mark fAD mutations"
   ]
  },
  {
   "cell_type": "markdown",
   "id": "f337c7a3-35fe-446f-8002-60399336ee68",
   "metadata": {},
   "source": [
    "### Adding full Abeta sequence to tables here"
   ]
  },
  {
   "cell_type": "code",
   "execution_count": 13,
   "id": "a9a08e6d-fd5d-4415-832d-1e8ca68aae87",
   "metadata": {},
   "outputs": [],
   "source": [
    "AB_WT = \"DAEFRHDSGYEVHHQKLVFFAEDVGSNKGAIIGLMVGGVVIA\""
   ]
  },
  {
   "cell_type": "code",
   "execution_count": 14,
   "id": "59d40e93-721c-4f51-8d2e-20f39d55c670",
   "metadata": {},
   "outputs": [],
   "source": [
    "# here we need to add WT N-terminus (aa1-27) to the beginning\n",
    "\n",
    "all_variants['NNK_doubles']['aa_seq_full'] = [AB_WT[:27] + seq for seq in all_variants['NNK_doubles']['aa_seq']]"
   ]
  },
  {
   "cell_type": "code",
   "execution_count": 15,
   "id": "562ce93b-1786-4a1f-bd61-309caf17ad17",
   "metadata": {},
   "outputs": [
    {
     "data": {
      "text/plain": [
       "array([42])"
      ]
     },
     "execution_count": 15,
     "metadata": {},
     "output_type": "execute_result"
    }
   ],
   "source": [
    "np.unique([len(seq) for seq in all_variants['NNK_doubles']['aa_seq_full']])"
   ]
  },
  {
   "cell_type": "code",
   "execution_count": 16,
   "id": "538ddc59-957a-4379-bcce-e4f6c7848be2",
   "metadata": {
    "tags": []
   },
   "outputs": [],
   "source": [
    "# here we need to add WT C-terminus (aa29-42) to the end\n",
    "\n",
    "all_variants['Nicking_doubles']['aa_seq_full'] = [seq + AB_WT[28:] for seq in all_variants['Nicking_doubles']['aa_seq']]"
   ]
  },
  {
   "cell_type": "code",
   "execution_count": 17,
   "id": "22e58866-740d-4e8a-88ff-2f33e03a0c11",
   "metadata": {},
   "outputs": [
    {
     "data": {
      "text/plain": [
       "array([42])"
      ]
     },
     "execution_count": 17,
     "metadata": {},
     "output_type": "execute_result"
    }
   ],
   "source": [
    "np.unique([len(seq) for seq in all_variants['Nicking_doubles']['aa_seq_full']])"
   ]
  },
  {
   "cell_type": "code",
   "execution_count": null,
   "id": "a67d393e-6354-45b0-9840-7f265481f229",
   "metadata": {},
   "outputs": [],
   "source": []
  },
  {
   "cell_type": "code",
   "execution_count": 18,
   "id": "cd153e25-8974-480c-a5f3-0dbfc6b9330d",
   "metadata": {
    "tags": []
   },
   "outputs": [],
   "source": [
    "# for consistency\n",
    "\n",
    "all_variants['eLife_doubles']['aa_seq_full'] = all_variants['eLife_doubles']['aa_seq']\n"
   ]
  },
  {
   "cell_type": "code",
   "execution_count": 19,
   "id": "06f5b4bb-6508-4a3c-b31e-0b9f302b7f4a",
   "metadata": {
    "tags": []
   },
   "outputs": [
    {
     "data": {
      "text/plain": [
       "array([42])"
      ]
     },
     "execution_count": 19,
     "metadata": {},
     "output_type": "execute_result"
    }
   ],
   "source": [
    "np.unique([len(seq) for seq in all_variants['eLife_doubles']['aa_seq']])"
   ]
  },
  {
   "cell_type": "code",
   "execution_count": null,
   "id": "417ccc33-df05-499e-b472-cdffbd337f23",
   "metadata": {},
   "outputs": [],
   "source": []
  },
  {
   "cell_type": "code",
   "execution_count": null,
   "id": "9bff48a2-b9b5-44af-b5d4-92f1f1fcadfd",
   "metadata": {},
   "outputs": [],
   "source": []
  },
  {
   "cell_type": "code",
   "execution_count": 20,
   "id": "7174d1a3-615d-43b3-9600-1d94bf8875f5",
   "metadata": {},
   "outputs": [
    {
     "name": "stdout",
     "output_type": "stream",
     "text": [
      "DTS01\n",
      "(array([14]), array([37671])) \n",
      "\n",
      "DTS05\n",
      "(array([31]), array([5283])) \n",
      "\n"
     ]
    }
   ],
   "source": [
    "for lib in libs_DTS:\n",
    "    print(lib)\n",
    "    print(np.unique([len(elem) for elem in all_variants[lib]['aa_seq']], return_counts=True), '\\n')"
   ]
  },
  {
   "cell_type": "code",
   "execution_count": 21,
   "id": "dac578a2-cb6e-49f3-9527-1466d9f6cb79",
   "metadata": {},
   "outputs": [],
   "source": [
    "# complement DTS01\n",
    "all_variants['DTS01']['aa_seq_full'] = [AB_WT[:28] + aa_seq for aa_seq in all_variants['DTS01']['aa_seq']]\n"
   ]
  },
  {
   "cell_type": "code",
   "execution_count": 22,
   "id": "efdeeaee-fb3a-424e-b19e-8707db36a516",
   "metadata": {},
   "outputs": [],
   "source": [
    "# complement DTS05\n",
    "all_variants['DTS05']['aa_seq_full'] = [AB_WT[:11] + aa_seq for aa_seq in all_variants['DTS05']['aa_seq']]\n"
   ]
  },
  {
   "cell_type": "code",
   "execution_count": null,
   "id": "a767a406-10e8-43e1-a1fe-b610212889de",
   "metadata": {},
   "outputs": [],
   "source": []
  },
  {
   "cell_type": "code",
   "execution_count": 23,
   "id": "de442691-e4f0-4050-a0f8-b7069c590bd3",
   "metadata": {},
   "outputs": [
    {
     "name": "stdout",
     "output_type": "stream",
     "text": [
      "DTS01\n",
      "(array([42]), array([37671])) \n",
      "\n",
      "DTS05\n",
      "(array([42]), array([5283])) \n",
      "\n"
     ]
    }
   ],
   "source": [
    "for lib in libs_DTS:\n",
    "    print(lib)\n",
    "    print(np.unique([len(elem) for elem in all_variants[lib]['aa_seq_full']], return_counts=True), '\\n')"
   ]
  },
  {
   "cell_type": "code",
   "execution_count": null,
   "id": "7fd385ae-dff7-4262-b5cd-4f4a9628f35d",
   "metadata": {},
   "outputs": [],
   "source": []
  },
  {
   "cell_type": "markdown",
   "id": "82f72285-68bd-4eab-bce9-9870f090e19c",
   "metadata": {},
   "source": [
    "## Select relevant columns and merge datasets"
   ]
  },
  {
   "cell_type": "code",
   "execution_count": 24,
   "id": "d208b6bb-22c0-4cc7-b672-b577ecc563a9",
   "metadata": {
    "tags": []
   },
   "outputs": [],
   "source": [
    "datasets_all = datasets + libs_DTS"
   ]
  },
  {
   "cell_type": "code",
   "execution_count": 25,
   "id": "3b82a1b9-135f-4eee-a44c-95fd1574b849",
   "metadata": {
    "tags": []
   },
   "outputs": [
    {
     "data": {
      "text/plain": [
       "['eLife_doubles', 'NNK_doubles', 'Nicking_doubles', 'DTS01', 'DTS05']"
      ]
     },
     "execution_count": 25,
     "metadata": {},
     "output_type": "execute_result"
    }
   ],
   "source": [
    "datasets_all"
   ]
  },
  {
   "cell_type": "code",
   "execution_count": 26,
   "id": "7253f9e7-c1bc-4fcf-b455-f6888c799afc",
   "metadata": {
    "tags": []
   },
   "outputs": [
    {
     "data": {
      "text/plain": [
       "Index(['merge_seq', 'aa_seq', 'Nham_nt', 'Nham_aa', 'Nmut_codons', 'WT',\n",
       "       'STOP', 'STOP_readthrough', 'mean_count', 'count_e1_s0', 'count_e2_s0',\n",
       "       'count_e3_s0', 'count_e1_s1', 'count_e2_s1', 'count_e3_s1',\n",
       "       'fitness1_uncorr', 'sigma1_uncorr', 'fitness2_uncorr', 'sigma2_uncorr',\n",
       "       'fitness3_uncorr', 'sigma3_uncorr', 'fitness', 'sigma', 'nscore_c',\n",
       "       'sigma_norm_first_toWT', 'category_sigma', 'zscore_mode',\n",
       "       'p.adjust_mode', 'category_dead', 'aa_seq_full'],\n",
       "      dtype='object')"
      ]
     },
     "execution_count": 26,
     "metadata": {},
     "output_type": "execute_result"
    }
   ],
   "source": [
    "all_variants['eLife_doubles'].columns"
   ]
  },
  {
   "cell_type": "code",
   "execution_count": 27,
   "id": "14989656-9d1c-4899-8926-778461a9e01d",
   "metadata": {
    "tags": []
   },
   "outputs": [
    {
     "data": {
      "text/plain": [
       "Index(['nt_seq', 'aa_seq', 'Nham_nt', 'Nham_aa', 'Nmut_codons', 'WT', 'indel',\n",
       "       'STOP', 'STOP_readthrough', 'mean_count', 'count_e1_s0', 'count_e2_s0',\n",
       "       'count_e3_s0', 'count_e1_s1', 'count_e2_s1', 'count_e3_s1',\n",
       "       'fitness1_uncorr', 'sigma1_uncorr', 'fitness2_uncorr', 'sigma2_uncorr',\n",
       "       'fitness3_uncorr', 'sigma3_uncorr', 'fitness', 'sigma', 'aa_seq_full'],\n",
       "      dtype='object')"
      ]
     },
     "execution_count": 27,
     "metadata": {},
     "output_type": "execute_result"
    }
   ],
   "source": [
    "all_variants['Nicking_doubles'].columns"
   ]
  },
  {
   "cell_type": "code",
   "execution_count": 28,
   "id": "613365f0-521a-4424-b569-edc356408ceb",
   "metadata": {
    "tags": []
   },
   "outputs": [
    {
     "data": {
      "text/plain": [
       "Index(['nt_seq', 'aa_seq', 'Nham_nt', 'Nham_aa', 'Nmut_codons', 'WT', 'indel',\n",
       "       'STOP', 'STOP_readthrough', 'mean_count', 'count_e1_s0', 'count_e2_s0',\n",
       "       'count_e3_s0', 'count_e1_s1', 'count_e2_s1', 'count_e3_s1',\n",
       "       'fitness1_uncorr', 'fitness2_uncorr', 'fitness3_uncorr',\n",
       "       'sigma1_uncorr', 'sigma2_uncorr', 'sigma3_uncorr', 'fitness', 'sigma',\n",
       "       'aa_seq_full'],\n",
       "      dtype='object')"
      ]
     },
     "execution_count": 28,
     "metadata": {},
     "output_type": "execute_result"
    }
   ],
   "source": [
    "all_variants['NNK_doubles'].columns"
   ]
  },
  {
   "cell_type": "code",
   "execution_count": 29,
   "id": "78f48db0-b27e-4442-82bb-1be71b6b68ad",
   "metadata": {
    "tags": []
   },
   "outputs": [
    {
     "data": {
      "text/plain": [
       "Index(['nt_seq', 'aa_seq', 'Nham_nt', 'Nham_aa', 'Nmut_codons', 'WT', 'indel',\n",
       "       'STOP', 'STOP_readthrough', 'count_e1_s0', 'count_e2_s0', 'count_e3_s0',\n",
       "       'count_e1_s1', 'count_e2_s1', 'count_e3_s1', 'mean_count',\n",
       "       'fitness1_uncorr', 'fitness2_uncorr', 'fitness3_uncorr',\n",
       "       'sigma1_uncorr', 'sigma2_uncorr', 'sigma3_uncorr', 'fitness', 'sigma',\n",
       "       'aa_seq_full'],\n",
       "      dtype='object')"
      ]
     },
     "execution_count": 29,
     "metadata": {},
     "output_type": "execute_result"
    }
   ],
   "source": [
    "all_variants['DTS01'].columns"
   ]
  },
  {
   "cell_type": "code",
   "execution_count": 30,
   "id": "d1561a65-f2fe-42a1-bfc6-77d5dd7f5af8",
   "metadata": {
    "tags": []
   },
   "outputs": [
    {
     "data": {
      "text/plain": [
       "Index(['nt_seq', 'aa_seq', 'Nham_nt', 'Nham_aa', 'Nmut_codons', 'WT', 'indel',\n",
       "       'STOP', 'STOP_readthrough', 'count_e1_s0', 'count_e2_s0', 'count_e3_s0',\n",
       "       'count_e1_s1', 'count_e2_s1', 'count_e3_s1', 'mean_count',\n",
       "       'fitness1_uncorr', 'fitness2_uncorr', 'fitness3_uncorr',\n",
       "       'sigma1_uncorr', 'sigma2_uncorr', 'sigma3_uncorr', 'fitness', 'sigma',\n",
       "       'aa_seq_full'],\n",
       "      dtype='object')"
      ]
     },
     "execution_count": 30,
     "metadata": {},
     "output_type": "execute_result"
    }
   ],
   "source": [
    "all_variants['DTS05'].columns"
   ]
  },
  {
   "cell_type": "code",
   "execution_count": 31,
   "id": "78cbdbf9-dbf9-46be-a661-fa6a0727ef43",
   "metadata": {
    "tags": []
   },
   "outputs": [
    {
     "name": "stdout",
     "output_type": "stream",
     "text": [
      "eLife_doubles\n",
      "NNK_doubles\n",
      "Nicking_doubles\n",
      "DTS01\n",
      "DTS05\n"
     ]
    }
   ],
   "source": [
    "# select only relevant columns and merge\n",
    "\n",
    "columns_to_keep = ['aa_seq','mean_count','fitness','sigma','aa_seq_full']\n",
    "\n",
    "geo_tables = {}\n",
    "\n",
    "for dataset in datasets_all:\n",
    "    print(dataset)\n",
    "    geo_tables[dataset] = all_variants[dataset].loc[:,columns_to_keep].copy()\n",
    "    \n",
    "    if dataset == 'eLife_doubles':\n",
    "        curr_dataset = 'shallow_double_mutants'\n",
    "    else:\n",
    "        curr_dataset = dataset\n",
    "    \n",
    "    geo_tables[dataset]['dataset'] = [curr_dataset for i in range(len(geo_tables[dataset]))]\n",
    "    "
   ]
  },
  {
   "cell_type": "code",
   "execution_count": 32,
   "id": "6709ab08-d097-4c65-b000-047bd25383da",
   "metadata": {
    "tags": []
   },
   "outputs": [],
   "source": [
    "geo_table_merged = pd.concat(geo_tables.values())"
   ]
  },
  {
   "cell_type": "code",
   "execution_count": 33,
   "id": "fd5525fa-a4bc-46af-b77b-397d685ffa78",
   "metadata": {
    "tags": []
   },
   "outputs": [
    {
     "data": {
      "text/html": [
       "<div>\n",
       "<style scoped>\n",
       "    .dataframe tbody tr th:only-of-type {\n",
       "        vertical-align: middle;\n",
       "    }\n",
       "\n",
       "    .dataframe tbody tr th {\n",
       "        vertical-align: top;\n",
       "    }\n",
       "\n",
       "    .dataframe thead th {\n",
       "        text-align: right;\n",
       "    }\n",
       "</style>\n",
       "<table border=\"1\" class=\"dataframe\">\n",
       "  <thead>\n",
       "    <tr style=\"text-align: right;\">\n",
       "      <th></th>\n",
       "      <th>aa_seq</th>\n",
       "      <th>mean_count</th>\n",
       "      <th>fitness</th>\n",
       "      <th>sigma</th>\n",
       "      <th>aa_seq_full</th>\n",
       "      <th>dataset</th>\n",
       "    </tr>\n",
       "  </thead>\n",
       "  <tbody>\n",
       "    <tr>\n",
       "      <th>1</th>\n",
       "      <td>KAEFRHDSGYEVHHQKLVFFAEDVGSNKGAIIGLMVGGVVIA</td>\n",
       "      <td>210.500000</td>\n",
       "      <td>-0.117352</td>\n",
       "      <td>0.387033</td>\n",
       "      <td>KAEFRHDSGYEVHHQKLVFFAEDVGSNKGAIIGLMVGGVVIA</td>\n",
       "      <td>shallow_double_mutants</td>\n",
       "    </tr>\n",
       "    <tr>\n",
       "      <th>2</th>\n",
       "      <td>NAEFRHDSGYEVHHQKLVFFAEDVGSNKGAIIGLMVGGVVIA</td>\n",
       "      <td>28544.000000</td>\n",
       "      <td>0.352500</td>\n",
       "      <td>0.062247</td>\n",
       "      <td>NAEFRHDSGYEVHHQKLVFFAEDVGSNKGAIIGLMVGGVVIA</td>\n",
       "      <td>shallow_double_mutants</td>\n",
       "    </tr>\n",
       "    <tr>\n",
       "      <th>3</th>\n",
       "      <td>NTEFRHDSGYEVHHQKLVFFAEDVGSNKGAIIGLMVGGVVIA</td>\n",
       "      <td>170.000000</td>\n",
       "      <td>0.381524</td>\n",
       "      <td>0.420981</td>\n",
       "      <td>NTEFRHDSGYEVHHQKLVFFAEDVGSNKGAIIGLMVGGVVIA</td>\n",
       "      <td>shallow_double_mutants</td>\n",
       "    </tr>\n",
       "    <tr>\n",
       "      <th>4</th>\n",
       "      <td>NEEFRHDSGYEVHHQKLVFFAEDVGSNKGAIIGLMVGGVVIA</td>\n",
       "      <td>146.000000</td>\n",
       "      <td>0.052856</td>\n",
       "      <td>0.450957</td>\n",
       "      <td>NEEFRHDSGYEVHHQKLVFFAEDVGSNKGAIIGLMVGGVVIA</td>\n",
       "      <td>shallow_double_mutants</td>\n",
       "    </tr>\n",
       "    <tr>\n",
       "      <th>5</th>\n",
       "      <td>NAKFRHDSGYEVHHQKLVFFAEDVGSNKGAIIGLMVGGVVIA</td>\n",
       "      <td>64.500000</td>\n",
       "      <td>0.495394</td>\n",
       "      <td>0.711069</td>\n",
       "      <td>NAKFRHDSGYEVHHQKLVFFAEDVGSNKGAIIGLMVGGVVIA</td>\n",
       "      <td>shallow_double_mutants</td>\n",
       "    </tr>\n",
       "    <tr>\n",
       "      <th>...</th>\n",
       "      <td>...</td>\n",
       "      <td>...</td>\n",
       "      <td>...</td>\n",
       "      <td>...</td>\n",
       "      <td>...</td>\n",
       "      <td>...</td>\n",
       "    </tr>\n",
       "    <tr>\n",
       "      <th>5279</th>\n",
       "      <td>VHHQKLVLLAEDLGSNKGALFGMMVGGVVIA</td>\n",
       "      <td>814.666667</td>\n",
       "      <td>-0.447388</td>\n",
       "      <td>1.620909</td>\n",
       "      <td>DAEFRHDSGYEVHHQKLVLLAEDLGSNKGALFGMMVGGVVIA</td>\n",
       "      <td>DTS05</td>\n",
       "    </tr>\n",
       "    <tr>\n",
       "      <th>5280</th>\n",
       "      <td>VHHQKLVLLAEDLGSNKGALFGLMVGGVVIA</td>\n",
       "      <td>696.333333</td>\n",
       "      <td>1.447367</td>\n",
       "      <td>0.953764</td>\n",
       "      <td>DAEFRHDSGYEVHHQKLVLLAEDLGSNKGALFGLMVGGVVIA</td>\n",
       "      <td>DTS05</td>\n",
       "    </tr>\n",
       "    <tr>\n",
       "      <th>5281</th>\n",
       "      <td>VHHQKLVLLAEDLGSNKGALLGVMVGGVVIA</td>\n",
       "      <td>2741.333333</td>\n",
       "      <td>0.034470</td>\n",
       "      <td>0.736629</td>\n",
       "      <td>DAEFRHDSGYEVHHQKLVLLAEDLGSNKGALLGVMVGGVVIA</td>\n",
       "      <td>DTS05</td>\n",
       "    </tr>\n",
       "    <tr>\n",
       "      <th>5282</th>\n",
       "      <td>VHHQKLVLLAEDLGSNKGALLGFMVGGVVIA</td>\n",
       "      <td>935.333333</td>\n",
       "      <td>-0.625840</td>\n",
       "      <td>1.737394</td>\n",
       "      <td>DAEFRHDSGYEVHHQKLVLLAEDLGSNKGALLGFMVGGVVIA</td>\n",
       "      <td>DTS05</td>\n",
       "    </tr>\n",
       "    <tr>\n",
       "      <th>5283</th>\n",
       "      <td>VHHQKLVLLAEDLGSNKGALLGLMVGGVVIA</td>\n",
       "      <td>545.000000</td>\n",
       "      <td>-1.031706</td>\n",
       "      <td>1.846190</td>\n",
       "      <td>DAEFRHDSGYEVHHQKLVLLAEDLGSNKGALLGLMVGGVVIA</td>\n",
       "      <td>DTS05</td>\n",
       "    </tr>\n",
       "  </tbody>\n",
       "</table>\n",
       "<p>144842 rows × 6 columns</p>\n",
       "</div>"
      ],
      "text/plain": [
       "                                          aa_seq    mean_count   fitness  \\\n",
       "1     KAEFRHDSGYEVHHQKLVFFAEDVGSNKGAIIGLMVGGVVIA    210.500000 -0.117352   \n",
       "2     NAEFRHDSGYEVHHQKLVFFAEDVGSNKGAIIGLMVGGVVIA  28544.000000  0.352500   \n",
       "3     NTEFRHDSGYEVHHQKLVFFAEDVGSNKGAIIGLMVGGVVIA    170.000000  0.381524   \n",
       "4     NEEFRHDSGYEVHHQKLVFFAEDVGSNKGAIIGLMVGGVVIA    146.000000  0.052856   \n",
       "5     NAKFRHDSGYEVHHQKLVFFAEDVGSNKGAIIGLMVGGVVIA     64.500000  0.495394   \n",
       "...                                          ...           ...       ...   \n",
       "5279             VHHQKLVLLAEDLGSNKGALFGMMVGGVVIA    814.666667 -0.447388   \n",
       "5280             VHHQKLVLLAEDLGSNKGALFGLMVGGVVIA    696.333333  1.447367   \n",
       "5281             VHHQKLVLLAEDLGSNKGALLGVMVGGVVIA   2741.333333  0.034470   \n",
       "5282             VHHQKLVLLAEDLGSNKGALLGFMVGGVVIA    935.333333 -0.625840   \n",
       "5283             VHHQKLVLLAEDLGSNKGALLGLMVGGVVIA    545.000000 -1.031706   \n",
       "\n",
       "         sigma                                 aa_seq_full  \\\n",
       "1     0.387033  KAEFRHDSGYEVHHQKLVFFAEDVGSNKGAIIGLMVGGVVIA   \n",
       "2     0.062247  NAEFRHDSGYEVHHQKLVFFAEDVGSNKGAIIGLMVGGVVIA   \n",
       "3     0.420981  NTEFRHDSGYEVHHQKLVFFAEDVGSNKGAIIGLMVGGVVIA   \n",
       "4     0.450957  NEEFRHDSGYEVHHQKLVFFAEDVGSNKGAIIGLMVGGVVIA   \n",
       "5     0.711069  NAKFRHDSGYEVHHQKLVFFAEDVGSNKGAIIGLMVGGVVIA   \n",
       "...        ...                                         ...   \n",
       "5279  1.620909  DAEFRHDSGYEVHHQKLVLLAEDLGSNKGALFGMMVGGVVIA   \n",
       "5280  0.953764  DAEFRHDSGYEVHHQKLVLLAEDLGSNKGALFGLMVGGVVIA   \n",
       "5281  0.736629  DAEFRHDSGYEVHHQKLVLLAEDLGSNKGALLGVMVGGVVIA   \n",
       "5282  1.737394  DAEFRHDSGYEVHHQKLVLLAEDLGSNKGALLGFMVGGVVIA   \n",
       "5283  1.846190  DAEFRHDSGYEVHHQKLVLLAEDLGSNKGALLGLMVGGVVIA   \n",
       "\n",
       "                     dataset  \n",
       "1     shallow_double_mutants  \n",
       "2     shallow_double_mutants  \n",
       "3     shallow_double_mutants  \n",
       "4     shallow_double_mutants  \n",
       "5     shallow_double_mutants  \n",
       "...                      ...  \n",
       "5279                   DTS05  \n",
       "5280                   DTS05  \n",
       "5281                   DTS05  \n",
       "5282                   DTS05  \n",
       "5283                   DTS05  \n",
       "\n",
       "[144842 rows x 6 columns]"
      ]
     },
     "execution_count": 33,
     "metadata": {},
     "output_type": "execute_result"
    }
   ],
   "source": [
    "geo_table_merged"
   ]
  },
  {
   "cell_type": "code",
   "execution_count": 34,
   "id": "26f1912f-700a-48c3-8757-165fa8be9184",
   "metadata": {
    "tags": []
   },
   "outputs": [],
   "source": [
    "geo_table_merged.reset_index(inplace=True, drop=True)"
   ]
  },
  {
   "cell_type": "code",
   "execution_count": 41,
   "id": "5e232637-ed5b-4134-b1d0-b2bb56f04df9",
   "metadata": {
    "tags": []
   },
   "outputs": [
    {
     "data": {
      "text/plain": [
       "aa_seq\n",
       "DAEFRHDSGYEVHHQKLVFFAEDVGSNKGAIIGLMVGGVVIA    2582\n",
       "DAEFRHDSGYEVHHQKLVFFAEDVGSNK                    61\n",
       "DAWFRHDSGYEVHHQKLVFFAEDVGGNK                     1\n",
       "DAWFRHDSGYEVHHQKLVFFAEDVGHNK                     1\n",
       "DAWFRHDSGYEVHHQKLVFFAEDVGPNK                     1\n",
       "                                              ... \n",
       "DREFRHDSGYEVHHQKLVFFAEVVGSNK                     1\n",
       "DREFRHDSGYEVHHQKLVFFAEGVGSNK                     1\n",
       "DREFRHDSGYEVHHQKLVFFAEAVGSNK                     1\n",
       "DREFRHDSGYEVHHQKLVFFAEDCGSNK                     1\n",
       "VHHQKLVLLAEDLGSNKGALLGLMVGGVVIA                  1\n",
       "Name: count, Length: 142201, dtype: int64"
      ]
     },
     "execution_count": 41,
     "metadata": {},
     "output_type": "execute_result"
    }
   ],
   "source": [
    "geo_table_merged['aa_seq'].value_counts()"
   ]
  },
  {
   "cell_type": "code",
   "execution_count": 42,
   "id": "f4b23510-bbdb-4ea9-a94b-959ca1090e45",
   "metadata": {
    "tags": []
   },
   "outputs": [
    {
     "data": {
      "text/html": [
       "<div>\n",
       "<style scoped>\n",
       "    .dataframe tbody tr th:only-of-type {\n",
       "        vertical-align: middle;\n",
       "    }\n",
       "\n",
       "    .dataframe tbody tr th {\n",
       "        vertical-align: top;\n",
       "    }\n",
       "\n",
       "    .dataframe thead th {\n",
       "        text-align: right;\n",
       "    }\n",
       "</style>\n",
       "<table border=\"1\" class=\"dataframe\">\n",
       "  <thead>\n",
       "    <tr style=\"text-align: right;\">\n",
       "      <th></th>\n",
       "      <th>aa_seq</th>\n",
       "      <th>mean_count</th>\n",
       "      <th>fitness</th>\n",
       "      <th>sigma</th>\n",
       "      <th>aa_seq_full</th>\n",
       "      <th>dataset</th>\n",
       "    </tr>\n",
       "  </thead>\n",
       "  <tbody>\n",
       "    <tr>\n",
       "      <th>424</th>\n",
       "      <td>DAEFRHDSGYEVHHQKLVFFAEDVGSNKGAIIGLMVGGVVIA</td>\n",
       "      <td>140.500000</td>\n",
       "      <td>-0.254861</td>\n",
       "      <td>0.465475</td>\n",
       "      <td>DAEFRHDSGYEVHHQKLVFFAEDVGSNKGAIIGLMVGGVVIA</td>\n",
       "      <td>shallow_double_mutants</td>\n",
       "    </tr>\n",
       "    <tr>\n",
       "      <th>425</th>\n",
       "      <td>DAEFRHDSGYEVHHQKLVFFAEDVGSNKGAIIGLMVGGVVIA</td>\n",
       "      <td>303.666667</td>\n",
       "      <td>0.181283</td>\n",
       "      <td>0.265036</td>\n",
       "      <td>DAEFRHDSGYEVHHQKLVFFAEDVGSNKGAIIGLMVGGVVIA</td>\n",
       "      <td>shallow_double_mutants</td>\n",
       "    </tr>\n",
       "    <tr>\n",
       "      <th>426</th>\n",
       "      <td>DAEFRHDSGYEVHHQKLVFFAEDVGSNKGAIIGLMVGGVVIA</td>\n",
       "      <td>347.000000</td>\n",
       "      <td>-0.451204</td>\n",
       "      <td>0.262208</td>\n",
       "      <td>DAEFRHDSGYEVHHQKLVFFAEDVGSNKGAIIGLMVGGVVIA</td>\n",
       "      <td>shallow_double_mutants</td>\n",
       "    </tr>\n",
       "    <tr>\n",
       "      <th>427</th>\n",
       "      <td>DAEFRHDSGYEVHHQKLVFFAEDVGSNKGAIIGLMVGGVVIA</td>\n",
       "      <td>219.666667</td>\n",
       "      <td>-0.042756</td>\n",
       "      <td>0.312757</td>\n",
       "      <td>DAEFRHDSGYEVHHQKLVFFAEDVGSNKGAIIGLMVGGVVIA</td>\n",
       "      <td>shallow_double_mutants</td>\n",
       "    </tr>\n",
       "    <tr>\n",
       "      <th>428</th>\n",
       "      <td>DAEFRHDSGYEVHHQKLVFFAEDVGSNKGAIIGLMVGGVVIA</td>\n",
       "      <td>340.333333</td>\n",
       "      <td>-0.298518</td>\n",
       "      <td>0.253437</td>\n",
       "      <td>DAEFRHDSGYEVHHQKLVFFAEDVGSNKGAIIGLMVGGVVIA</td>\n",
       "      <td>shallow_double_mutants</td>\n",
       "    </tr>\n",
       "    <tr>\n",
       "      <th>...</th>\n",
       "      <td>...</td>\n",
       "      <td>...</td>\n",
       "      <td>...</td>\n",
       "      <td>...</td>\n",
       "      <td>...</td>\n",
       "      <td>...</td>\n",
       "    </tr>\n",
       "    <tr>\n",
       "      <th>17748</th>\n",
       "      <td>DAEFRHDSGYEVHHQKLVFFAEDVGSNKGAIIGLMVGGVVIA</td>\n",
       "      <td>153.000000</td>\n",
       "      <td>0.075942</td>\n",
       "      <td>0.452915</td>\n",
       "      <td>DAEFRHDSGYEVHHQKLVFFAEDVGSNKGAIIGLMVGGVVIA</td>\n",
       "      <td>shallow_double_mutants</td>\n",
       "    </tr>\n",
       "    <tr>\n",
       "      <th>17749</th>\n",
       "      <td>DAEFRHDSGYEVHHQKLVFFAEDVGSNKGAIIGLMVGGVVIA</td>\n",
       "      <td>126.000000</td>\n",
       "      <td>0.032686</td>\n",
       "      <td>0.402109</td>\n",
       "      <td>DAEFRHDSGYEVHHQKLVFFAEDVGSNKGAIIGLMVGGVVIA</td>\n",
       "      <td>shallow_double_mutants</td>\n",
       "    </tr>\n",
       "    <tr>\n",
       "      <th>17750</th>\n",
       "      <td>DAEFRHDSGYEVHHQKLVFFAEDVGSNKGAIIGLMVGGVVIA</td>\n",
       "      <td>465.333333</td>\n",
       "      <td>-0.082525</td>\n",
       "      <td>0.222729</td>\n",
       "      <td>DAEFRHDSGYEVHHQKLVFFAEDVGSNKGAIIGLMVGGVVIA</td>\n",
       "      <td>shallow_double_mutants</td>\n",
       "    </tr>\n",
       "    <tr>\n",
       "      <th>17751</th>\n",
       "      <td>DAEFRHDSGYEVHHQKLVFFAEDVGSNKGAIIGLMVGGVVIA</td>\n",
       "      <td>607.333333</td>\n",
       "      <td>-0.426131</td>\n",
       "      <td>0.201956</td>\n",
       "      <td>DAEFRHDSGYEVHHQKLVFFAEDVGSNKGAIIGLMVGGVVIA</td>\n",
       "      <td>shallow_double_mutants</td>\n",
       "    </tr>\n",
       "    <tr>\n",
       "      <th>17752</th>\n",
       "      <td>DAEFRHDSGYEVHHQKLVFFAEDVGSNKGAIIGLMVGGVVIA</td>\n",
       "      <td>187.000000</td>\n",
       "      <td>0.051822</td>\n",
       "      <td>0.339427</td>\n",
       "      <td>DAEFRHDSGYEVHHQKLVFFAEDVGSNKGAIIGLMVGGVVIA</td>\n",
       "      <td>shallow_double_mutants</td>\n",
       "    </tr>\n",
       "  </tbody>\n",
       "</table>\n",
       "<p>2582 rows × 6 columns</p>\n",
       "</div>"
      ],
      "text/plain": [
       "                                           aa_seq  mean_count   fitness  \\\n",
       "424    DAEFRHDSGYEVHHQKLVFFAEDVGSNKGAIIGLMVGGVVIA  140.500000 -0.254861   \n",
       "425    DAEFRHDSGYEVHHQKLVFFAEDVGSNKGAIIGLMVGGVVIA  303.666667  0.181283   \n",
       "426    DAEFRHDSGYEVHHQKLVFFAEDVGSNKGAIIGLMVGGVVIA  347.000000 -0.451204   \n",
       "427    DAEFRHDSGYEVHHQKLVFFAEDVGSNKGAIIGLMVGGVVIA  219.666667 -0.042756   \n",
       "428    DAEFRHDSGYEVHHQKLVFFAEDVGSNKGAIIGLMVGGVVIA  340.333333 -0.298518   \n",
       "...                                           ...         ...       ...   \n",
       "17748  DAEFRHDSGYEVHHQKLVFFAEDVGSNKGAIIGLMVGGVVIA  153.000000  0.075942   \n",
       "17749  DAEFRHDSGYEVHHQKLVFFAEDVGSNKGAIIGLMVGGVVIA  126.000000  0.032686   \n",
       "17750  DAEFRHDSGYEVHHQKLVFFAEDVGSNKGAIIGLMVGGVVIA  465.333333 -0.082525   \n",
       "17751  DAEFRHDSGYEVHHQKLVFFAEDVGSNKGAIIGLMVGGVVIA  607.333333 -0.426131   \n",
       "17752  DAEFRHDSGYEVHHQKLVFFAEDVGSNKGAIIGLMVGGVVIA  187.000000  0.051822   \n",
       "\n",
       "          sigma                                 aa_seq_full  \\\n",
       "424    0.465475  DAEFRHDSGYEVHHQKLVFFAEDVGSNKGAIIGLMVGGVVIA   \n",
       "425    0.265036  DAEFRHDSGYEVHHQKLVFFAEDVGSNKGAIIGLMVGGVVIA   \n",
       "426    0.262208  DAEFRHDSGYEVHHQKLVFFAEDVGSNKGAIIGLMVGGVVIA   \n",
       "427    0.312757  DAEFRHDSGYEVHHQKLVFFAEDVGSNKGAIIGLMVGGVVIA   \n",
       "428    0.253437  DAEFRHDSGYEVHHQKLVFFAEDVGSNKGAIIGLMVGGVVIA   \n",
       "...         ...                                         ...   \n",
       "17748  0.452915  DAEFRHDSGYEVHHQKLVFFAEDVGSNKGAIIGLMVGGVVIA   \n",
       "17749  0.402109  DAEFRHDSGYEVHHQKLVFFAEDVGSNKGAIIGLMVGGVVIA   \n",
       "17750  0.222729  DAEFRHDSGYEVHHQKLVFFAEDVGSNKGAIIGLMVGGVVIA   \n",
       "17751  0.201956  DAEFRHDSGYEVHHQKLVFFAEDVGSNKGAIIGLMVGGVVIA   \n",
       "17752  0.339427  DAEFRHDSGYEVHHQKLVFFAEDVGSNKGAIIGLMVGGVVIA   \n",
       "\n",
       "                      dataset  \n",
       "424    shallow_double_mutants  \n",
       "425    shallow_double_mutants  \n",
       "426    shallow_double_mutants  \n",
       "427    shallow_double_mutants  \n",
       "428    shallow_double_mutants  \n",
       "...                       ...  \n",
       "17748  shallow_double_mutants  \n",
       "17749  shallow_double_mutants  \n",
       "17750  shallow_double_mutants  \n",
       "17751  shallow_double_mutants  \n",
       "17752  shallow_double_mutants  \n",
       "\n",
       "[2582 rows x 6 columns]"
      ]
     },
     "execution_count": 42,
     "metadata": {},
     "output_type": "execute_result"
    }
   ],
   "source": [
    "geo_table_merged[geo_table_merged['aa_seq'] == 'DAEFRHDSGYEVHHQKLVFFAEDVGSNKGAIIGLMVGGVVIA']"
   ]
  },
  {
   "cell_type": "code",
   "execution_count": 44,
   "id": "601e4479-e013-4cc7-b552-30535a61ce1e",
   "metadata": {
    "tags": []
   },
   "outputs": [
    {
     "data": {
      "text/plain": [
       "array(['shallow_double_mutants'], dtype=object)"
      ]
     },
     "execution_count": 44,
     "metadata": {},
     "output_type": "execute_result"
    }
   ],
   "source": [
    "np.unique(geo_table_merged[geo_table_merged['aa_seq'] == 'DAEFRHDSGYEVHHQKLVFFAEDVGSNKGAIIGLMVGGVVIA']['dataset'])"
   ]
  },
  {
   "cell_type": "code",
   "execution_count": 47,
   "id": "d77a5130-6a9b-481e-a47b-7261fc74b507",
   "metadata": {
    "tags": []
   },
   "outputs": [
    {
     "data": {
      "text/plain": [
       "True"
      ]
     },
     "execution_count": 47,
     "metadata": {},
     "output_type": "execute_result"
    }
   ],
   "source": [
    "AB_WT == 'DAEFRHDSGYEVHHQKLVFFAEDVGSNKGAIIGLMVGGVVIA'"
   ]
  },
  {
   "cell_type": "code",
   "execution_count": 49,
   "id": "99fccf0f-debc-4985-8691-173e9f11e750",
   "metadata": {
    "tags": []
   },
   "outputs": [
    {
     "data": {
      "text/plain": [
       "array(['Nicking_doubles'], dtype=object)"
      ]
     },
     "execution_count": 49,
     "metadata": {},
     "output_type": "execute_result"
    }
   ],
   "source": [
    "np.unique(geo_table_merged[geo_table_merged['aa_seq'] == 'DAEFRHDSGYEVHHQKLVFFAEDVGSNK']['dataset'])"
   ]
  },
  {
   "cell_type": "code",
   "execution_count": null,
   "id": "5e622024-44db-4453-8f29-0fb751d3fdc5",
   "metadata": {},
   "outputs": [],
   "source": []
  },
  {
   "cell_type": "code",
   "execution_count": null,
   "id": "d0d22bf0-5d2f-4b28-8c22-32ae55c0715a",
   "metadata": {},
   "outputs": [],
   "source": []
  },
  {
   "cell_type": "code",
   "execution_count": null,
   "id": "a30166f0-1d81-4be1-b435-b229806c1713",
   "metadata": {},
   "outputs": [],
   "source": []
  },
  {
   "cell_type": "code",
   "execution_count": null,
   "id": "0aeb2835-743d-41cd-9b70-dd82f2bbb2a0",
   "metadata": {},
   "outputs": [],
   "source": []
  },
  {
   "cell_type": "code",
   "execution_count": 84,
   "id": "5dae6a8f-235d-4625-9230-6007bfe6322f",
   "metadata": {
    "tags": []
   },
   "outputs": [],
   "source": [
    "fAD_mutations = ['H6R','D7H','D7N','E11K','K16Q','L17V','A21G','E22G','E22K','E22Q','D23N','L34V','A42T']"
   ]
  },
  {
   "cell_type": "code",
   "execution_count": 85,
   "id": "bede8b0d-03ba-4904-b5de-5b000650177b",
   "metadata": {
    "tags": []
   },
   "outputs": [
    {
     "data": {
      "text/plain": [
       "'DAEFRHDSGYEVHHQKLVFFAEDVGSNKGAIIGLMVGGVVIA'"
      ]
     },
     "execution_count": 85,
     "metadata": {},
     "output_type": "execute_result"
    }
   ],
   "source": [
    "AB_WT"
   ]
  },
  {
   "cell_type": "code",
   "execution_count": 86,
   "id": "ae2411fd-9d0d-4942-8ced-efc11aeb495a",
   "metadata": {
    "tags": []
   },
   "outputs": [],
   "source": [
    "fAD_mutations_full_aa_seqs = ['DAEFRRDSGYEVHHQKLVFFAEDVGSNKGAIIGLMVGGVVIA',\n",
    "                              'DAEFRHHSGYEVHHQKLVFFAEDVGSNKGAIIGLMVGGVVIA',\n",
    "                              'DAEFRHNSGYEVHHQKLVFFAEDVGSNKGAIIGLMVGGVVIA',\n",
    "                              'DAEFRHDSGYKVHHQKLVFFAEDVGSNKGAIIGLMVGGVVIA',\n",
    "                              'DAEFRHDSGYEVHHQQLVFFAEDVGSNKGAIIGLMVGGVVIA',\n",
    "                              'DAEFRHDSGYEVHHQKVVFFAEDVGSNKGAIIGLMVGGVVIA',\n",
    "                              'DAEFRHDSGYEVHHQKLVFFGEDVGSNKGAIIGLMVGGVVIA',\n",
    "                              'DAEFRHDSGYEVHHQKLVFFAGDVGSNKGAIIGLMVGGVVIA',\n",
    "                              'DAEFRHDSGYEVHHQKLVFFAKDVGSNKGAIIGLMVGGVVIA',\n",
    "                              'DAEFRHDSGYEVHHQKLVFFAQDVGSNKGAIIGLMVGGVVIA',\n",
    "                              'DAEFRHDSGYEVHHQKLVFFAENVGSNKGAIIGLMVGGVVIA',\n",
    "                              'DAEFRHDSGYEVHHQKLVFFAEDVGSNKGAIIGVMVGGVVIA',\n",
    "                              'DAEFRHDSGYEVHHQKLVFFAEDVGSNKGAIIGLMVGGVVIT'\n",
    "                             ]"
   ]
  },
  {
   "cell_type": "code",
   "execution_count": 87,
   "id": "3dcbc1a7-4df7-44be-ad81-706a4c1c55a4",
   "metadata": {
    "tags": []
   },
   "outputs": [
    {
     "data": {
      "text/html": [
       "<div>\n",
       "<style scoped>\n",
       "    .dataframe tbody tr th:only-of-type {\n",
       "        vertical-align: middle;\n",
       "    }\n",
       "\n",
       "    .dataframe tbody tr th {\n",
       "        vertical-align: top;\n",
       "    }\n",
       "\n",
       "    .dataframe thead th {\n",
       "        text-align: right;\n",
       "    }\n",
       "</style>\n",
       "<table border=\"1\" class=\"dataframe\">\n",
       "  <thead>\n",
       "    <tr style=\"text-align: right;\">\n",
       "      <th></th>\n",
       "      <th>aa_seq</th>\n",
       "      <th>mean_count</th>\n",
       "      <th>fitness</th>\n",
       "      <th>sigma</th>\n",
       "      <th>aa_seq_full</th>\n",
       "      <th>dataset</th>\n",
       "    </tr>\n",
       "  </thead>\n",
       "  <tbody>\n",
       "    <tr>\n",
       "      <th>0</th>\n",
       "      <td>KAEFRHDSGYEVHHQKLVFFAEDVGSNKGAIIGLMVGGVVIA</td>\n",
       "      <td>210.500000</td>\n",
       "      <td>-0.117352</td>\n",
       "      <td>0.387033</td>\n",
       "      <td>KAEFRHDSGYEVHHQKLVFFAEDVGSNKGAIIGLMVGGVVIA</td>\n",
       "      <td>shallow_double_mutants</td>\n",
       "    </tr>\n",
       "    <tr>\n",
       "      <th>1</th>\n",
       "      <td>NAEFRHDSGYEVHHQKLVFFAEDVGSNKGAIIGLMVGGVVIA</td>\n",
       "      <td>28544.000000</td>\n",
       "      <td>0.352500</td>\n",
       "      <td>0.062247</td>\n",
       "      <td>NAEFRHDSGYEVHHQKLVFFAEDVGSNKGAIIGLMVGGVVIA</td>\n",
       "      <td>shallow_double_mutants</td>\n",
       "    </tr>\n",
       "    <tr>\n",
       "      <th>2</th>\n",
       "      <td>NTEFRHDSGYEVHHQKLVFFAEDVGSNKGAIIGLMVGGVVIA</td>\n",
       "      <td>170.000000</td>\n",
       "      <td>0.381524</td>\n",
       "      <td>0.420981</td>\n",
       "      <td>NTEFRHDSGYEVHHQKLVFFAEDVGSNKGAIIGLMVGGVVIA</td>\n",
       "      <td>shallow_double_mutants</td>\n",
       "    </tr>\n",
       "    <tr>\n",
       "      <th>3</th>\n",
       "      <td>NEEFRHDSGYEVHHQKLVFFAEDVGSNKGAIIGLMVGGVVIA</td>\n",
       "      <td>146.000000</td>\n",
       "      <td>0.052856</td>\n",
       "      <td>0.450957</td>\n",
       "      <td>NEEFRHDSGYEVHHQKLVFFAEDVGSNKGAIIGLMVGGVVIA</td>\n",
       "      <td>shallow_double_mutants</td>\n",
       "    </tr>\n",
       "    <tr>\n",
       "      <th>4</th>\n",
       "      <td>NAKFRHDSGYEVHHQKLVFFAEDVGSNKGAIIGLMVGGVVIA</td>\n",
       "      <td>64.500000</td>\n",
       "      <td>0.495394</td>\n",
       "      <td>0.711069</td>\n",
       "      <td>NAKFRHDSGYEVHHQKLVFFAEDVGSNKGAIIGLMVGGVVIA</td>\n",
       "      <td>shallow_double_mutants</td>\n",
       "    </tr>\n",
       "    <tr>\n",
       "      <th>...</th>\n",
       "      <td>...</td>\n",
       "      <td>...</td>\n",
       "      <td>...</td>\n",
       "      <td>...</td>\n",
       "      <td>...</td>\n",
       "      <td>...</td>\n",
       "    </tr>\n",
       "    <tr>\n",
       "      <th>144837</th>\n",
       "      <td>VHHQKLVLLAEDLGSNKGALFGMMVGGVVIA</td>\n",
       "      <td>814.666667</td>\n",
       "      <td>-0.447388</td>\n",
       "      <td>1.620909</td>\n",
       "      <td>DAEFRHDSGYEVHHQKLVLLAEDLGSNKGALFGMMVGGVVIA</td>\n",
       "      <td>DTS05</td>\n",
       "    </tr>\n",
       "    <tr>\n",
       "      <th>144838</th>\n",
       "      <td>VHHQKLVLLAEDLGSNKGALFGLMVGGVVIA</td>\n",
       "      <td>696.333333</td>\n",
       "      <td>1.447367</td>\n",
       "      <td>0.953764</td>\n",
       "      <td>DAEFRHDSGYEVHHQKLVLLAEDLGSNKGALFGLMVGGVVIA</td>\n",
       "      <td>DTS05</td>\n",
       "    </tr>\n",
       "    <tr>\n",
       "      <th>144839</th>\n",
       "      <td>VHHQKLVLLAEDLGSNKGALLGVMVGGVVIA</td>\n",
       "      <td>2741.333333</td>\n",
       "      <td>0.034470</td>\n",
       "      <td>0.736629</td>\n",
       "      <td>DAEFRHDSGYEVHHQKLVLLAEDLGSNKGALLGVMVGGVVIA</td>\n",
       "      <td>DTS05</td>\n",
       "    </tr>\n",
       "    <tr>\n",
       "      <th>144840</th>\n",
       "      <td>VHHQKLVLLAEDLGSNKGALLGFMVGGVVIA</td>\n",
       "      <td>935.333333</td>\n",
       "      <td>-0.625840</td>\n",
       "      <td>1.737394</td>\n",
       "      <td>DAEFRHDSGYEVHHQKLVLLAEDLGSNKGALLGFMVGGVVIA</td>\n",
       "      <td>DTS05</td>\n",
       "    </tr>\n",
       "    <tr>\n",
       "      <th>144841</th>\n",
       "      <td>VHHQKLVLLAEDLGSNKGALLGLMVGGVVIA</td>\n",
       "      <td>545.000000</td>\n",
       "      <td>-1.031706</td>\n",
       "      <td>1.846190</td>\n",
       "      <td>DAEFRHDSGYEVHHQKLVLLAEDLGSNKGALLGLMVGGVVIA</td>\n",
       "      <td>DTS05</td>\n",
       "    </tr>\n",
       "  </tbody>\n",
       "</table>\n",
       "<p>144842 rows × 6 columns</p>\n",
       "</div>"
      ],
      "text/plain": [
       "                                            aa_seq    mean_count   fitness  \\\n",
       "0       KAEFRHDSGYEVHHQKLVFFAEDVGSNKGAIIGLMVGGVVIA    210.500000 -0.117352   \n",
       "1       NAEFRHDSGYEVHHQKLVFFAEDVGSNKGAIIGLMVGGVVIA  28544.000000  0.352500   \n",
       "2       NTEFRHDSGYEVHHQKLVFFAEDVGSNKGAIIGLMVGGVVIA    170.000000  0.381524   \n",
       "3       NEEFRHDSGYEVHHQKLVFFAEDVGSNKGAIIGLMVGGVVIA    146.000000  0.052856   \n",
       "4       NAKFRHDSGYEVHHQKLVFFAEDVGSNKGAIIGLMVGGVVIA     64.500000  0.495394   \n",
       "...                                            ...           ...       ...   \n",
       "144837             VHHQKLVLLAEDLGSNKGALFGMMVGGVVIA    814.666667 -0.447388   \n",
       "144838             VHHQKLVLLAEDLGSNKGALFGLMVGGVVIA    696.333333  1.447367   \n",
       "144839             VHHQKLVLLAEDLGSNKGALLGVMVGGVVIA   2741.333333  0.034470   \n",
       "144840             VHHQKLVLLAEDLGSNKGALLGFMVGGVVIA    935.333333 -0.625840   \n",
       "144841             VHHQKLVLLAEDLGSNKGALLGLMVGGVVIA    545.000000 -1.031706   \n",
       "\n",
       "           sigma                                 aa_seq_full  \\\n",
       "0       0.387033  KAEFRHDSGYEVHHQKLVFFAEDVGSNKGAIIGLMVGGVVIA   \n",
       "1       0.062247  NAEFRHDSGYEVHHQKLVFFAEDVGSNKGAIIGLMVGGVVIA   \n",
       "2       0.420981  NTEFRHDSGYEVHHQKLVFFAEDVGSNKGAIIGLMVGGVVIA   \n",
       "3       0.450957  NEEFRHDSGYEVHHQKLVFFAEDVGSNKGAIIGLMVGGVVIA   \n",
       "4       0.711069  NAKFRHDSGYEVHHQKLVFFAEDVGSNKGAIIGLMVGGVVIA   \n",
       "...          ...                                         ...   \n",
       "144837  1.620909  DAEFRHDSGYEVHHQKLVLLAEDLGSNKGALFGMMVGGVVIA   \n",
       "144838  0.953764  DAEFRHDSGYEVHHQKLVLLAEDLGSNKGALFGLMVGGVVIA   \n",
       "144839  0.736629  DAEFRHDSGYEVHHQKLVLLAEDLGSNKGALLGVMVGGVVIA   \n",
       "144840  1.737394  DAEFRHDSGYEVHHQKLVLLAEDLGSNKGALLGFMVGGVVIA   \n",
       "144841  1.846190  DAEFRHDSGYEVHHQKLVLLAEDLGSNKGALLGLMVGGVVIA   \n",
       "\n",
       "                       dataset  \n",
       "0       shallow_double_mutants  \n",
       "1       shallow_double_mutants  \n",
       "2       shallow_double_mutants  \n",
       "3       shallow_double_mutants  \n",
       "4       shallow_double_mutants  \n",
       "...                        ...  \n",
       "144837                   DTS05  \n",
       "144838                   DTS05  \n",
       "144839                   DTS05  \n",
       "144840                   DTS05  \n",
       "144841                   DTS05  \n",
       "\n",
       "[144842 rows x 6 columns]"
      ]
     },
     "execution_count": 87,
     "metadata": {},
     "output_type": "execute_result"
    }
   ],
   "source": [
    "geo_table_merged"
   ]
  },
  {
   "cell_type": "code",
   "execution_count": 88,
   "id": "f31b9e72-9bbd-4828-a343-319a52c63774",
   "metadata": {
    "tags": []
   },
   "outputs": [],
   "source": [
    "geo_table_merged['fAD_category'] = ['non-fAD' for i in range(len(geo_table_merged))]\n",
    "\n",
    "\n",
    "for idx in list(geo_table_merged.index):\n",
    "    \n",
    "    curr_aa_seq_full = geo_table_merged.loc[idx,'aa_seq_full']\n",
    "    \n",
    "    if curr_aa_seq_full in fAD_mutations_full_aa_seqs:\n",
    "        geo_table_merged.loc[idx,'fAD_category'] = 'fAD'"
   ]
  },
  {
   "cell_type": "code",
   "execution_count": 89,
   "id": "e4497ebc-18ad-426c-b03b-57509f4cf051",
   "metadata": {
    "tags": []
   },
   "outputs": [
    {
     "data": {
      "text/html": [
       "<div>\n",
       "<style scoped>\n",
       "    .dataframe tbody tr th:only-of-type {\n",
       "        vertical-align: middle;\n",
       "    }\n",
       "\n",
       "    .dataframe tbody tr th {\n",
       "        vertical-align: top;\n",
       "    }\n",
       "\n",
       "    .dataframe thead th {\n",
       "        text-align: right;\n",
       "    }\n",
       "</style>\n",
       "<table border=\"1\" class=\"dataframe\">\n",
       "  <thead>\n",
       "    <tr style=\"text-align: right;\">\n",
       "      <th></th>\n",
       "      <th>aa_seq</th>\n",
       "      <th>mean_count</th>\n",
       "      <th>fitness</th>\n",
       "      <th>sigma</th>\n",
       "      <th>aa_seq_full</th>\n",
       "      <th>dataset</th>\n",
       "      <th>fAD_category</th>\n",
       "    </tr>\n",
       "  </thead>\n",
       "  <tbody>\n",
       "    <tr>\n",
       "      <th>0</th>\n",
       "      <td>KAEFRHDSGYEVHHQKLVFFAEDVGSNKGAIIGLMVGGVVIA</td>\n",
       "      <td>210.500000</td>\n",
       "      <td>-0.117352</td>\n",
       "      <td>0.387033</td>\n",
       "      <td>KAEFRHDSGYEVHHQKLVFFAEDVGSNKGAIIGLMVGGVVIA</td>\n",
       "      <td>shallow_double_mutants</td>\n",
       "      <td>non-fAD</td>\n",
       "    </tr>\n",
       "    <tr>\n",
       "      <th>1</th>\n",
       "      <td>NAEFRHDSGYEVHHQKLVFFAEDVGSNKGAIIGLMVGGVVIA</td>\n",
       "      <td>28544.000000</td>\n",
       "      <td>0.352500</td>\n",
       "      <td>0.062247</td>\n",
       "      <td>NAEFRHDSGYEVHHQKLVFFAEDVGSNKGAIIGLMVGGVVIA</td>\n",
       "      <td>shallow_double_mutants</td>\n",
       "      <td>non-fAD</td>\n",
       "    </tr>\n",
       "    <tr>\n",
       "      <th>2</th>\n",
       "      <td>NTEFRHDSGYEVHHQKLVFFAEDVGSNKGAIIGLMVGGVVIA</td>\n",
       "      <td>170.000000</td>\n",
       "      <td>0.381524</td>\n",
       "      <td>0.420981</td>\n",
       "      <td>NTEFRHDSGYEVHHQKLVFFAEDVGSNKGAIIGLMVGGVVIA</td>\n",
       "      <td>shallow_double_mutants</td>\n",
       "      <td>non-fAD</td>\n",
       "    </tr>\n",
       "    <tr>\n",
       "      <th>3</th>\n",
       "      <td>NEEFRHDSGYEVHHQKLVFFAEDVGSNKGAIIGLMVGGVVIA</td>\n",
       "      <td>146.000000</td>\n",
       "      <td>0.052856</td>\n",
       "      <td>0.450957</td>\n",
       "      <td>NEEFRHDSGYEVHHQKLVFFAEDVGSNKGAIIGLMVGGVVIA</td>\n",
       "      <td>shallow_double_mutants</td>\n",
       "      <td>non-fAD</td>\n",
       "    </tr>\n",
       "    <tr>\n",
       "      <th>4</th>\n",
       "      <td>NAKFRHDSGYEVHHQKLVFFAEDVGSNKGAIIGLMVGGVVIA</td>\n",
       "      <td>64.500000</td>\n",
       "      <td>0.495394</td>\n",
       "      <td>0.711069</td>\n",
       "      <td>NAKFRHDSGYEVHHQKLVFFAEDVGSNKGAIIGLMVGGVVIA</td>\n",
       "      <td>shallow_double_mutants</td>\n",
       "      <td>non-fAD</td>\n",
       "    </tr>\n",
       "    <tr>\n",
       "      <th>...</th>\n",
       "      <td>...</td>\n",
       "      <td>...</td>\n",
       "      <td>...</td>\n",
       "      <td>...</td>\n",
       "      <td>...</td>\n",
       "      <td>...</td>\n",
       "      <td>...</td>\n",
       "    </tr>\n",
       "    <tr>\n",
       "      <th>144837</th>\n",
       "      <td>VHHQKLVLLAEDLGSNKGALFGMMVGGVVIA</td>\n",
       "      <td>814.666667</td>\n",
       "      <td>-0.447388</td>\n",
       "      <td>1.620909</td>\n",
       "      <td>DAEFRHDSGYEVHHQKLVLLAEDLGSNKGALFGMMVGGVVIA</td>\n",
       "      <td>DTS05</td>\n",
       "      <td>non-fAD</td>\n",
       "    </tr>\n",
       "    <tr>\n",
       "      <th>144838</th>\n",
       "      <td>VHHQKLVLLAEDLGSNKGALFGLMVGGVVIA</td>\n",
       "      <td>696.333333</td>\n",
       "      <td>1.447367</td>\n",
       "      <td>0.953764</td>\n",
       "      <td>DAEFRHDSGYEVHHQKLVLLAEDLGSNKGALFGLMVGGVVIA</td>\n",
       "      <td>DTS05</td>\n",
       "      <td>non-fAD</td>\n",
       "    </tr>\n",
       "    <tr>\n",
       "      <th>144839</th>\n",
       "      <td>VHHQKLVLLAEDLGSNKGALLGVMVGGVVIA</td>\n",
       "      <td>2741.333333</td>\n",
       "      <td>0.034470</td>\n",
       "      <td>0.736629</td>\n",
       "      <td>DAEFRHDSGYEVHHQKLVLLAEDLGSNKGALLGVMVGGVVIA</td>\n",
       "      <td>DTS05</td>\n",
       "      <td>non-fAD</td>\n",
       "    </tr>\n",
       "    <tr>\n",
       "      <th>144840</th>\n",
       "      <td>VHHQKLVLLAEDLGSNKGALLGFMVGGVVIA</td>\n",
       "      <td>935.333333</td>\n",
       "      <td>-0.625840</td>\n",
       "      <td>1.737394</td>\n",
       "      <td>DAEFRHDSGYEVHHQKLVLLAEDLGSNKGALLGFMVGGVVIA</td>\n",
       "      <td>DTS05</td>\n",
       "      <td>non-fAD</td>\n",
       "    </tr>\n",
       "    <tr>\n",
       "      <th>144841</th>\n",
       "      <td>VHHQKLVLLAEDLGSNKGALLGLMVGGVVIA</td>\n",
       "      <td>545.000000</td>\n",
       "      <td>-1.031706</td>\n",
       "      <td>1.846190</td>\n",
       "      <td>DAEFRHDSGYEVHHQKLVLLAEDLGSNKGALLGLMVGGVVIA</td>\n",
       "      <td>DTS05</td>\n",
       "      <td>non-fAD</td>\n",
       "    </tr>\n",
       "  </tbody>\n",
       "</table>\n",
       "<p>144842 rows × 7 columns</p>\n",
       "</div>"
      ],
      "text/plain": [
       "                                            aa_seq    mean_count   fitness  \\\n",
       "0       KAEFRHDSGYEVHHQKLVFFAEDVGSNKGAIIGLMVGGVVIA    210.500000 -0.117352   \n",
       "1       NAEFRHDSGYEVHHQKLVFFAEDVGSNKGAIIGLMVGGVVIA  28544.000000  0.352500   \n",
       "2       NTEFRHDSGYEVHHQKLVFFAEDVGSNKGAIIGLMVGGVVIA    170.000000  0.381524   \n",
       "3       NEEFRHDSGYEVHHQKLVFFAEDVGSNKGAIIGLMVGGVVIA    146.000000  0.052856   \n",
       "4       NAKFRHDSGYEVHHQKLVFFAEDVGSNKGAIIGLMVGGVVIA     64.500000  0.495394   \n",
       "...                                            ...           ...       ...   \n",
       "144837             VHHQKLVLLAEDLGSNKGALFGMMVGGVVIA    814.666667 -0.447388   \n",
       "144838             VHHQKLVLLAEDLGSNKGALFGLMVGGVVIA    696.333333  1.447367   \n",
       "144839             VHHQKLVLLAEDLGSNKGALLGVMVGGVVIA   2741.333333  0.034470   \n",
       "144840             VHHQKLVLLAEDLGSNKGALLGFMVGGVVIA    935.333333 -0.625840   \n",
       "144841             VHHQKLVLLAEDLGSNKGALLGLMVGGVVIA    545.000000 -1.031706   \n",
       "\n",
       "           sigma                                 aa_seq_full  \\\n",
       "0       0.387033  KAEFRHDSGYEVHHQKLVFFAEDVGSNKGAIIGLMVGGVVIA   \n",
       "1       0.062247  NAEFRHDSGYEVHHQKLVFFAEDVGSNKGAIIGLMVGGVVIA   \n",
       "2       0.420981  NTEFRHDSGYEVHHQKLVFFAEDVGSNKGAIIGLMVGGVVIA   \n",
       "3       0.450957  NEEFRHDSGYEVHHQKLVFFAEDVGSNKGAIIGLMVGGVVIA   \n",
       "4       0.711069  NAKFRHDSGYEVHHQKLVFFAEDVGSNKGAIIGLMVGGVVIA   \n",
       "...          ...                                         ...   \n",
       "144837  1.620909  DAEFRHDSGYEVHHQKLVLLAEDLGSNKGALFGMMVGGVVIA   \n",
       "144838  0.953764  DAEFRHDSGYEVHHQKLVLLAEDLGSNKGALFGLMVGGVVIA   \n",
       "144839  0.736629  DAEFRHDSGYEVHHQKLVLLAEDLGSNKGALLGVMVGGVVIA   \n",
       "144840  1.737394  DAEFRHDSGYEVHHQKLVLLAEDLGSNKGALLGFMVGGVVIA   \n",
       "144841  1.846190  DAEFRHDSGYEVHHQKLVLLAEDLGSNKGALLGLMVGGVVIA   \n",
       "\n",
       "                       dataset fAD_category  \n",
       "0       shallow_double_mutants      non-fAD  \n",
       "1       shallow_double_mutants      non-fAD  \n",
       "2       shallow_double_mutants      non-fAD  \n",
       "3       shallow_double_mutants      non-fAD  \n",
       "4       shallow_double_mutants      non-fAD  \n",
       "...                        ...          ...  \n",
       "144837                   DTS05      non-fAD  \n",
       "144838                   DTS05      non-fAD  \n",
       "144839                   DTS05      non-fAD  \n",
       "144840                   DTS05      non-fAD  \n",
       "144841                   DTS05      non-fAD  \n",
       "\n",
       "[144842 rows x 7 columns]"
      ]
     },
     "execution_count": 89,
     "metadata": {},
     "output_type": "execute_result"
    }
   ],
   "source": [
    "geo_table_merged"
   ]
  },
  {
   "cell_type": "code",
   "execution_count": 90,
   "id": "a1ba406b-8165-46b2-b949-d3745b6faab6",
   "metadata": {
    "tags": []
   },
   "outputs": [
    {
     "data": {
      "text/plain": [
       "fAD_category\n",
       "non-fAD    144814\n",
       "fAD            28\n",
       "Name: count, dtype: int64"
      ]
     },
     "execution_count": 90,
     "metadata": {},
     "output_type": "execute_result"
    }
   ],
   "source": [
    "geo_table_merged['fAD_category'].value_counts()"
   ]
  },
  {
   "cell_type": "code",
   "execution_count": 92,
   "id": "9d6383cb-f530-45e6-b83a-244f098881c8",
   "metadata": {
    "tags": []
   },
   "outputs": [],
   "source": [
    "geo_table_merged.to_csv(\"GEO_data_table_sheet.csv\")"
   ]
  },
  {
   "cell_type": "code",
   "execution_count": null,
   "id": "88d26096-f00a-4f9a-96b4-88080dcaa3d2",
   "metadata": {},
   "outputs": [],
   "source": []
  },
  {
   "cell_type": "code",
   "execution_count": null,
   "id": "06991168-7b1e-4142-805c-94ab2180b72c",
   "metadata": {},
   "outputs": [],
   "source": []
  },
  {
   "cell_type": "code",
   "execution_count": null,
   "id": "d5f08556-039b-4c29-a245-5d78781289b9",
   "metadata": {},
   "outputs": [],
   "source": []
  },
  {
   "cell_type": "code",
   "execution_count": null,
   "id": "9b2a1c5e-57d6-47cd-a5e0-0c7ec422b751",
   "metadata": {},
   "outputs": [],
   "source": []
  },
  {
   "cell_type": "code",
   "execution_count": null,
   "id": "dff7e165-e8d3-4e3d-bb28-2ffa5f169ebe",
   "metadata": {},
   "outputs": [],
   "source": []
  },
  {
   "cell_type": "code",
   "execution_count": null,
   "id": "2d477140-0bf4-4d0a-a0bd-891f5e5defbf",
   "metadata": {},
   "outputs": [],
   "source": []
  },
  {
   "cell_type": "code",
   "execution_count": null,
   "id": "ceffa9bc-2c96-464b-bca1-754c7d53c153",
   "metadata": {},
   "outputs": [],
   "source": []
  }
 ],
 "metadata": {
  "kernelspec": {
   "display_name": "base_workenv",
   "language": "python",
   "name": "base_workenv"
  },
  "language_info": {
   "codemirror_mode": {
    "name": "ipython",
    "version": 3
   },
   "file_extension": ".py",
   "mimetype": "text/x-python",
   "name": "python",
   "nbconvert_exporter": "python",
   "pygments_lexer": "ipython3",
   "version": "3.11.5"
  }
 },
 "nbformat": 4,
 "nbformat_minor": 5
}
