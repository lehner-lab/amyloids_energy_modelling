{
 "cells": [
  {
   "cell_type": "markdown",
   "id": "00eee92c-79cc-4b9b-8adf-e7179c39e2bc",
   "metadata": {
    "tags": []
   },
   "source": [
    "# Running MoCHI on DTS01 (Combinatorial-1) and DTS05 (Combinatorial-2) datasets - *all variants*\n",
    "\n",
    "1. Allowing up to 2nd order terms\n",
    "2. Fitting the following functions: Sigmoid, ELU and Linear\n",
    "3. `l2_regularization_factor` = 10^(-5)\n",
    "\n",
    "`mochi_all_variants_DTS01_20240424.tsv` and likewise for DTS05\n",
    "\n",
    "24.04.2024"
   ]
  },
  {
   "cell_type": "code",
   "execution_count": 1,
   "id": "025d8088-8560-4c32-8a64-9b6d7198ec2d",
   "metadata": {},
   "outputs": [],
   "source": [
    "import pymochi\n",
    "from pymochi.data import MochiData\n",
    "from pymochi.models import MochiTask\n",
    "from pymochi.project import MochiProject\n",
    "from pymochi.report import MochiReport\n",
    "import pandas as pd\n",
    "import numpy as np\n",
    "import pickle"
   ]
  },
  {
   "cell_type": "code",
   "execution_count": 2,
   "id": "820de397-1fec-4e8c-ac61-4354c99f3e13",
   "metadata": {
    "collapsed": true,
    "jupyter": {
     "outputs_hidden": true
    },
    "tags": []
   },
   "outputs": [
    {
     "name": "stdout",
     "output_type": "stream",
     "text": [
      "asttokens @ file:///home/conda/feedstock_root/build_artifacts/asttokens_1698341106958/work\n",
      "certifi @ file:///home/conda/feedstock_root/build_artifacts/certifi_1707022139797/work/certifi\n",
      "comm @ file:///home/conda/feedstock_root/build_artifacts/comm_1710320294760/work\n",
      "cycler @ file:///home/conda/feedstock_root/build_artifacts/cycler_1696677705766/work\n",
      "debugpy @ file:///home/conda/feedstock_root/build_artifacts/debugpy_1707444393922/work\n",
      "decorator @ file:///home/conda/feedstock_root/build_artifacts/decorator_1641555617451/work\n",
      "exceptiongroup @ file:///home/conda/feedstock_root/build_artifacts/exceptiongroup_1704921103267/work\n",
      "executing @ file:///home/conda/feedstock_root/build_artifacts/executing_1698579936712/work\n",
      "fonttools @ file:///home/conda/feedstock_root/build_artifacts/fonttools_1710865504921/work\n",
      "importlib_metadata @ file:///home/conda/feedstock_root/build_artifacts/importlib-metadata_1709821103657/work\n",
      "ipykernel @ file:///home/conda/feedstock_root/build_artifacts/ipykernel_1708996548741/work\n",
      "ipython @ file:///home/conda/feedstock_root/build_artifacts/ipython_1701831663892/work\n",
      "jedi @ file:///home/conda/feedstock_root/build_artifacts/jedi_1696326070614/work\n",
      "joblib @ file:///home/conda/feedstock_root/build_artifacts/joblib_1691577114857/work\n",
      "jupyter_client @ file:///home/conda/feedstock_root/build_artifacts/jupyter_client_1710255804825/work\n",
      "jupyter_core @ file:///home/conda/feedstock_root/build_artifacts/jupyter_core_1710257447442/work\n",
      "kiwisolver @ file:///home/conda/feedstock_root/build_artifacts/kiwisolver_1695379916629/work\n",
      "matplotlib @ file:///home/conda/feedstock_root/build_artifacts/matplotlib-suite_1639359646028/work\n",
      "matplotlib-inline @ file:///home/conda/feedstock_root/build_artifacts/matplotlib-inline_1660814786464/work\n",
      "munkres==1.1.4\n",
      "nest_asyncio @ file:///home/conda/feedstock_root/build_artifacts/nest-asyncio_1705850609492/work\n",
      "numpy @ file:///home/conda/feedstock_root/build_artifacts/numpy_1629092040774/work\n",
      "packaging @ file:///home/conda/feedstock_root/build_artifacts/packaging_1710075952259/work\n",
      "pandas==1.4.2\n",
      "parso @ file:///home/conda/feedstock_root/build_artifacts/parso_1638334955874/work\n",
      "patsy @ file:///home/conda/feedstock_root/build_artifacts/patsy_1704469236901/work\n",
      "pexpect @ file:///home/conda/feedstock_root/build_artifacts/pexpect_1706113125309/work\n",
      "pickleshare @ file:///home/conda/feedstock_root/build_artifacts/pickleshare_1602536217715/work\n",
      "pillow @ file:///home/conda/feedstock_root/build_artifacts/pillow_1704252023309/work\n",
      "platformdirs @ file:///home/conda/feedstock_root/build_artifacts/platformdirs_1706713388748/work\n",
      "ply==3.11\n",
      "prompt-toolkit @ file:///home/conda/feedstock_root/build_artifacts/prompt-toolkit_1702399386289/work\n",
      "psutil @ file:///home/conda/feedstock_root/build_artifacts/psutil_1705722404069/work\n",
      "ptyprocess @ file:///home/conda/feedstock_root/build_artifacts/ptyprocess_1609419310487/work/dist/ptyprocess-0.7.0-py2.py3-none-any.whl\n",
      "pure-eval @ file:///home/conda/feedstock_root/build_artifacts/pure_eval_1642875951954/work\n",
      "Pygments @ file:///home/conda/feedstock_root/build_artifacts/pygments_1700607939962/work\n",
      "-e git+https://github.com/lehner-lab/MoCHI.git@3aa043f0c0e123e721c221c03780c114af27aaee#egg=pymochi\n",
      "pyparsing @ file:///home/conda/feedstock_root/build_artifacts/pyparsing_1709721012883/work\n",
      "PyQt5==5.15.9\n",
      "PyQt5-sip==12.12.2\n",
      "pyreadr @ file:///home/conda/feedstock_root/build_artifacts/pyreadr_1651586441322/work\n",
      "python-dateutil @ file:///home/conda/feedstock_root/build_artifacts/python-dateutil_1709299778482/work\n",
      "pytz @ file:///home/conda/feedstock_root/build_artifacts/pytz_1706886791323/work\n",
      "pyzmq @ file:///home/conda/feedstock_root/build_artifacts/pyzmq_1701783166972/work\n",
      "scikit-learn @ file:///home/conda/feedstock_root/build_artifacts/scikit-learn_1640464150285/work\n",
      "scipy @ file:///home/conda/feedstock_root/build_artifacts/scipy_1644357253444/work\n",
      "seaborn @ file:///home/conda/feedstock_root/build_artifacts/seaborn-split_1629095986539/work\n",
      "sip @ file:///home/conda/feedstock_root/build_artifacts/sip_1697300422453/work\n",
      "six @ file:///home/conda/feedstock_root/build_artifacts/six_1620240208055/work\n",
      "stack-data @ file:///home/conda/feedstock_root/build_artifacts/stack_data_1669632077133/work\n",
      "statsmodels @ file:///home/conda/feedstock_root/build_artifacts/statsmodels_1667586005244/work\n",
      "threadpoolctl @ file:///home/conda/feedstock_root/build_artifacts/threadpoolctl_1707930541534/work\n",
      "toml @ file:///home/conda/feedstock_root/build_artifacts/toml_1604308577558/work\n",
      "tomli @ file:///home/conda/feedstock_root/build_artifacts/tomli_1644342247877/work\n",
      "torch==1.10.1\n",
      "tornado @ file:///home/conda/feedstock_root/build_artifacts/tornado_1708363103305/work\n",
      "traitlets @ file:///home/conda/feedstock_root/build_artifacts/traitlets_1710254411456/work\n",
      "typing_extensions @ file:///home/conda/feedstock_root/build_artifacts/typing_extensions_1708904622550/work\n",
      "unicodedata2 @ file:///home/conda/feedstock_root/build_artifacts/unicodedata2_1695847984941/work\n",
      "wcwidth @ file:///home/conda/feedstock_root/build_artifacts/wcwidth_1704731205417/work\n",
      "zipp @ file:///home/conda/feedstock_root/build_artifacts/zipp_1695255097490/work\n"
     ]
    }
   ],
   "source": [
    "%%bash\n",
    "\n",
    "pip freeze"
   ]
  },
  {
   "cell_type": "code",
   "execution_count": 3,
   "id": "87ca90e2-6d25-4f48-8d74-6c74267ba9ff",
   "metadata": {},
   "outputs": [
    {
     "name": "stdout",
     "output_type": "stream",
     "text": [
      "/lustre/scratch126/gengen/projects/amyloid_beta_epistasis/DTS_joint_analysis/selected_DTS_datasets_analysis/DTS01_DTS05\n"
     ]
    }
   ],
   "source": [
    "%%bash\n",
    "\n",
    "#!/usr/bin/env\n",
    "\n",
    "pwd\n"
   ]
  },
  {
   "cell_type": "code",
   "execution_count": 4,
   "id": "40cc6aca-e1a3-4c6b-a881-d99a5a9402f5",
   "metadata": {
    "tags": []
   },
   "outputs": [],
   "source": [
    "filedir = '/lustre/scratch126/gengen/projects/amyloid_beta_epistasis/DTS_joint_analysis/files/'\n",
    "\n",
    "datasets = ['DTS01',\n",
    "            'DTS05',\n",
    "           ]\n",
    "\n",
    "filenames = {}\n",
    "for dataset in datasets:\n",
    "    filenames[dataset] = 'mochi_all_variants_' + dataset + '_20240424.tsv'\n",
    "\n",
    "output_dir = '/lustre/scratch126/gengen/projects/amyloid_beta_epistasis/DTS_joint_analysis/mochi_results/'"
   ]
  },
  {
   "cell_type": "code",
   "execution_count": 5,
   "id": "891b3fcd-4320-4221-ad02-f57374b2705d",
   "metadata": {},
   "outputs": [
    {
     "name": "stdout",
     "output_type": "stream",
     "text": [
      "DTS01\n",
      "(array([42]), array([37671])) \n",
      "\n",
      "DTS05\n",
      "(array([42]), array([5283])) \n",
      "\n"
     ]
    }
   ],
   "source": [
    "# For joint modelling making sure that the aa_seq is comlemented the full Ab sequence\n",
    "# this was done in notebook M0\n",
    "\n",
    "all_vars = {}\n",
    "\n",
    "total_n_vars = 0\n",
    "\n",
    "for dataset in datasets:\n",
    "    print(dataset)\n",
    "    all_vars[dataset] = pd.read_csv(filedir + filenames[dataset], sep='\\t')\n",
    "    # check length of aa_seq, should be already complemented to full Ab sequence (42 aa)\n",
    "    print(np.unique([len(elem) for elem in all_vars[dataset]['aa_seq']], return_counts=True), '\\n')\n",
    "    \n",
    "    total_n_vars = total_n_vars + len(all_vars[dataset])"
   ]
  },
  {
   "cell_type": "code",
   "execution_count": 6,
   "id": "0c7a7488-fe0f-4d0c-a13b-a53b126df268",
   "metadata": {},
   "outputs": [
    {
     "data": {
      "text/plain": [
       "42954"
      ]
     },
     "execution_count": 6,
     "metadata": {},
     "output_type": "execute_result"
    }
   ],
   "source": [
    "# 213771 variants in total, 182099 without DTS02, 45925 for ensemble of DTS01+DTS05+DTS14\n",
    "total_n_vars"
   ]
  },
  {
   "cell_type": "code",
   "execution_count": 7,
   "id": "45dd34f8-4c61-4217-a321-f72a35f01939",
   "metadata": {
    "tags": []
   },
   "outputs": [
    {
     "name": "stdout",
     "output_type": "stream",
     "text": [
      "DTS01\n",
      "                                           aa_seq  Nham_aa   WT  fitness  \\\n",
      "37670  DAEFRHDSGYEVHHQKLVFFAEDVGSNKGAIIGLMVGGVVIA        0  1.0      0.0   \n",
      "\n",
      "       sigma  \n",
      "37670  100.0  \n",
      "\n",
      "\n",
      "DTS05\n",
      "                                          aa_seq  Nham_aa   WT  fitness  sigma\n",
      "5282  DAEFRHDSGYEVHHQKLVFFAEDVGSNKGAIIGLMVGGVVIA        0  1.0      0.0  100.0\n",
      "\n",
      "\n"
     ]
    }
   ],
   "source": [
    "# actual WT of Ab, artificially added to these tables in notebook M0\n",
    "wt_vars = {}\n",
    "\n",
    "for dataset in datasets:\n",
    "    print(dataset)\n",
    "    print(all_vars[dataset][all_vars[dataset]['WT'] == 1])\n",
    "    wt_vars[dataset] = list(all_vars[dataset][all_vars[dataset]['WT'] == 1]['aa_seq'])[0]\n",
    "    print('\\n')"
   ]
  },
  {
   "cell_type": "code",
   "execution_count": 8,
   "id": "6b51bf00-205a-49d3-b6cc-fce205ed25ea",
   "metadata": {},
   "outputs": [
    {
     "data": {
      "text/plain": [
       "{'DTS01': 'DAEFRHDSGYEVHHQKLVFFAEDVGSNKGAIIGLMVGGVVIA',\n",
       " 'DTS05': 'DAEFRHDSGYEVHHQKLVFFAEDVGSNKGAIIGLMVGGVVIA'}"
      ]
     },
     "execution_count": 8,
     "metadata": {},
     "output_type": "execute_result"
    }
   ],
   "source": [
    "wt_vars"
   ]
  },
  {
   "cell_type": "code",
   "execution_count": null,
   "id": "b682d6a2-f219-4227-a004-5d14c346fead",
   "metadata": {},
   "outputs": [],
   "source": []
  },
  {
   "cell_type": "code",
   "execution_count": null,
   "id": "043ea219-8df6-4f48-804d-1eb97fdf60d7",
   "metadata": {},
   "outputs": [],
   "source": []
  },
  {
   "cell_type": "code",
   "execution_count": 9,
   "id": "f6ab32bf-ddae-4f48-b035-35e331d22d15",
   "metadata": {},
   "outputs": [],
   "source": [
    "# setting l2_regularization_factor to 10^(-5)\n",
    "l2_regularization_factor_value = 0.00001"
   ]
  },
  {
   "cell_type": "markdown",
   "id": "6e2f7014-48c6-4e45-9f45-d86729cda599",
   "metadata": {},
   "source": [
    "# Fitting a joint model first"
   ]
  },
  {
   "cell_type": "code",
   "execution_count": null,
   "id": "a26ba2e0-c1c3-42a1-8dab-022c8038b1c0",
   "metadata": {
    "tags": []
   },
   "outputs": [
    {
     "name": "stdout",
     "output_type": "stream",
     "text": [
      "Transformation: Sigmoid\n",
      "N_max_interaction_order 2\n",
      "Loading fitness data\n",
      "One-hot encoding sequence features\n",
      "One-hot encoding interaction features\n",
      "... Total theoretical features (order:count): 2:640\n",
      "... Total retained features (order:count): 2:640 (100.0%)\n",
      "Defining cross-validation groups\n",
      "Defining coefficient groups\n",
      "Done!\n",
      "Performing grid search...\n",
      "Fitting model:\n",
      "{'fold': 1, 'seed': 1, 'grid_search': True, 'batch_size': 512, 'learn_rate': 0.05, 'num_epochs': 1000, 'num_epochs_grid': 100, 'l1_regularization_factor': 0.0, 'l2_regularization_factor': 1e-05, 'training_resample': True, 'early_stopping': True, 'scheduler_gamma': 0.98, 'scheduler_epochs': 10, 'loss_function_name': 'WeightedL1', 'sos_architecture': [5], 'sos_outputlinear': False}\n",
      "Epoch 1; Avg_val_loss: 1.1218; WTcoef_1: 0.4168; WTres_1: 3.9632; WTres_2: -4.0867; \n",
      "Epoch 11; Avg_val_loss: 1.0503; WTcoef_1: 0.6824; WTres_1: 2.9029; WTres_2: -4.4585; \n",
      "Epoch 21; Avg_val_loss: 1.0456; WTcoef_1: 0.9153; WTres_1: 2.6524; WTres_2: -4.6301; \n",
      "Epoch 31; Avg_val_loss: 1.0515; WTcoef_1: 1.0497; WTres_1: 2.4273; WTres_2: -4.8711; \n",
      "Epoch 41; Avg_val_loss: 1.0366; WTcoef_1: 1.1391; WTres_1: 2.2688; WTres_2: -4.9104; \n",
      "Epoch 51; Avg_val_loss: 1.0406; WTcoef_1: 1.3010; WTres_1: 2.0777; WTres_2: -5.0110; \n",
      "Epoch 61; Avg_val_loss: 1.0273; WTcoef_1: 1.3078; WTres_1: 2.0982; WTres_2: -5.1019; \n",
      "Epoch 71; Avg_val_loss: 1.0241; WTcoef_1: 1.4040; WTres_1: 1.8721; WTres_2: -5.1627; \n",
      "Epoch 81; Avg_val_loss: 1.0353; WTcoef_1: 1.5094; WTres_1: 1.8170; WTres_2: -5.3410; \n"
     ]
    }
   ],
   "source": [
    "# started at 15:40 (24.04.2024)\n",
    "# fold1 of model 1 began at X\n",
    "# overall 2 models to fit (1 function fits x 2 N_max_interaction_order)\n",
    "# with 64 Gb of RAM and 8 CPU cores\n",
    "# using 80 Gb GPU RAM\n",
    "\n",
    "k_folds = 10\n",
    "\n",
    "transformations = ['Sigmoid', #'ELU', 'Linear'\n",
    "                  ] \n",
    "\n",
    "N_max_interaction_order = [2, 1]\n",
    "\n",
    "for transformation in transformations:\n",
    "    print('Transformation:', transformation)\n",
    "        \n",
    "    for n_max_interaction_order in N_max_interaction_order:\n",
    "        print('N_max_interaction_order', n_max_interaction_order)\n",
    "    \n",
    "        my_model_design = pd.DataFrame({\n",
    "                   'phenotype': ['Nucleation_' + dataset for dataset in datasets],\n",
    "\n",
    "                    # transformation can be one of: Linear, ReLU, SiLU, Sigmoid, SumOfSigmoids, \n",
    "                    #                               TwoStateFractionFolded, ThreeStateFractionFolded, FourStateFractionFolded\n",
    "\n",
    "                   'transformation': [transformation for dataset in datasets], \n",
    "                   'trait': ['Nucleation' for dataset in datasets],\n",
    "                   'file': [filedir + filenames[dataset] for dataset in datasets]})\n",
    "\n",
    "        mochi_project = MochiTask(\n",
    "                   directory = output_dir + '20240424_max_terms_order_' + str(n_max_interaction_order) + '_' + transformation + '_l2_regularization_factor_' + str(l2_regularization_factor_value) + '_DTS01_DT05_all_variants',\n",
    "                   data = MochiData(\n",
    "                      model_design = my_model_design,\n",
    "                      max_interaction_order = n_max_interaction_order,\n",
    "                      k_folds = k_folds),\n",
    "                l2_regularization_factor = l2_regularization_factor_value,\n",
    "\n",
    "                # this was 200 before by default - now might be a better fit - can try different values in the future\n",
    "            sos_architecture = [5])\n",
    "\n",
    "        # started at X\n",
    "        # takes about 6-7?? minutes\n",
    "        mochi_project.grid_search() \n",
    "\n",
    "        for i in range(k_folds):\n",
    "            mochi_project.fit_best(fold = i+1)\n",
    "\n",
    "        temperature = 30\n",
    "\n",
    "        mochi_report = MochiReport(\n",
    "                   task = mochi_project, # changed from project = mochi_project, there must have been a change in agrument name\n",
    "                   RT = (273+temperature)*0.001987)\n",
    "\n",
    "        energies = mochi_project.get_additive_trait_weights(\n",
    "                   RT = (273+temperature)*0.001987)\n",
    "\n",
    "        mochi_project.save()\n",
    "            \n",
    "        #print('Done with l2_regularization_factor_value', l2_regularization_factor_value, '\\n', '################')\n",
    "\n",
    "        print('Done with transformation', transformation, '\\n', '################')\n",
    "        \n",
    "    print('Done with n_max_interaction_order', n_max_interaction_order, '\\n', '################')"
   ]
  },
  {
   "cell_type": "code",
   "execution_count": null,
   "id": "f71494f1-fac9-4f36-8e30-0b3ab70d5050",
   "metadata": {},
   "outputs": [],
   "source": []
  },
  {
   "cell_type": "code",
   "execution_count": null,
   "id": "5ed92b74-e916-4085-ae9b-a6d0bd63c89a",
   "metadata": {},
   "outputs": [],
   "source": []
  }
 ],
 "metadata": {
  "kernelspec": {
   "display_name": "pymochi",
   "language": "python",
   "name": "pymochi"
  },
  "language_info": {
   "codemirror_mode": {
    "name": "ipython",
    "version": 3
   },
   "file_extension": ".py",
   "mimetype": "text/x-python",
   "name": "python",
   "nbconvert_exporter": "python",
   "pygments_lexer": "ipython3",
   "version": "3.9.9"
  }
 },
 "nbformat": 4,
 "nbformat_minor": 5
}
