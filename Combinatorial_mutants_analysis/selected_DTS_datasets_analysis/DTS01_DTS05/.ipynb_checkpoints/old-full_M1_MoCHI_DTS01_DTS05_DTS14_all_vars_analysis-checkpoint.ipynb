{
 "cells": [
  {
   "cell_type": "markdown",
   "id": "00eee92c-79cc-4b9b-8adf-e7179c39e2bc",
   "metadata": {
    "tags": []
   },
   "source": [
    "# Running MoCHI on DTS01 + DTS05 datasets only - *all variants*, no subsampling \n",
    "\n",
    "1. Allowing for 1st order terms or 1st and 2nd order terms\n",
    "2. Fitting the following functions: Sigmoid, ELU and Linear\n",
    "3. `l2_regularization_factor` = 10^(-5)\n",
    "4. Running a joint model (1) and separate per dataset models (3)\n",
    "\n",
    "Using **all live variants** from the files generated in notebook M0 in `/lustre/scratch126/gengen/projects/amyloid_beta_epistasis/DTS_joint_analysis/selected_DTS_datasets_analysis/DTS01_DTS05_DTS14/run_with_all_variants_to_use/`: \n",
    "\n",
    "`mochi_all_variants_DTS01_20240424.tsv` and likewise for DTS05\n",
    "\n",
    "24.04.2024"
   ]
  },
  {
   "cell_type": "code",
   "execution_count": 1,
   "id": "025d8088-8560-4c32-8a64-9b6d7198ec2d",
   "metadata": {},
   "outputs": [],
   "source": [
    "import pymochi\n",
    "from pymochi.data import MochiData\n",
    "from pymochi.models import MochiTask\n",
    "from pymochi.project import MochiProject\n",
    "from pymochi.report import MochiReport\n",
    "import pandas as pd\n",
    "import numpy as np\n",
    "import pickle"
   ]
  },
  {
   "cell_type": "code",
   "execution_count": 2,
   "id": "820de397-1fec-4e8c-ac61-4354c99f3e13",
   "metadata": {
    "tags": []
   },
   "outputs": [
    {
     "name": "stdout",
     "output_type": "stream",
     "text": [
      "asttokens @ file:///home/conda/feedstock_root/build_artifacts/asttokens_1698341106958/work\n",
      "certifi @ file:///home/conda/feedstock_root/build_artifacts/certifi_1707022139797/work/certifi\n",
      "comm @ file:///home/conda/feedstock_root/build_artifacts/comm_1710320294760/work\n",
      "cycler @ file:///home/conda/feedstock_root/build_artifacts/cycler_1696677705766/work\n",
      "debugpy @ file:///home/conda/feedstock_root/build_artifacts/debugpy_1707444393922/work\n",
      "decorator @ file:///home/conda/feedstock_root/build_artifacts/decorator_1641555617451/work\n",
      "exceptiongroup @ file:///home/conda/feedstock_root/build_artifacts/exceptiongroup_1704921103267/work\n",
      "executing @ file:///home/conda/feedstock_root/build_artifacts/executing_1698579936712/work\n",
      "fonttools @ file:///home/conda/feedstock_root/build_artifacts/fonttools_1710865504921/work\n",
      "importlib_metadata @ file:///home/conda/feedstock_root/build_artifacts/importlib-metadata_1709821103657/work\n",
      "ipykernel @ file:///home/conda/feedstock_root/build_artifacts/ipykernel_1708996548741/work\n",
      "ipython @ file:///home/conda/feedstock_root/build_artifacts/ipython_1701831663892/work\n",
      "jedi @ file:///home/conda/feedstock_root/build_artifacts/jedi_1696326070614/work\n",
      "joblib @ file:///home/conda/feedstock_root/build_artifacts/joblib_1691577114857/work\n",
      "jupyter_client @ file:///home/conda/feedstock_root/build_artifacts/jupyter_client_1710255804825/work\n",
      "jupyter_core @ file:///home/conda/feedstock_root/build_artifacts/jupyter_core_1710257447442/work\n",
      "kiwisolver @ file:///home/conda/feedstock_root/build_artifacts/kiwisolver_1695379916629/work\n",
      "matplotlib @ file:///home/conda/feedstock_root/build_artifacts/matplotlib-suite_1639359646028/work\n",
      "matplotlib-inline @ file:///home/conda/feedstock_root/build_artifacts/matplotlib-inline_1660814786464/work\n",
      "munkres==1.1.4\n",
      "nest_asyncio @ file:///home/conda/feedstock_root/build_artifacts/nest-asyncio_1705850609492/work\n",
      "numpy @ file:///home/conda/feedstock_root/build_artifacts/numpy_1629092040774/work\n",
      "packaging @ file:///home/conda/feedstock_root/build_artifacts/packaging_1710075952259/work\n",
      "pandas==1.4.2\n",
      "parso @ file:///home/conda/feedstock_root/build_artifacts/parso_1638334955874/work\n",
      "patsy @ file:///home/conda/feedstock_root/build_artifacts/patsy_1704469236901/work\n",
      "pexpect @ file:///home/conda/feedstock_root/build_artifacts/pexpect_1706113125309/work\n",
      "pickleshare @ file:///home/conda/feedstock_root/build_artifacts/pickleshare_1602536217715/work\n",
      "pillow @ file:///home/conda/feedstock_root/build_artifacts/pillow_1704252023309/work\n",
      "platformdirs @ file:///home/conda/feedstock_root/build_artifacts/platformdirs_1706713388748/work\n",
      "ply==3.11\n",
      "prompt-toolkit @ file:///home/conda/feedstock_root/build_artifacts/prompt-toolkit_1702399386289/work\n",
      "psutil @ file:///home/conda/feedstock_root/build_artifacts/psutil_1705722404069/work\n",
      "ptyprocess @ file:///home/conda/feedstock_root/build_artifacts/ptyprocess_1609419310487/work/dist/ptyprocess-0.7.0-py2.py3-none-any.whl\n",
      "pure-eval @ file:///home/conda/feedstock_root/build_artifacts/pure_eval_1642875951954/work\n",
      "Pygments @ file:///home/conda/feedstock_root/build_artifacts/pygments_1700607939962/work\n",
      "-e git+https://github.com/lehner-lab/MoCHI.git@3aa043f0c0e123e721c221c03780c114af27aaee#egg=pymochi\n",
      "pyparsing @ file:///home/conda/feedstock_root/build_artifacts/pyparsing_1709721012883/work\n",
      "PyQt5==5.15.9\n",
      "PyQt5-sip==12.12.2\n",
      "pyreadr @ file:///home/conda/feedstock_root/build_artifacts/pyreadr_1651586441322/work\n",
      "python-dateutil @ file:///home/conda/feedstock_root/build_artifacts/python-dateutil_1709299778482/work\n",
      "pytz @ file:///home/conda/feedstock_root/build_artifacts/pytz_1706886791323/work\n",
      "pyzmq @ file:///home/conda/feedstock_root/build_artifacts/pyzmq_1701783166972/work\n",
      "scikit-learn @ file:///home/conda/feedstock_root/build_artifacts/scikit-learn_1640464150285/work\n",
      "scipy @ file:///home/conda/feedstock_root/build_artifacts/scipy_1644357253444/work\n",
      "seaborn @ file:///home/conda/feedstock_root/build_artifacts/seaborn-split_1629095986539/work\n",
      "sip @ file:///home/conda/feedstock_root/build_artifacts/sip_1697300422453/work\n",
      "six @ file:///home/conda/feedstock_root/build_artifacts/six_1620240208055/work\n",
      "stack-data @ file:///home/conda/feedstock_root/build_artifacts/stack_data_1669632077133/work\n",
      "statsmodels @ file:///home/conda/feedstock_root/build_artifacts/statsmodels_1667586005244/work\n",
      "threadpoolctl @ file:///home/conda/feedstock_root/build_artifacts/threadpoolctl_1707930541534/work\n",
      "toml @ file:///home/conda/feedstock_root/build_artifacts/toml_1604308577558/work\n",
      "tomli @ file:///home/conda/feedstock_root/build_artifacts/tomli_1644342247877/work\n",
      "torch==1.10.1\n",
      "tornado @ file:///home/conda/feedstock_root/build_artifacts/tornado_1708363103305/work\n",
      "traitlets @ file:///home/conda/feedstock_root/build_artifacts/traitlets_1710254411456/work\n",
      "typing_extensions @ file:///home/conda/feedstock_root/build_artifacts/typing_extensions_1708904622550/work\n",
      "unicodedata2 @ file:///home/conda/feedstock_root/build_artifacts/unicodedata2_1695847984941/work\n",
      "wcwidth @ file:///home/conda/feedstock_root/build_artifacts/wcwidth_1704731205417/work\n",
      "zipp @ file:///home/conda/feedstock_root/build_artifacts/zipp_1695255097490/work\n"
     ]
    }
   ],
   "source": [
    "%%bash\n",
    "\n",
    "pip freeze"
   ]
  },
  {
   "cell_type": "code",
   "execution_count": 3,
   "id": "87ca90e2-6d25-4f48-8d74-6c74267ba9ff",
   "metadata": {},
   "outputs": [
    {
     "name": "stdout",
     "output_type": "stream",
     "text": [
      "/lustre/scratch126/gengen/projects/amyloid_beta_epistasis/DTS_joint_analysis/selected_DTS_datasets_analysis/DTS01_DTS05\n"
     ]
    }
   ],
   "source": [
    "%%bash\n",
    "\n",
    "#!/usr/bin/env\n",
    "\n",
    "pwd\n"
   ]
  },
  {
   "cell_type": "code",
   "execution_count": 4,
   "id": "40cc6aca-e1a3-4c6b-a881-d99a5a9402f5",
   "metadata": {},
   "outputs": [],
   "source": [
    "filedir = '/lustre/scratch126/gengen/projects/amyloid_beta_epistasis/DTS_joint_analysis/files/'\n",
    "\n",
    "datasets = ['DTS01',\n",
    "            #'DTS02',\n",
    "            'DTS05',\n",
    "            #'DTS10','DTS11','DTS13',\n",
    "            #'DTS14',\n",
    "            #'DTS15'\n",
    "           ]\n",
    "\n",
    "filenames = {}\n",
    "for dataset in datasets:\n",
    "    filenames[dataset] = 'mochi_all_variants_' + dataset + '_20240424.tsv'\n",
    "\n",
    "output_dir = '/lustre/scratch126/gengen/projects/amyloid_beta_epistasis/DTS_joint_analysis/mochi_results/'"
   ]
  },
  {
   "cell_type": "code",
   "execution_count": null,
   "id": "33d8846b-4e9d-4e2d-b2b9-53a14bf96fe7",
   "metadata": {},
   "outputs": [],
   "source": []
  },
  {
   "cell_type": "code",
   "execution_count": 5,
   "id": "891b3fcd-4320-4221-ad02-f57374b2705d",
   "metadata": {},
   "outputs": [
    {
     "name": "stdout",
     "output_type": "stream",
     "text": [
      "DTS01\n",
      "(array([42]), array([37671])) \n",
      "\n",
      "DTS05\n",
      "(array([42]), array([5283])) \n",
      "\n"
     ]
    }
   ],
   "source": [
    "# For joint modelling making sure that the aa_seq is comlemented the full Ab sequence\n",
    "# this was done in notebook M0\n",
    "\n",
    "all_vars = {}\n",
    "\n",
    "total_n_vars = 0\n",
    "\n",
    "for dataset in datasets:\n",
    "    print(dataset)\n",
    "    all_vars[dataset] = pd.read_csv(filedir + filenames[dataset], sep='\\t')\n",
    "    # check length of aa_seq, should be already complemented to full Ab sequence (42 aa)\n",
    "    print(np.unique([len(elem) for elem in all_vars[dataset]['aa_seq']], return_counts=True), '\\n')\n",
    "    \n",
    "    total_n_vars = total_n_vars + len(all_vars[dataset])"
   ]
  },
  {
   "cell_type": "code",
   "execution_count": 6,
   "id": "0c7a7488-fe0f-4d0c-a13b-a53b126df268",
   "metadata": {},
   "outputs": [
    {
     "data": {
      "text/plain": [
       "42954"
      ]
     },
     "execution_count": 6,
     "metadata": {},
     "output_type": "execute_result"
    }
   ],
   "source": [
    "# 213771 variants in total, 182099 without DTS02, 45925 for ensemble of DTS01+DTS05+DTS14\n",
    "total_n_vars"
   ]
  },
  {
   "cell_type": "code",
   "execution_count": 7,
   "id": "45dd34f8-4c61-4217-a321-f72a35f01939",
   "metadata": {
    "tags": []
   },
   "outputs": [
    {
     "name": "stdout",
     "output_type": "stream",
     "text": [
      "DTS01\n",
      "                                           aa_seq  Nham_aa   WT  fitness  \\\n",
      "37670  DAEFRHDSGYEVHHQKLVFFAEDVGSNKGAIIGLMVGGVVIA        0  1.0      0.0   \n",
      "\n",
      "       sigma  \n",
      "37670  100.0  \n",
      "\n",
      "\n",
      "DTS05\n",
      "                                          aa_seq  Nham_aa   WT  fitness  sigma\n",
      "5282  DAEFRHDSGYEVHHQKLVFFAEDVGSNKGAIIGLMVGGVVIA        0  1.0      0.0  100.0\n",
      "\n",
      "\n"
     ]
    }
   ],
   "source": [
    "# actual WT of Ab, artificially added to these tables in notebook M0\n",
    "wt_vars = {}\n",
    "\n",
    "for dataset in datasets:\n",
    "    print(dataset)\n",
    "    print(all_vars[dataset][all_vars[dataset]['WT'] == 1])\n",
    "    wt_vars[dataset] = list(all_vars[dataset][all_vars[dataset]['WT'] == 1]['aa_seq'])[0]\n",
    "    print('\\n')"
   ]
  },
  {
   "cell_type": "code",
   "execution_count": 8,
   "id": "6b51bf00-205a-49d3-b6cc-fce205ed25ea",
   "metadata": {},
   "outputs": [
    {
     "data": {
      "text/plain": [
       "{'DTS01': 'DAEFRHDSGYEVHHQKLVFFAEDVGSNKGAIIGLMVGGVVIA',\n",
       " 'DTS05': 'DAEFRHDSGYEVHHQKLVFFAEDVGSNKGAIIGLMVGGVVIA'}"
      ]
     },
     "execution_count": 8,
     "metadata": {},
     "output_type": "execute_result"
    }
   ],
   "source": [
    "wt_vars"
   ]
  },
  {
   "cell_type": "code",
   "execution_count": null,
   "id": "b682d6a2-f219-4227-a004-5d14c346fead",
   "metadata": {},
   "outputs": [],
   "source": []
  },
  {
   "cell_type": "code",
   "execution_count": null,
   "id": "043ea219-8df6-4f48-804d-1eb97fdf60d7",
   "metadata": {},
   "outputs": [],
   "source": []
  },
  {
   "cell_type": "code",
   "execution_count": 9,
   "id": "f6ab32bf-ddae-4f48-b035-35e331d22d15",
   "metadata": {},
   "outputs": [],
   "source": [
    "# setting l2_regularization_factor to 10^(-5)\n",
    "l2_regularization_factor_value = 0.00001"
   ]
  },
  {
   "cell_type": "markdown",
   "id": "6e2f7014-48c6-4e45-9f45-d86729cda599",
   "metadata": {},
   "source": [
    "# Fitting a joint model first"
   ]
  },
  {
   "cell_type": "code",
   "execution_count": null,
   "id": "a26ba2e0-c1c3-42a1-8dab-022c8038b1c0",
   "metadata": {
    "tags": []
   },
   "outputs": [
    {
     "name": "stdout",
     "output_type": "stream",
     "text": [
      "Transformation: Sigmoid\n",
      "N_max_interaction_order 2\n",
      "Loading fitness data\n",
      "One-hot encoding sequence features\n",
      "One-hot encoding interaction features\n",
      "... Total theoretical features (order:count): 2:640\n",
      "... Total retained features (order:count): 2:640 (100.0%)\n",
      "Defining cross-validation groups\n",
      "Defining coefficient groups\n",
      "Done!\n",
      "Performing grid search...\n",
      "Fitting model:\n",
      "{'fold': 1, 'seed': 1, 'grid_search': True, 'batch_size': 512, 'learn_rate': 0.05, 'num_epochs': 1000, 'num_epochs_grid': 100, 'l1_regularization_factor': 0.0, 'l2_regularization_factor': 1e-05, 'training_resample': True, 'early_stopping': True, 'scheduler_gamma': 0.98, 'scheduler_epochs': 10, 'loss_function_name': 'WeightedL1', 'sos_architecture': [5], 'sos_outputlinear': False}\n",
      "Epoch 1; Avg_val_loss: 1.1218; WTcoef_1: 0.4168; WTres_1: 3.9632; WTres_2: -4.0867; \n",
      "Epoch 11; Avg_val_loss: 1.0503; WTcoef_1: 0.6824; WTres_1: 2.9029; WTres_2: -4.4585; \n",
      "Epoch 21; Avg_val_loss: 1.0456; WTcoef_1: 0.9153; WTres_1: 2.6524; WTres_2: -4.6301; \n",
      "Epoch 31; Avg_val_loss: 1.0515; WTcoef_1: 1.0497; WTres_1: 2.4273; WTres_2: -4.8711; \n",
      "Epoch 41; Avg_val_loss: 1.0366; WTcoef_1: 1.1391; WTres_1: 2.2688; WTres_2: -4.9104; \n",
      "Epoch 51; Avg_val_loss: 1.0406; WTcoef_1: 1.3010; WTres_1: 2.0777; WTres_2: -5.0110; \n",
      "Epoch 61; Avg_val_loss: 1.0273; WTcoef_1: 1.3078; WTres_1: 2.0982; WTres_2: -5.1019; \n",
      "Epoch 71; Avg_val_loss: 1.0241; WTcoef_1: 1.4040; WTres_1: 1.8721; WTres_2: -5.1627; \n",
      "Epoch 81; Avg_val_loss: 1.0353; WTcoef_1: 1.5094; WTres_1: 1.8170; WTres_2: -5.3410; \n"
     ]
    }
   ],
   "source": [
    "# started at 15:40 (24.04.2024)\n",
    "# fold1 of model 1 began at X\n",
    "# overall 2 models to fit (1 function fits x 2 N_max_interaction_order)\n",
    "# with 64 Gb of RAM and 8 CPU cores\n",
    "# using 80 Gb GPU RAM\n",
    "\n",
    "k_folds = 10\n",
    "\n",
    "transformations = ['Sigmoid', #'ELU', 'Linear'\n",
    "                  ] \n",
    "\n",
    "N_max_interaction_order = [2, 1]\n",
    "\n",
    "for transformation in transformations:\n",
    "    print('Transformation:', transformation)\n",
    "        \n",
    "    for n_max_interaction_order in N_max_interaction_order:\n",
    "        print('N_max_interaction_order', n_max_interaction_order)\n",
    "    \n",
    "        my_model_design = pd.DataFrame({\n",
    "                   'phenotype': ['Nucleation_' + dataset for dataset in datasets],\n",
    "\n",
    "                    # transformation can be one of: Linear, ReLU, SiLU, Sigmoid, SumOfSigmoids, \n",
    "                    #                               TwoStateFractionFolded, ThreeStateFractionFolded, FourStateFractionFolded\n",
    "\n",
    "                   'transformation': [transformation for dataset in datasets], \n",
    "                   'trait': ['Nucleation' for dataset in datasets],\n",
    "                   'file': [filedir + filenames[dataset] for dataset in datasets]})\n",
    "\n",
    "        mochi_project = MochiTask(\n",
    "                   directory = output_dir + '20240424_max_terms_order_' + str(n_max_interaction_order) + '_' + transformation + '_l2_regularization_factor_' + str(l2_regularization_factor_value) + '_DTS01_DT05_all_variants',\n",
    "                   data = MochiData(\n",
    "                      model_design = my_model_design,\n",
    "                      max_interaction_order = n_max_interaction_order,\n",
    "                      k_folds = k_folds),\n",
    "                l2_regularization_factor = l2_regularization_factor_value,\n",
    "\n",
    "                # this was 200 before by default - now might be a better fit - can try different values in the future\n",
    "            sos_architecture = [5])\n",
    "\n",
    "        # started at X\n",
    "        # takes about 6-7?? minutes\n",
    "        mochi_project.grid_search() \n",
    "\n",
    "        for i in range(k_folds):\n",
    "            mochi_project.fit_best(fold = i+1)\n",
    "\n",
    "        temperature = 30\n",
    "\n",
    "        mochi_report = MochiReport(\n",
    "                   task = mochi_project, # changed from project = mochi_project, there must have been a change in agrument name\n",
    "                   RT = (273+temperature)*0.001987)\n",
    "\n",
    "        energies = mochi_project.get_additive_trait_weights(\n",
    "                   RT = (273+temperature)*0.001987)\n",
    "\n",
    "        mochi_project.save()\n",
    "            \n",
    "        #print('Done with l2_regularization_factor_value', l2_regularization_factor_value, '\\n', '################')\n",
    "\n",
    "        print('Done with transformation', transformation, '\\n', '################')\n",
    "        \n",
    "    print('Done with n_max_interaction_order', n_max_interaction_order, '\\n', '################')"
   ]
  },
  {
   "cell_type": "code",
   "execution_count": null,
   "id": "f71494f1-fac9-4f36-8e30-0b3ab70d5050",
   "metadata": {},
   "outputs": [],
   "source": []
  },
  {
   "cell_type": "code",
   "execution_count": null,
   "id": "5ed92b74-e916-4085-ae9b-a6d0bd63c89a",
   "metadata": {},
   "outputs": [],
   "source": []
  },
  {
   "cell_type": "code",
   "execution_count": null,
   "id": "785e518b-98aa-4d13-84e2-d7327d2948fe",
   "metadata": {},
   "outputs": [],
   "source": []
  },
  {
   "cell_type": "markdown",
   "id": "8ab6c154-67a8-480e-9653-0f7e03040591",
   "metadata": {},
   "source": [
    "# Running MoCHI separately for each DTS dataset - will do later, not a priority for now\n"
   ]
  },
  {
   "cell_type": "code",
   "execution_count": 11,
   "id": "0e05c551-e689-487a-b9ba-080928074628",
   "metadata": {},
   "outputs": [],
   "source": [
    "filenames_full = {}\n",
    "\n",
    "for dataset in datasets:\n",
    "    filenames_full[dataset] = filedir + filenames[dataset]"
   ]
  },
  {
   "cell_type": "code",
   "execution_count": 12,
   "id": "f4a39736-fcdb-4de4-b965-e8818b55ae43",
   "metadata": {},
   "outputs": [
    {
     "data": {
      "text/plain": [
       "['/lustre/scratch126/gengen/projects/amyloid_beta_epistasis/DTS_joint_analysis/files/mochi_all_variants_DTS01_20240424.tsv',\n",
       " '/lustre/scratch126/gengen/projects/amyloid_beta_epistasis/DTS_joint_analysis/files/mochi_all_variants_DTS05_20240424.tsv',\n",
       " '/lustre/scratch126/gengen/projects/amyloid_beta_epistasis/DTS_joint_analysis/files/mochi_all_variants_DTS14_20240424.tsv']"
      ]
     },
     "execution_count": 12,
     "metadata": {},
     "output_type": "execute_result"
    }
   ],
   "source": [
    "filenames_full"
   ]
  },
  {
   "cell_type": "code",
   "execution_count": 13,
   "id": "43dfbb3b-1595-485d-995e-6217f75db248",
   "metadata": {},
   "outputs": [
    {
     "data": {
      "text/plain": [
       "['DTS01', 'DTS05', 'DTS14']"
      ]
     },
     "execution_count": 13,
     "metadata": {},
     "output_type": "execute_result"
    }
   ],
   "source": [
    "datasets"
   ]
  },
  {
   "cell_type": "code",
   "execution_count": 14,
   "id": "623925d2-e752-4643-867a-5c369be597d8",
   "metadata": {},
   "outputs": [
    {
     "data": {
      "text/plain": [
       "'mochi_all_variants_DTS01_20240424'"
      ]
     },
     "execution_count": 14,
     "metadata": {},
     "output_type": "execute_result"
    }
   ],
   "source": [
    "filenames_full[0].split('/')[-1].split('.')[0]"
   ]
  },
  {
   "cell_type": "code",
   "execution_count": null,
   "id": "79a1c012-943d-44a2-8211-a6053c05db0d",
   "metadata": {
    "collapsed": true,
    "jupyter": {
     "outputs_hidden": true
    },
    "tags": []
   },
   "outputs": [
    {
     "name": "stdout",
     "output_type": "stream",
     "text": [
      "Transformation: Sigmoid\n",
      "N_max_interaction_order 2\n",
      "File /lustre/scratch126/gengen/projects/amyloid_beta_epistasis/DTS_joint_analysis/files/mochi_all_variants_DTS01_20240424.tsv\n",
      "Loading fitness data\n",
      "One-hot encoding sequence features\n",
      "One-hot encoding interaction features\n",
      "... Total theoretical features (order:count): 2:448\n",
      "... Total retained features (order:count): 2:448 (100.0%)\n",
      "Defining cross-validation groups\n",
      "Defining coefficient groups\n",
      "Done!\n",
      "Performing grid search...\n",
      "Fitting model:\n",
      "{'fold': 1, 'seed': 1, 'grid_search': True, 'batch_size': 512, 'learn_rate': 0.05, 'num_epochs': 1000, 'num_epochs_grid': 100, 'l1_regularization_factor': 0.0, 'l2_regularization_factor': 1e-05, 'training_resample': True, 'early_stopping': True, 'scheduler_gamma': 0.98, 'scheduler_epochs': 10, 'loss_function_name': 'WeightedL1', 'sos_architecture': [5], 'sos_outputlinear': False}\n",
      "Epoch 1; Avg_val_loss: 1.0778; WTcoef_1: 0.0899; WTres_1: 4.2360; \n",
      "Epoch 11; Avg_val_loss: 0.9914; WTcoef_1: 0.3454; WTres_1: 3.1376; \n",
      "Epoch 21; Avg_val_loss: 1.0062; WTcoef_1: 0.6236; WTres_1: 2.8464; \n",
      "Epoch 31; Avg_val_loss: 0.9887; WTcoef_1: 0.8263; WTres_1: 2.6357; \n",
      "Epoch 41; Avg_val_loss: 0.9905; WTcoef_1: 0.8962; WTres_1: 2.4326; \n",
      "Epoch 51; Avg_val_loss: 0.9731; WTcoef_1: 1.0492; WTres_1: 2.2411; \n",
      "Epoch 61; Avg_val_loss: 0.9760; WTcoef_1: 1.1345; WTres_1: 2.0937; \n",
      "Epoch 71; Avg_val_loss: 0.9869; WTcoef_1: 1.2209; WTres_1: 1.9168; \n",
      "Epoch 81; Avg_val_loss: 0.9762; WTcoef_1: 1.2428; WTres_1: 1.9482; \n",
      "Epoch 91; Avg_val_loss: 0.9815; WTcoef_1: 1.2818; WTres_1: 1.7428; \n",
      "Done!\n",
      "Best model:\n",
      "{'fold': 1, 'seed': 1, 'grid_search': True, 'batch_size': 512, 'learn_rate': 0.05, 'num_epochs': 1000, 'num_epochs_grid': 100, 'l1_regularization_factor': 0.0, 'l2_regularization_factor': 1e-05, 'training_resample': True, 'early_stopping': True, 'scheduler_gamma': 0.98, 'scheduler_epochs': 10, 'loss_function_name': 'WeightedL1', 'sos_architecture': [5], 'sos_outputlinear': False}\n",
      "Fitting model:\n",
      "{'fold': 1, 'seed': 1, 'grid_search': False, 'batch_size': 512, 'learn_rate': 0.05, 'num_epochs': 1000, 'num_epochs_grid': 100, 'l1_regularization_factor': 0.0, 'l2_regularization_factor': 1e-05, 'training_resample': True, 'early_stopping': True, 'scheduler_gamma': 0.98, 'scheduler_epochs': 10, 'loss_function_name': 'WeightedL1', 'sos_architecture': [5], 'sos_outputlinear': False}\n",
      "Epoch 1; Avg_val_loss: 1.0778; WTcoef_1: 0.0899; WTres_1: 4.2360; \n",
      "Epoch 11; Avg_val_loss: 0.9914; WTcoef_1: 0.3454; WTres_1: 3.1376; \n",
      "Epoch 21; Avg_val_loss: 1.0062; WTcoef_1: 0.6236; WTres_1: 2.8464; \n",
      "Epoch 31; Avg_val_loss: 0.9887; WTcoef_1: 0.8263; WTres_1: 2.6357; \n",
      "Epoch 41; Avg_val_loss: 0.9905; WTcoef_1: 0.8962; WTres_1: 2.4326; \n",
      "Epoch 51; Avg_val_loss: 0.9731; WTcoef_1: 1.0492; WTres_1: 2.2411; \n",
      "Epoch 61; Avg_val_loss: 0.9760; WTcoef_1: 1.1345; WTres_1: 2.0937; \n",
      "Epoch 71; Avg_val_loss: 0.9869; WTcoef_1: 1.2209; WTres_1: 1.9168; \n",
      "Epoch 81; Avg_val_loss: 0.9762; WTcoef_1: 1.2428; WTres_1: 1.9482; \n",
      "Epoch 91; Avg_val_loss: 0.9815; WTcoef_1: 1.2818; WTres_1: 1.7428; \n",
      "Epoch 101; Avg_val_loss: 0.9707; WTcoef_1: 1.3339; WTres_1: 1.7539; \n",
      "Epoch 111; Avg_val_loss: 0.9736; WTcoef_1: 1.3811; WTres_1: 1.6915; \n",
      "Epoch 121; Avg_val_loss: 0.9710; WTcoef_1: 1.4211; WTres_1: 1.6642; \n",
      "Epoch 131; Avg_val_loss: 0.9647; WTcoef_1: 1.4223; WTres_1: 1.6322; \n",
      "Epoch 141; Avg_val_loss: 0.9804; WTcoef_1: 1.4472; WTres_1: 1.4983; \n",
      "Epoch 151; Avg_val_loss: 0.9760; WTcoef_1: 1.4763; WTres_1: 1.4185; \n",
      "Epoch 161; Avg_val_loss: 0.9629; WTcoef_1: 1.4704; WTres_1: 1.4620; \n",
      "Epoch 171; Avg_val_loss: 0.9656; WTcoef_1: 1.4534; WTres_1: 1.4290; \n",
      "Epoch 181; Avg_val_loss: 0.9639; WTcoef_1: 1.4570; WTres_1: 1.3915; \n",
      "Epoch 191; Avg_val_loss: 0.9745; WTcoef_1: 1.4763; WTres_1: 1.3360; \n",
      "Epoch 201; Avg_val_loss: 0.9571; WTcoef_1: 1.4329; WTres_1: 1.3530; \n",
      "Epoch 211; Avg_val_loss: 0.9649; WTcoef_1: 1.4524; WTres_1: 1.2795; \n",
      "Epoch 221; Avg_val_loss: 0.9645; WTcoef_1: 1.4597; WTres_1: 1.2928; \n",
      "Epoch 231; Avg_val_loss: 0.9613; WTcoef_1: 1.4520; WTres_1: 1.2737; \n",
      "Epoch 241; Avg_val_loss: 0.9602; WTcoef_1: 1.4476; WTres_1: 1.2716; \n",
      "Epoch 251; Avg_val_loss: 0.9643; WTcoef_1: 1.4576; WTres_1: 1.2231; \n",
      "Epoch 261; Avg_val_loss: 0.9653; WTcoef_1: 1.4407; WTres_1: 1.2460; \n",
      "Epoch 271; Avg_val_loss: 0.9641; WTcoef_1: 1.4512; WTres_1: 1.2080; \n",
      "Epoch 281; Avg_val_loss: 0.9591; WTcoef_1: 1.4329; WTres_1: 1.2322; \n",
      "Epoch 291; Avg_val_loss: 0.9618; WTcoef_1: 1.4430; WTres_1: 1.1978; \n",
      "Epoch 301; Avg_val_loss: 0.9582; WTcoef_1: 1.4270; WTres_1: 1.2057; \n",
      "Epoch 311; Avg_val_loss: 0.9592; WTcoef_1: 1.4318; WTres_1: 1.2010; \n",
      "Epoch 321; Avg_val_loss: 0.9619; WTcoef_1: 1.4251; WTres_1: 1.1969; \n",
      "Epoch 331; Avg_val_loss: 0.9646; WTcoef_1: 1.4280; WTres_1: 1.1769; \n",
      "Epoch 341; Avg_val_loss: 0.9597; WTcoef_1: 1.4215; WTres_1: 1.1848; \n",
      "Epoch 351; Avg_val_loss: 0.9637; WTcoef_1: 1.4293; WTres_1: 1.1601; \n",
      "Epoch 361; Avg_val_loss: 0.9638; WTcoef_1: 1.4275; WTres_1: 1.1519; \n",
      "Epoch 371; Avg_val_loss: 0.9605; WTcoef_1: 1.4160; WTres_1: 1.1704; \n",
      "Epoch 381; Avg_val_loss: 0.9619; WTcoef_1: 1.4194; WTres_1: 1.1499; \n",
      "Epoch 391; Avg_val_loss: 0.9625; WTcoef_1: 1.4132; WTres_1: 1.1587; \n",
      "Epoch 401; Avg_val_loss: 0.9635; WTcoef_1: 1.4155; WTres_1: 1.1462; \n",
      "Epoch 411; Avg_val_loss: 0.9634; WTcoef_1: 1.4149; WTres_1: 1.1378; \n",
      "Epoch 421; Avg_val_loss: 0.9621; WTcoef_1: 1.4094; WTres_1: 1.1474; \n",
      "Epoch 431; Avg_val_loss: 0.9623; WTcoef_1: 1.4097; WTres_1: 1.1444; \n",
      "Stopping early: coefficients not changing and validation loss not decreasing.\n",
      "Done!\n",
      "Best model:\n",
      "{'fold': 1, 'seed': 1, 'grid_search': True, 'batch_size': 512, 'learn_rate': 0.05, 'num_epochs': 1000, 'num_epochs_grid': 100, 'l1_regularization_factor': 0.0, 'l2_regularization_factor': 1e-05, 'training_resample': True, 'early_stopping': True, 'scheduler_gamma': 0.98, 'scheduler_epochs': 10, 'loss_function_name': 'WeightedL1', 'sos_architecture': [5], 'sos_outputlinear': False}\n",
      "Fitting model:\n",
      "{'fold': 2, 'seed': 1, 'grid_search': False, 'batch_size': 512, 'learn_rate': 0.05, 'num_epochs': 1000, 'num_epochs_grid': 100, 'l1_regularization_factor': 0.0, 'l2_regularization_factor': 1e-05, 'training_resample': True, 'early_stopping': True, 'scheduler_gamma': 0.98, 'scheduler_epochs': 10, 'loss_function_name': 'WeightedL1', 'sos_architecture': [5], 'sos_outputlinear': False}\n",
      "Epoch 1; Avg_val_loss: 1.0865; WTcoef_1: 0.1131; WTres_1: 4.3573; \n",
      "Epoch 11; Avg_val_loss: 0.9960; WTcoef_1: 0.4407; WTres_1: 2.9934; \n",
      "Epoch 21; Avg_val_loss: 1.0030; WTcoef_1: 0.6660; WTres_1: 2.8453; \n",
      "Epoch 31; Avg_val_loss: 1.0002; WTcoef_1: 0.7500; WTres_1: 2.8070; \n",
      "Epoch 41; Avg_val_loss: 0.9884; WTcoef_1: 0.8972; WTres_1: 2.6911; \n",
      "Epoch 51; Avg_val_loss: 0.9867; WTcoef_1: 1.0284; WTres_1: 2.4457; \n",
      "Epoch 61; Avg_val_loss: 0.9946; WTcoef_1: 1.0626; WTres_1: 2.4011; \n",
      "Epoch 71; Avg_val_loss: 0.9875; WTcoef_1: 1.1205; WTres_1: 2.3700; \n",
      "Epoch 81; Avg_val_loss: 0.9890; WTcoef_1: 1.2072; WTres_1: 2.1633; \n",
      "Epoch 91; Avg_val_loss: 0.9936; WTcoef_1: 1.2279; WTres_1: 2.0738; \n",
      "Epoch 101; Avg_val_loss: 0.9834; WTcoef_1: 1.2474; WTres_1: 2.1209; \n",
      "Epoch 111; Avg_val_loss: 0.9753; WTcoef_1: 1.2491; WTres_1: 1.9725; \n",
      "Epoch 121; Avg_val_loss: 0.9750; WTcoef_1: 1.2945; WTres_1: 1.8928; \n",
      "Epoch 131; Avg_val_loss: 0.9765; WTcoef_1: 1.3031; WTres_1: 1.8580; \n",
      "Epoch 141; Avg_val_loss: 0.9740; WTcoef_1: 1.3239; WTres_1: 1.7648; \n",
      "Epoch 151; Avg_val_loss: 0.9836; WTcoef_1: 1.3600; WTres_1: 1.7585; \n",
      "Epoch 161; Avg_val_loss: 0.9757; WTcoef_1: 1.3645; WTres_1: 1.7377; \n",
      "Epoch 171; Avg_val_loss: 0.9705; WTcoef_1: 1.3776; WTres_1: 1.7536; \n",
      "Epoch 181; Avg_val_loss: 0.9674; WTcoef_1: 1.3623; WTres_1: 1.6761; \n",
      "Epoch 191; Avg_val_loss: 0.9727; WTcoef_1: 1.3760; WTres_1: 1.6501; \n",
      "Epoch 201; Avg_val_loss: 0.9712; WTcoef_1: 1.4173; WTres_1: 1.6501; \n",
      "Epoch 211; Avg_val_loss: 0.9719; WTcoef_1: 1.3936; WTres_1: 1.5849; \n",
      "Epoch 221; Avg_val_loss: 0.9696; WTcoef_1: 1.4248; WTres_1: 1.5198; \n",
      "Epoch 231; Avg_val_loss: 0.9802; WTcoef_1: 1.4396; WTres_1: 1.5323; \n",
      "Epoch 241; Avg_val_loss: 0.9640; WTcoef_1: 1.3976; WTres_1: 1.5974; \n",
      "Epoch 251; Avg_val_loss: 0.9683; WTcoef_1: 1.3953; WTres_1: 1.6003; \n",
      "Epoch 261; Avg_val_loss: 0.9655; WTcoef_1: 1.3829; WTres_1: 1.5903; \n",
      "Epoch 271; Avg_val_loss: 0.9628; WTcoef_1: 1.4016; WTres_1: 1.5454; \n",
      "Epoch 281; Avg_val_loss: 0.9654; WTcoef_1: 1.4029; WTres_1: 1.4959; \n",
      "Epoch 291; Avg_val_loss: 0.9638; WTcoef_1: 1.4014; WTres_1: 1.5148; \n",
      "Epoch 301; Avg_val_loss: 0.9675; WTcoef_1: 1.4122; WTres_1: 1.4670; \n",
      "Epoch 311; Avg_val_loss: 0.9648; WTcoef_1: 1.4155; WTres_1: 1.4136; \n",
      "Epoch 321; Avg_val_loss: 0.9584; WTcoef_1: 1.3745; WTres_1: 1.4790; \n",
      "Epoch 331; Avg_val_loss: 0.9600; WTcoef_1: 1.3813; WTres_1: 1.4318; \n",
      "Epoch 341; Avg_val_loss: 0.9632; WTcoef_1: 1.3701; WTres_1: 1.4320; \n",
      "Epoch 351; Avg_val_loss: 0.9602; WTcoef_1: 1.3753; WTres_1: 1.3994; \n",
      "Epoch 361; Avg_val_loss: 0.9659; WTcoef_1: 1.3759; WTres_1: 1.4025; \n",
      "Epoch 371; Avg_val_loss: 0.9606; WTcoef_1: 1.3480; WTres_1: 1.4248; \n",
      "Epoch 381; Avg_val_loss: 0.9603; WTcoef_1: 1.3611; WTres_1: 1.3835; \n",
      "Epoch 391; Avg_val_loss: 0.9592; WTcoef_1: 1.3477; WTres_1: 1.4127; \n",
      "Epoch 401; Avg_val_loss: 0.9578; WTcoef_1: 1.3457; WTres_1: 1.3996; \n",
      "Epoch 411; Avg_val_loss: 0.9589; WTcoef_1: 1.3468; WTres_1: 1.3707; \n",
      "Epoch 421; Avg_val_loss: 0.9590; WTcoef_1: 1.3412; WTres_1: 1.3593; \n",
      "Epoch 431; Avg_val_loss: 0.9558; WTcoef_1: 1.3322; WTres_1: 1.3674; \n",
      "Epoch 441; Avg_val_loss: 0.9613; WTcoef_1: 1.3385; WTres_1: 1.3231; \n",
      "Epoch 451; Avg_val_loss: 0.9578; WTcoef_1: 1.3277; WTres_1: 1.3462; \n",
      "Epoch 461; Avg_val_loss: 0.9579; WTcoef_1: 1.3268; WTres_1: 1.3356; \n",
      "Epoch 471; Avg_val_loss: 0.9574; WTcoef_1: 1.3189; WTres_1: 1.3292; \n",
      "Epoch 481; Avg_val_loss: 0.9595; WTcoef_1: 1.3196; WTres_1: 1.3247; \n",
      "Epoch 491; Avg_val_loss: 0.9580; WTcoef_1: 1.3135; WTres_1: 1.3307; \n",
      "Epoch 501; Avg_val_loss: 0.9556; WTcoef_1: 1.3098; WTres_1: 1.3209; \n",
      "Epoch 511; Avg_val_loss: 0.9589; WTcoef_1: 1.3133; WTres_1: 1.3078; \n",
      "Epoch 521; Avg_val_loss: 0.9568; WTcoef_1: 1.3046; WTres_1: 1.3191; \n",
      "Epoch 531; Avg_val_loss: 0.9580; WTcoef_1: 1.3074; WTres_1: 1.3098; \n",
      "Epoch 541; Avg_val_loss: 0.9562; WTcoef_1: 1.3050; WTres_1: 1.3135; \n",
      "Epoch 551; Avg_val_loss: 0.9571; WTcoef_1: 1.3061; WTres_1: 1.3063; \n",
      "Epoch 561; Avg_val_loss: 0.9579; WTcoef_1: 1.3031; WTres_1: 1.3038; \n",
      "Epoch 571; Avg_val_loss: 0.9554; WTcoef_1: 1.2989; WTres_1: 1.3083; \n",
      "Epoch 581; Avg_val_loss: 0.9549; WTcoef_1: 1.2967; WTres_1: 1.3116; \n",
      "Epoch 591; Avg_val_loss: 0.9567; WTcoef_1: 1.2982; WTres_1: 1.2973; \n",
      "Stopping early: coefficients not changing and validation loss not decreasing.\n",
      "Done!\n",
      "Best model:\n",
      "{'fold': 1, 'seed': 1, 'grid_search': True, 'batch_size': 512, 'learn_rate': 0.05, 'num_epochs': 1000, 'num_epochs_grid': 100, 'l1_regularization_factor': 0.0, 'l2_regularization_factor': 1e-05, 'training_resample': True, 'early_stopping': True, 'scheduler_gamma': 0.98, 'scheduler_epochs': 10, 'loss_function_name': 'WeightedL1', 'sos_architecture': [5], 'sos_outputlinear': False}\n",
      "Fitting model:\n",
      "{'fold': 3, 'seed': 1, 'grid_search': False, 'batch_size': 512, 'learn_rate': 0.05, 'num_epochs': 1000, 'num_epochs_grid': 100, 'l1_regularization_factor': 0.0, 'l2_regularization_factor': 1e-05, 'training_resample': True, 'early_stopping': True, 'scheduler_gamma': 0.98, 'scheduler_epochs': 10, 'loss_function_name': 'WeightedL1', 'sos_architecture': [5], 'sos_outputlinear': False}\n",
      "Epoch 1; Avg_val_loss: 1.0941; WTcoef_1: 0.1430; WTres_1: 4.3304; \n",
      "Epoch 11; Avg_val_loss: 0.9983; WTcoef_1: 0.2953; WTres_1: 3.3291; \n",
      "Epoch 21; Avg_val_loss: 1.0002; WTcoef_1: 0.5227; WTres_1: 3.0092; \n",
      "Epoch 31; Avg_val_loss: 0.9980; WTcoef_1: 0.6813; WTres_1: 2.7878; \n",
      "Epoch 41; Avg_val_loss: 0.9888; WTcoef_1: 0.8247; WTres_1: 2.6785; \n",
      "Epoch 51; Avg_val_loss: 0.9984; WTcoef_1: 0.8998; WTres_1: 2.4489; \n",
      "Epoch 61; Avg_val_loss: 0.9910; WTcoef_1: 1.0417; WTres_1: 2.2877; \n",
      "Epoch 71; Avg_val_loss: 0.9861; WTcoef_1: 1.0511; WTres_1: 2.1992; \n",
      "Epoch 81; Avg_val_loss: 0.9878; WTcoef_1: 1.1083; WTres_1: 2.1022; \n",
      "Epoch 91; Avg_val_loss: 0.9943; WTcoef_1: 1.1211; WTres_1: 2.0969; \n",
      "Epoch 101; Avg_val_loss: 0.9802; WTcoef_1: 1.2024; WTres_1: 1.9157; \n",
      "Epoch 111; Avg_val_loss: 0.9824; WTcoef_1: 1.1900; WTres_1: 1.9270; \n",
      "Epoch 121; Avg_val_loss: 0.9785; WTcoef_1: 1.2143; WTres_1: 1.8437; \n",
      "Epoch 131; Avg_val_loss: 0.9853; WTcoef_1: 1.1824; WTres_1: 1.9068; \n",
      "Epoch 141; Avg_val_loss: 0.9759; WTcoef_1: 1.2586; WTres_1: 1.7192; \n",
      "Epoch 151; Avg_val_loss: 0.9748; WTcoef_1: 1.2901; WTres_1: 1.7783; \n",
      "Epoch 161; Avg_val_loss: 0.9668; WTcoef_1: 1.3068; WTres_1: 1.6980; \n",
      "Epoch 171; Avg_val_loss: 0.9688; WTcoef_1: 1.3001; WTres_1: 1.7215; \n",
      "Epoch 181; Avg_val_loss: 0.9697; WTcoef_1: 1.3215; WTres_1: 1.6487; \n",
      "Epoch 191; Avg_val_loss: 0.9722; WTcoef_1: 1.3201; WTres_1: 1.7036; \n",
      "Epoch 201; Avg_val_loss: 0.9721; WTcoef_1: 1.3122; WTres_1: 1.6164; \n",
      "Epoch 211; Avg_val_loss: 0.9639; WTcoef_1: 1.3410; WTres_1: 1.5788; \n",
      "Epoch 221; Avg_val_loss: 0.9702; WTcoef_1: 1.3477; WTres_1: 1.5813; \n",
      "Epoch 231; Avg_val_loss: 0.9702; WTcoef_1: 1.3656; WTres_1: 1.5046; \n",
      "Epoch 241; Avg_val_loss: 0.9662; WTcoef_1: 1.3552; WTres_1: 1.5011; \n",
      "Epoch 251; Avg_val_loss: 0.9628; WTcoef_1: 1.3600; WTres_1: 1.4837; \n",
      "Epoch 261; Avg_val_loss: 0.9641; WTcoef_1: 1.3716; WTres_1: 1.4926; \n",
      "Epoch 271; Avg_val_loss: 0.9673; WTcoef_1: 1.3503; WTres_1: 1.4730; \n",
      "Epoch 281; Avg_val_loss: 0.9635; WTcoef_1: 1.3721; WTres_1: 1.4165; \n",
      "Epoch 291; Avg_val_loss: 0.9642; WTcoef_1: 1.3568; WTres_1: 1.4210; \n",
      "Epoch 301; Avg_val_loss: 0.9679; WTcoef_1: 1.3751; WTres_1: 1.3945; \n"
     ]
    }
   ],
   "source": [
    "# started at 11:19\n",
    "# overall 3 models to fit (1 function fit x 1 N_max_interaction_order x 3 datasets)\n",
    "# with 32 Gb of RAM and 8 CPU cores\n",
    "# using 80 Gb GPU RAM\n",
    "\n",
    "k_folds = 10\n",
    "\n",
    "transformations = ['Sigmoid', #'ELU', 'Linear'\n",
    "                  ] \n",
    "\n",
    "N_max_interaction_order = [2, #1\n",
    "                          ]\n",
    "\n",
    "\n",
    "for transformation in transformations:\n",
    "    print('Transformation:', transformation)\n",
    "    \n",
    "    for n_max_interaction_order in N_max_interaction_order:\n",
    "        print('N_max_interaction_order', n_max_interaction_order)\n",
    "        \n",
    "        for i in range(len(datasets)):\n",
    "            curr_file_path = filenames_full[i]\n",
    "            curr_file_name = curr_file_path.split('/')[-1].split('.')[0]\n",
    "            curr_dataset = datasets[i]\n",
    "            \n",
    "            print('File', curr_file_path)\n",
    "        \n",
    "            my_model_design = pd.DataFrame({\n",
    "                       'phenotype': ['Nucleation_' + curr_dataset],\n",
    "\n",
    "                        # transformation can be one of: Linear, ReLU, SiLU, Sigmoid, SumOfSigmoids, \n",
    "                        #                               TwoStateFractionFolded, ThreeStateFractionFolded, FourStateFractionFolded\n",
    "\n",
    "                       'transformation': [transformation], \n",
    "                       'trait': ['Nucleation'],\n",
    "                       'file': [curr_file_path]})\n",
    "\n",
    "            mochi_project = MochiTask(\n",
    "                       directory = output_dir + '20240424_max_terms_order_' + str(n_max_interaction_order) + '_' + transformation + '_l2_regularization_factor_' + str(l2_regularization_factor_value) + '_' + curr_dataset + '_all_variants',\n",
    "                       data = MochiData(\n",
    "                          model_design = my_model_design,\n",
    "                          max_interaction_order = n_max_interaction_order,\n",
    "                          k_folds = k_folds),\n",
    "                    l2_regularization_factor = l2_regularization_factor_value,\n",
    "\n",
    "                    # this was 200 before by default - now might be a better fit - can try different values in the future\n",
    "                sos_architecture = [5])\n",
    "\n",
    "            # started at X\n",
    "            # takes about 6-7?? minutes\n",
    "            mochi_project.grid_search() \n",
    "\n",
    "            for i in range(k_folds):\n",
    "                mochi_project.fit_best(fold = i+1)\n",
    "\n",
    "            temperature = 30\n",
    "\n",
    "            mochi_report = MochiReport(\n",
    "                       task = mochi_project, # changed from project = mochi_project, there must have been a change in agrument name\n",
    "                       RT = (273+temperature)*0.001987)\n",
    "\n",
    "            energies = mochi_project.get_additive_trait_weights(\n",
    "                       RT = (273+temperature)*0.001987)\n",
    "\n",
    "            mochi_project.save()\n",
    "\n",
    "            print('Done with file', l2_regularization_factor_value, '\\n', '################')\n",
    "\n",
    "        print('Done with transformation', transformation, '\\n', '################')\n",
    "        \n",
    "    print('Done with n_max_interaction_order', n_max_interaction_order, '\\n', '################')"
   ]
  },
  {
   "cell_type": "code",
   "execution_count": 15,
   "id": "15f88a00-a72e-4c99-8d8f-0b560aaf1d0d",
   "metadata": {
    "collapsed": true,
    "jupyter": {
     "outputs_hidden": true
    },
    "tags": []
   },
   "outputs": [
    {
     "name": "stdout",
     "output_type": "stream",
     "text": [
      "Transformation: Sigmoid\n",
      "N_max_interaction_order 2\n",
      "File /lustre/scratch126/gengen/projects/amyloid_beta_epistasis/DTS_joint_analysis/files/mochi_all_variants_DTS05_20240424.tsv\n",
      "Loading fitness data\n",
      "One-hot encoding sequence features\n",
      "One-hot encoding interaction features\n",
      "... Total theoretical features (order:count): 2:240\n",
      "... Total retained features (order:count): 2:240 (100.0%)\n",
      "Defining cross-validation groups\n",
      "Defining coefficient groups\n",
      "Done!\n",
      "Performing grid search...\n",
      "Fitting model:\n",
      "{'fold': 1, 'seed': 1, 'grid_search': True, 'batch_size': 512, 'learn_rate': 0.05, 'num_epochs': 1000, 'num_epochs_grid': 100, 'l1_regularization_factor': 0.0, 'l2_regularization_factor': 1e-05, 'training_resample': True, 'early_stopping': True, 'scheduler_gamma': 0.98, 'scheduler_epochs': 10, 'loss_function_name': 'WeightedL1', 'sos_architecture': [5], 'sos_outputlinear': False}\n",
      "Epoch 1; Avg_val_loss: 2.1909; WTcoef_1: 0.1475; WTres_1: -3.2594; \n",
      "Epoch 11; Avg_val_loss: 1.4597; WTcoef_1: 0.5419; WTres_1: -4.4678; \n",
      "Epoch 21; Avg_val_loss: 1.3144; WTcoef_1: 0.5552; WTres_1: -4.5206; \n",
      "Epoch 31; Avg_val_loss: 1.2687; WTcoef_1: 0.5973; WTres_1: -4.5481; \n",
      "Epoch 41; Avg_val_loss: 1.2148; WTcoef_1: 0.6506; WTres_1: -4.6303; \n"
     ]
    },
    {
     "ename": "KeyboardInterrupt",
     "evalue": "",
     "output_type": "error",
     "traceback": [
      "\u001b[0;31m---------------------------------------------------------------------------\u001b[0m",
      "\u001b[0;31mKeyboardInterrupt\u001b[0m                         Traceback (most recent call last)",
      "Cell \u001b[0;32mIn[15], line 51\u001b[0m\n\u001b[1;32m     38\u001b[0m mochi_project \u001b[38;5;241m=\u001b[39m MochiTask(\n\u001b[1;32m     39\u001b[0m            directory \u001b[38;5;241m=\u001b[39m output_dir \u001b[38;5;241m+\u001b[39m \u001b[38;5;124m'\u001b[39m\u001b[38;5;124m20240424_max_terms_order_\u001b[39m\u001b[38;5;124m'\u001b[39m \u001b[38;5;241m+\u001b[39m \u001b[38;5;28mstr\u001b[39m(n_max_interaction_order) \u001b[38;5;241m+\u001b[39m \u001b[38;5;124m'\u001b[39m\u001b[38;5;124m_\u001b[39m\u001b[38;5;124m'\u001b[39m \u001b[38;5;241m+\u001b[39m transformation \u001b[38;5;241m+\u001b[39m \u001b[38;5;124m'\u001b[39m\u001b[38;5;124m_l2_regularization_factor_\u001b[39m\u001b[38;5;124m'\u001b[39m \u001b[38;5;241m+\u001b[39m \u001b[38;5;28mstr\u001b[39m(l2_regularization_factor_value) \u001b[38;5;241m+\u001b[39m \u001b[38;5;124m'\u001b[39m\u001b[38;5;124m_\u001b[39m\u001b[38;5;124m'\u001b[39m \u001b[38;5;241m+\u001b[39m curr_dataset \u001b[38;5;241m+\u001b[39m \u001b[38;5;124m'\u001b[39m\u001b[38;5;124m_all_variants\u001b[39m\u001b[38;5;124m'\u001b[39m,\n\u001b[1;32m     40\u001b[0m            data \u001b[38;5;241m=\u001b[39m MochiData(\n\u001b[0;32m   (...)\u001b[0m\n\u001b[1;32m     46\u001b[0m         \u001b[38;5;66;03m# this was 200 before by default - now might be a better fit - can try different values in the future\u001b[39;00m\n\u001b[1;32m     47\u001b[0m     sos_architecture \u001b[38;5;241m=\u001b[39m [\u001b[38;5;241m5\u001b[39m])\n\u001b[1;32m     49\u001b[0m \u001b[38;5;66;03m# started at X\u001b[39;00m\n\u001b[1;32m     50\u001b[0m \u001b[38;5;66;03m# takes about 6-7?? minutes\u001b[39;00m\n\u001b[0;32m---> 51\u001b[0m \u001b[43mmochi_project\u001b[49m\u001b[38;5;241;43m.\u001b[39;49m\u001b[43mgrid_search\u001b[49m\u001b[43m(\u001b[49m\u001b[43m)\u001b[49m \n\u001b[1;32m     53\u001b[0m \u001b[38;5;28;01mfor\u001b[39;00m i \u001b[38;5;129;01min\u001b[39;00m \u001b[38;5;28mrange\u001b[39m(k_folds):\n\u001b[1;32m     54\u001b[0m     mochi_project\u001b[38;5;241m.\u001b[39mfit_best(fold \u001b[38;5;241m=\u001b[39m i\u001b[38;5;241m+\u001b[39m\u001b[38;5;241m1\u001b[39m)\n",
      "File \u001b[0;32m/software/team354/MoCHI/pymochi/models.py:923\u001b[0m, in \u001b[0;36mMochiTask.grid_search\u001b[0;34m(self, fold, seed, overwrite, init_weights, fix_weights)\u001b[0m\n\u001b[1;32m    921\u001b[0m \u001b[38;5;28;01mtry\u001b[39;00m:\n\u001b[1;32m    922\u001b[0m     \u001b[38;5;28;01mfor\u001b[39;00m b \u001b[38;5;129;01min\u001b[39;00m batch_params:\n\u001b[0;32m--> 923\u001b[0m         \u001b[38;5;28;43mself\u001b[39;49m\u001b[38;5;241;43m.\u001b[39;49m\u001b[43mfit\u001b[49m\u001b[43m(\u001b[49m\n\u001b[1;32m    924\u001b[0m \u001b[43m            \u001b[49m\u001b[43mfold\u001b[49m\u001b[43m  \u001b[49m\u001b[38;5;241;43m=\u001b[39;49m\u001b[43m \u001b[49m\u001b[43mfold\u001b[49m\u001b[43m,\u001b[49m\n\u001b[1;32m    925\u001b[0m \u001b[43m            \u001b[49m\u001b[43mseed\u001b[49m\u001b[43m \u001b[49m\u001b[38;5;241;43m=\u001b[39;49m\u001b[43m \u001b[49m\u001b[43mseed\u001b[49m\u001b[43m,\u001b[49m\n\u001b[1;32m    926\u001b[0m \u001b[43m            \u001b[49m\u001b[43mgrid_search\u001b[49m\u001b[43m \u001b[49m\u001b[38;5;241;43m=\u001b[39;49m\u001b[43m \u001b[49m\u001b[38;5;28;43;01mTrue\u001b[39;49;00m\u001b[43m,\u001b[49m\n\u001b[1;32m    927\u001b[0m \u001b[43m            \u001b[49m\u001b[43mbatch_size\u001b[49m\u001b[43m \u001b[49m\u001b[38;5;241;43m=\u001b[39;49m\u001b[43m \u001b[49m\u001b[43mb\u001b[49m\u001b[43m[\u001b[49m\u001b[38;5;241;43m0\u001b[39;49m\u001b[43m]\u001b[49m\u001b[43m,\u001b[49m\n\u001b[1;32m    928\u001b[0m \u001b[43m            \u001b[49m\u001b[43mlearn_rate\u001b[49m\u001b[43m \u001b[49m\u001b[38;5;241;43m=\u001b[39;49m\u001b[43m \u001b[49m\u001b[43mb\u001b[49m\u001b[43m[\u001b[49m\u001b[38;5;241;43m1\u001b[39;49m\u001b[43m]\u001b[49m\u001b[43m,\u001b[49m\n\u001b[1;32m    929\u001b[0m \u001b[43m            \u001b[49m\u001b[43mnum_epochs\u001b[49m\u001b[43m \u001b[49m\u001b[38;5;241;43m=\u001b[39;49m\u001b[43m \u001b[49m\u001b[38;5;28;43mself\u001b[39;49m\u001b[38;5;241;43m.\u001b[39;49m\u001b[43mnum_epochs\u001b[49m\u001b[43m,\u001b[49m\n\u001b[1;32m    930\u001b[0m \u001b[43m            \u001b[49m\u001b[43mnum_epochs_grid\u001b[49m\u001b[43m \u001b[49m\u001b[38;5;241;43m=\u001b[39;49m\u001b[43m \u001b[49m\u001b[38;5;28;43mself\u001b[39;49m\u001b[38;5;241;43m.\u001b[39;49m\u001b[43mnum_epochs_grid\u001b[49m\u001b[43m,\u001b[49m\n\u001b[1;32m    931\u001b[0m \u001b[43m            \u001b[49m\u001b[43ml1_regularization_factor\u001b[49m\u001b[43m \u001b[49m\u001b[38;5;241;43m=\u001b[39;49m\u001b[43m \u001b[49m\u001b[43mb\u001b[49m\u001b[43m[\u001b[49m\u001b[38;5;241;43m2\u001b[39;49m\u001b[43m]\u001b[49m\u001b[43m,\u001b[49m\n\u001b[1;32m    932\u001b[0m \u001b[43m            \u001b[49m\u001b[43ml2_regularization_factor\u001b[49m\u001b[43m \u001b[49m\u001b[38;5;241;43m=\u001b[39;49m\u001b[43m \u001b[49m\u001b[43mb\u001b[49m\u001b[43m[\u001b[49m\u001b[38;5;241;43m3\u001b[39;49m\u001b[43m]\u001b[49m\u001b[43m,\u001b[49m\n\u001b[1;32m    933\u001b[0m \u001b[43m            \u001b[49m\u001b[43mtraining_resample\u001b[49m\u001b[43m \u001b[49m\u001b[38;5;241;43m=\u001b[39;49m\u001b[43m \u001b[49m\u001b[38;5;28;43mself\u001b[39;49m\u001b[38;5;241;43m.\u001b[39;49m\u001b[43mtraining_resample\u001b[49m\u001b[43m,\u001b[49m\n\u001b[1;32m    934\u001b[0m \u001b[43m            \u001b[49m\u001b[43mearly_stopping\u001b[49m\u001b[43m \u001b[49m\u001b[38;5;241;43m=\u001b[39;49m\u001b[43m \u001b[49m\u001b[38;5;28;43mself\u001b[39;49m\u001b[38;5;241;43m.\u001b[39;49m\u001b[43mearly_stopping\u001b[49m\u001b[43m,\u001b[49m\n\u001b[1;32m    935\u001b[0m \u001b[43m            \u001b[49m\u001b[43mscheduler_gamma\u001b[49m\u001b[43m \u001b[49m\u001b[38;5;241;43m=\u001b[39;49m\u001b[43m \u001b[49m\u001b[38;5;28;43mself\u001b[39;49m\u001b[38;5;241;43m.\u001b[39;49m\u001b[43mscheduler_gamma\u001b[49m\u001b[43m,\u001b[49m\n\u001b[1;32m    936\u001b[0m \u001b[43m            \u001b[49m\u001b[43mloss_function_name\u001b[49m\u001b[43m \u001b[49m\u001b[38;5;241;43m=\u001b[39;49m\u001b[43m \u001b[49m\u001b[38;5;28;43mself\u001b[39;49m\u001b[38;5;241;43m.\u001b[39;49m\u001b[43mloss_function_name\u001b[49m\u001b[43m,\u001b[49m\n\u001b[1;32m    937\u001b[0m \u001b[43m            \u001b[49m\u001b[43msos_architecture\u001b[49m\u001b[43m \u001b[49m\u001b[38;5;241;43m=\u001b[39;49m\u001b[43m \u001b[49m\u001b[38;5;28;43mself\u001b[39;49m\u001b[38;5;241;43m.\u001b[39;49m\u001b[43msos_architecture\u001b[49m\u001b[43m,\u001b[49m\n\u001b[1;32m    938\u001b[0m \u001b[43m            \u001b[49m\u001b[43msos_outputlinear\u001b[49m\u001b[43m \u001b[49m\u001b[38;5;241;43m=\u001b[39;49m\u001b[43m \u001b[49m\u001b[38;5;28;43mself\u001b[39;49m\u001b[38;5;241;43m.\u001b[39;49m\u001b[43msos_outputlinear\u001b[49m\u001b[43m,\u001b[49m\n\u001b[1;32m    939\u001b[0m \u001b[43m            \u001b[49m\u001b[43minit_weights\u001b[49m\u001b[43m \u001b[49m\u001b[38;5;241;43m=\u001b[39;49m\u001b[43m \u001b[49m\u001b[43minit_weights\u001b[49m\u001b[43m,\u001b[49m\n\u001b[1;32m    940\u001b[0m \u001b[43m            \u001b[49m\u001b[43mfix_weights\u001b[49m\u001b[43m \u001b[49m\u001b[38;5;241;43m=\u001b[39;49m\u001b[43m \u001b[49m\u001b[43mfix_weights\u001b[49m\u001b[43m)\u001b[49m\n\u001b[1;32m    941\u001b[0m \u001b[38;5;28;01mexcept\u001b[39;00m \u001b[38;5;167;01mValueError\u001b[39;00m:\n\u001b[1;32m    942\u001b[0m     \u001b[38;5;28mprint\u001b[39m(\u001b[38;5;124m\"\u001b[39m\u001b[38;5;124mError: Grid search failed.\u001b[39m\u001b[38;5;124m\"\u001b[39m)\n",
      "File \u001b[0;32m/software/team354/MoCHI/pymochi/models.py:1342\u001b[0m, in \u001b[0;36mMochiTask.fit\u001b[0;34m(self, fold, seed, grid_search, batch_size, learn_rate, num_epochs, num_epochs_grid, l1_regularization_factor, l2_regularization_factor, epoch_status, training_resample, early_stopping, scheduler_gamma, scheduler_epochs, loss_function_name, sos_architecture, sos_outputlinear, init_weights, fix_weights)\u001b[0m\n\u001b[1;32m   1340\u001b[0m     total_epochs \u001b[38;5;241m=\u001b[39m num_epochs_grid\n\u001b[1;32m   1341\u001b[0m \u001b[38;5;28;01mfor\u001b[39;00m epoch \u001b[38;5;129;01min\u001b[39;00m \u001b[38;5;28mrange\u001b[39m(total_epochs):\n\u001b[0;32m-> 1342\u001b[0m     \u001b[43mmodel\u001b[49m\u001b[38;5;241;43m.\u001b[39;49m\u001b[43mtrain_model\u001b[49m\u001b[43m(\u001b[49m\n\u001b[1;32m   1343\u001b[0m \u001b[43m        \u001b[49m\u001b[43mtrain_dataloader\u001b[49m\u001b[43m,\u001b[49m\u001b[43m \u001b[49m\n\u001b[1;32m   1344\u001b[0m \u001b[43m        \u001b[49m\u001b[43mloss_function\u001b[49m\u001b[43m,\u001b[49m\u001b[43m \u001b[49m\n\u001b[1;32m   1345\u001b[0m \u001b[43m        \u001b[49m\u001b[43moptimizer\u001b[49m\u001b[43m,\u001b[49m\n\u001b[1;32m   1346\u001b[0m \u001b[43m        \u001b[49m\u001b[38;5;28;43mself\u001b[39;49m\u001b[38;5;241;43m.\u001b[39;49m\u001b[43mdevice\u001b[49m\u001b[43m,\u001b[49m\u001b[43m \u001b[49m\n\u001b[1;32m   1347\u001b[0m \u001b[43m        \u001b[49m\u001b[43ml1_regularization_factor\u001b[49m\u001b[43m,\u001b[49m\u001b[43m \u001b[49m\n\u001b[1;32m   1348\u001b[0m \u001b[43m        \u001b[49m\u001b[43ml2_regularization_factor\u001b[49m\u001b[43m)\u001b[49m\n\u001b[1;32m   1349\u001b[0m     model\u001b[38;5;241m.\u001b[39mvalidate_model(\n\u001b[1;32m   1350\u001b[0m         valid_dataloader, \n\u001b[1;32m   1351\u001b[0m         loss_function, \n\u001b[0;32m   (...)\u001b[0m\n\u001b[1;32m   1354\u001b[0m         l2_regularization_factor, \n\u001b[1;32m   1355\u001b[0m         model_data_WT)\n\u001b[1;32m   1357\u001b[0m     \u001b[38;5;66;03m#Check scheduler and early-stopping criteria\u001b[39;00m\n",
      "File \u001b[0;32m/software/team354/MoCHI/pymochi/models.py:278\u001b[0m, in \u001b[0;36mMochiModel.train_model\u001b[0;34m(self, dataloader, loss_function, optimizer, device, l1_lambda, l2_lambda)\u001b[0m\n\u001b[1;32m    276\u001b[0m loss \u001b[38;5;241m=\u001b[39m \u001b[38;5;28msum\u001b[39m(loss_function(pred, y, y_wt))\u001b[38;5;241m/\u001b[39m\u001b[38;5;28mlen\u001b[39m(y) \u001b[38;5;241m+\u001b[39m l1_lambda \u001b[38;5;241m*\u001b[39m l1_norm \u001b[38;5;241m+\u001b[39m l2_lambda \u001b[38;5;241m*\u001b[39m l2_norm\n\u001b[1;32m    277\u001b[0m \u001b[38;5;66;03m# Backpropagation\u001b[39;00m\n\u001b[0;32m--> 278\u001b[0m \u001b[43moptimizer\u001b[49m\u001b[38;5;241;43m.\u001b[39;49m\u001b[43mzero_grad\u001b[49m()\n\u001b[1;32m    279\u001b[0m loss\u001b[38;5;241m.\u001b[39mbackward()\n\u001b[1;32m    280\u001b[0m optimizer\u001b[38;5;241m.\u001b[39mstep()\n",
      "\u001b[0;31mKeyboardInterrupt\u001b[0m: "
     ]
    }
   ],
   "source": [
    "# started at 11:19\n",
    "# overall 3 models to fit (1 function fit x 1 N_max_interaction_order x 3 datasets)\n",
    "# with 32 Gb of RAM and 8 CPU cores\n",
    "# using 80 Gb GPU RAM\n",
    "\n",
    "k_folds = 10\n",
    "\n",
    "transformations = ['Sigmoid', #'ELU', 'Linear'\n",
    "                  ] \n",
    "\n",
    "N_max_interaction_order = [2, #1\n",
    "                          ]\n",
    "\n",
    "\n",
    "for transformation in transformations:\n",
    "    print('Transformation:', transformation)\n",
    "    \n",
    "    for n_max_interaction_order in N_max_interaction_order:\n",
    "        print('N_max_interaction_order', n_max_interaction_order)\n",
    "        \n",
    "        for i in [1]:\n",
    "            curr_file_path = filenames_full[i]\n",
    "            curr_file_name = curr_file_path.split('/')[-1].split('.')[0]\n",
    "            curr_dataset = datasets[i]\n",
    "            \n",
    "            print('File', curr_file_path)\n",
    "        \n",
    "            my_model_design = pd.DataFrame({\n",
    "                       'phenotype': ['Nucleation_' + curr_dataset],\n",
    "\n",
    "                        # transformation can be one of: Linear, ReLU, SiLU, Sigmoid, SumOfSigmoids, \n",
    "                        #                               TwoStateFractionFolded, ThreeStateFractionFolded, FourStateFractionFolded\n",
    "\n",
    "                       'transformation': [transformation], \n",
    "                       'trait': ['Nucleation'],\n",
    "                       'file': [curr_file_path]})\n",
    "\n",
    "            mochi_project = MochiTask(\n",
    "                       directory = output_dir + '20240424_max_terms_order_' + str(n_max_interaction_order) + '_' + transformation + '_l2_regularization_factor_' + str(l2_regularization_factor_value) + '_' + curr_dataset + '_all_variants',\n",
    "                       data = MochiData(\n",
    "                          model_design = my_model_design,\n",
    "                          max_interaction_order = n_max_interaction_order,\n",
    "                          k_folds = k_folds),\n",
    "                    l2_regularization_factor = l2_regularization_factor_value,\n",
    "\n",
    "                    # this was 200 before by default - now might be a better fit - can try different values in the future\n",
    "                sos_architecture = [5])\n",
    "\n",
    "            # started at X\n",
    "            # takes about 6-7?? minutes\n",
    "            mochi_project.grid_search() \n",
    "\n",
    "            for i in range(k_folds):\n",
    "                mochi_project.fit_best(fold = i+1)\n",
    "\n",
    "            temperature = 30\n",
    "\n",
    "            mochi_report = MochiReport(\n",
    "                       task = mochi_project, # changed from project = mochi_project, there must have been a change in agrument name\n",
    "                       RT = (273+temperature)*0.001987)\n",
    "\n",
    "            energies = mochi_project.get_additive_trait_weights(\n",
    "                       RT = (273+temperature)*0.001987)\n",
    "\n",
    "            mochi_project.save()\n",
    "\n",
    "            print('Done with file', l2_regularization_factor_value, '\\n', '################')\n",
    "\n",
    "        print('Done with transformation', transformation, '\\n', '################')\n",
    "        \n",
    "    print('Done with n_max_interaction_order', n_max_interaction_order, '\\n', '################')"
   ]
  },
  {
   "cell_type": "code",
   "execution_count": null,
   "id": "d7856e13-f825-4d07-8f58-cdcc278c608f",
   "metadata": {},
   "outputs": [],
   "source": []
  },
  {
   "cell_type": "code",
   "execution_count": 16,
   "id": "1619165f-29de-4aab-b9e9-c5083d70626e",
   "metadata": {
    "tags": []
   },
   "outputs": [],
   "source": [
    "datasets = ['DTS14']"
   ]
  },
  {
   "cell_type": "code",
   "execution_count": 16,
   "id": "7c3f9236-d5c6-4e9a-a413-7368caea90d0",
   "metadata": {
    "tags": []
   },
   "outputs": [
    {
     "name": "stdout",
     "output_type": "stream",
     "text": [
      "Transformation: Sigmoid\n",
      "N_max_interaction_order 2\n",
      "File /lustre/scratch126/gengen/projects/amyloid_beta_epistasis/DTS_joint_analysis/files/mochi_all_variants_DTS14_20240424.tsv\n",
      "Loading fitness data\n",
      "One-hot encoding sequence features\n",
      "One-hot encoding interaction features\n",
      "... Total theoretical features (order:count): 2:176\n",
      "... Total retained features (order:count): 2:176 (100.0%)\n",
      "Defining cross-validation groups\n",
      "Defining coefficient groups\n",
      "Done!\n",
      "Performing grid search...\n",
      "Fitting model:\n",
      "{'fold': 1, 'seed': 1, 'grid_search': True, 'batch_size': 512, 'learn_rate': 0.05, 'num_epochs': 1000, 'num_epochs_grid': 100, 'l1_regularization_factor': 0.0, 'l2_regularization_factor': 1e-05, 'training_resample': True, 'early_stopping': True, 'scheduler_gamma': 0.98, 'scheduler_epochs': 10, 'loss_function_name': 'WeightedL1', 'sos_architecture': [5], 'sos_outputlinear': False}\n",
      "Epoch 1; Avg_val_loss: 2.6883; WTcoef_1: 0.0772; WTres_1: -2.9345; \n",
      "Epoch 11; Avg_val_loss: 1.7844; WTcoef_1: -0.0748; WTres_1: -3.2046; \n",
      "Epoch 21; Avg_val_loss: 1.8412; WTcoef_1: -0.1504; WTres_1: -3.1821; \n",
      "Epoch 31; Avg_val_loss: 1.8080; WTcoef_1: -0.1977; WTres_1: -3.1818; \n",
      "Epoch 41; Avg_val_loss: 1.7727; WTcoef_1: -0.2104; WTres_1: -3.1593; \n",
      "Epoch 51; Avg_val_loss: 1.7451; WTcoef_1: -0.2479; WTres_1: -3.1348; \n",
      "Epoch 61; Avg_val_loss: 1.8004; WTcoef_1: -0.2262; WTres_1: -3.1680; \n",
      "Epoch 71; Avg_val_loss: 1.7974; WTcoef_1: -0.2268; WTres_1: -3.1294; \n",
      "Epoch 81; Avg_val_loss: 1.8352; WTcoef_1: -0.2654; WTres_1: -3.2103; \n",
      "Epoch 91; Avg_val_loss: 1.7755; WTcoef_1: -0.2328; WTres_1: -3.1656; \n"
     ]
    },
    {
     "ename": "KeyboardInterrupt",
     "evalue": "",
     "output_type": "error",
     "traceback": [
      "\u001b[0;31m---------------------------------------------------------------------------\u001b[0m",
      "\u001b[0;31mKeyboardInterrupt\u001b[0m                         Traceback (most recent call last)",
      "Cell \u001b[0;32mIn[16], line 51\u001b[0m\n\u001b[1;32m     38\u001b[0m mochi_project \u001b[38;5;241m=\u001b[39m MochiTask(\n\u001b[1;32m     39\u001b[0m            directory \u001b[38;5;241m=\u001b[39m output_dir \u001b[38;5;241m+\u001b[39m \u001b[38;5;124m'\u001b[39m\u001b[38;5;124m20240424_max_terms_order_\u001b[39m\u001b[38;5;124m'\u001b[39m \u001b[38;5;241m+\u001b[39m \u001b[38;5;28mstr\u001b[39m(n_max_interaction_order) \u001b[38;5;241m+\u001b[39m \u001b[38;5;124m'\u001b[39m\u001b[38;5;124m_\u001b[39m\u001b[38;5;124m'\u001b[39m \u001b[38;5;241m+\u001b[39m transformation \u001b[38;5;241m+\u001b[39m \u001b[38;5;124m'\u001b[39m\u001b[38;5;124m_l2_regularization_factor_\u001b[39m\u001b[38;5;124m'\u001b[39m \u001b[38;5;241m+\u001b[39m \u001b[38;5;28mstr\u001b[39m(l2_regularization_factor_value) \u001b[38;5;241m+\u001b[39m \u001b[38;5;124m'\u001b[39m\u001b[38;5;124m_\u001b[39m\u001b[38;5;124m'\u001b[39m \u001b[38;5;241m+\u001b[39m curr_dataset \u001b[38;5;241m+\u001b[39m \u001b[38;5;124m'\u001b[39m\u001b[38;5;124m_all_variants\u001b[39m\u001b[38;5;124m'\u001b[39m,\n\u001b[1;32m     40\u001b[0m            data \u001b[38;5;241m=\u001b[39m MochiData(\n\u001b[0;32m   (...)\u001b[0m\n\u001b[1;32m     46\u001b[0m         \u001b[38;5;66;03m# this was 200 before by default - now might be a better fit - can try different values in the future\u001b[39;00m\n\u001b[1;32m     47\u001b[0m     sos_architecture \u001b[38;5;241m=\u001b[39m [\u001b[38;5;241m5\u001b[39m])\n\u001b[1;32m     49\u001b[0m \u001b[38;5;66;03m# started at X\u001b[39;00m\n\u001b[1;32m     50\u001b[0m \u001b[38;5;66;03m# takes about 6-7?? minutes\u001b[39;00m\n\u001b[0;32m---> 51\u001b[0m \u001b[43mmochi_project\u001b[49m\u001b[38;5;241;43m.\u001b[39;49m\u001b[43mgrid_search\u001b[49m\u001b[43m(\u001b[49m\u001b[43m)\u001b[49m \n\u001b[1;32m     53\u001b[0m \u001b[38;5;28;01mfor\u001b[39;00m i \u001b[38;5;129;01min\u001b[39;00m \u001b[38;5;28mrange\u001b[39m(k_folds):\n\u001b[1;32m     54\u001b[0m     mochi_project\u001b[38;5;241m.\u001b[39mfit_best(fold \u001b[38;5;241m=\u001b[39m i\u001b[38;5;241m+\u001b[39m\u001b[38;5;241m1\u001b[39m)\n",
      "File \u001b[0;32m/software/team354/MoCHI/pymochi/models.py:923\u001b[0m, in \u001b[0;36mMochiTask.grid_search\u001b[0;34m(self, fold, seed, overwrite, init_weights, fix_weights)\u001b[0m\n\u001b[1;32m    921\u001b[0m \u001b[38;5;28;01mtry\u001b[39;00m:\n\u001b[1;32m    922\u001b[0m     \u001b[38;5;28;01mfor\u001b[39;00m b \u001b[38;5;129;01min\u001b[39;00m batch_params:\n\u001b[0;32m--> 923\u001b[0m         \u001b[38;5;28;43mself\u001b[39;49m\u001b[38;5;241;43m.\u001b[39;49m\u001b[43mfit\u001b[49m\u001b[43m(\u001b[49m\n\u001b[1;32m    924\u001b[0m \u001b[43m            \u001b[49m\u001b[43mfold\u001b[49m\u001b[43m  \u001b[49m\u001b[38;5;241;43m=\u001b[39;49m\u001b[43m \u001b[49m\u001b[43mfold\u001b[49m\u001b[43m,\u001b[49m\n\u001b[1;32m    925\u001b[0m \u001b[43m            \u001b[49m\u001b[43mseed\u001b[49m\u001b[43m \u001b[49m\u001b[38;5;241;43m=\u001b[39;49m\u001b[43m \u001b[49m\u001b[43mseed\u001b[49m\u001b[43m,\u001b[49m\n\u001b[1;32m    926\u001b[0m \u001b[43m            \u001b[49m\u001b[43mgrid_search\u001b[49m\u001b[43m \u001b[49m\u001b[38;5;241;43m=\u001b[39;49m\u001b[43m \u001b[49m\u001b[38;5;28;43;01mTrue\u001b[39;49;00m\u001b[43m,\u001b[49m\n\u001b[1;32m    927\u001b[0m \u001b[43m            \u001b[49m\u001b[43mbatch_size\u001b[49m\u001b[43m \u001b[49m\u001b[38;5;241;43m=\u001b[39;49m\u001b[43m \u001b[49m\u001b[43mb\u001b[49m\u001b[43m[\u001b[49m\u001b[38;5;241;43m0\u001b[39;49m\u001b[43m]\u001b[49m\u001b[43m,\u001b[49m\n\u001b[1;32m    928\u001b[0m \u001b[43m            \u001b[49m\u001b[43mlearn_rate\u001b[49m\u001b[43m \u001b[49m\u001b[38;5;241;43m=\u001b[39;49m\u001b[43m \u001b[49m\u001b[43mb\u001b[49m\u001b[43m[\u001b[49m\u001b[38;5;241;43m1\u001b[39;49m\u001b[43m]\u001b[49m\u001b[43m,\u001b[49m\n\u001b[1;32m    929\u001b[0m \u001b[43m            \u001b[49m\u001b[43mnum_epochs\u001b[49m\u001b[43m \u001b[49m\u001b[38;5;241;43m=\u001b[39;49m\u001b[43m \u001b[49m\u001b[38;5;28;43mself\u001b[39;49m\u001b[38;5;241;43m.\u001b[39;49m\u001b[43mnum_epochs\u001b[49m\u001b[43m,\u001b[49m\n\u001b[1;32m    930\u001b[0m \u001b[43m            \u001b[49m\u001b[43mnum_epochs_grid\u001b[49m\u001b[43m \u001b[49m\u001b[38;5;241;43m=\u001b[39;49m\u001b[43m \u001b[49m\u001b[38;5;28;43mself\u001b[39;49m\u001b[38;5;241;43m.\u001b[39;49m\u001b[43mnum_epochs_grid\u001b[49m\u001b[43m,\u001b[49m\n\u001b[1;32m    931\u001b[0m \u001b[43m            \u001b[49m\u001b[43ml1_regularization_factor\u001b[49m\u001b[43m \u001b[49m\u001b[38;5;241;43m=\u001b[39;49m\u001b[43m \u001b[49m\u001b[43mb\u001b[49m\u001b[43m[\u001b[49m\u001b[38;5;241;43m2\u001b[39;49m\u001b[43m]\u001b[49m\u001b[43m,\u001b[49m\n\u001b[1;32m    932\u001b[0m \u001b[43m            \u001b[49m\u001b[43ml2_regularization_factor\u001b[49m\u001b[43m \u001b[49m\u001b[38;5;241;43m=\u001b[39;49m\u001b[43m \u001b[49m\u001b[43mb\u001b[49m\u001b[43m[\u001b[49m\u001b[38;5;241;43m3\u001b[39;49m\u001b[43m]\u001b[49m\u001b[43m,\u001b[49m\n\u001b[1;32m    933\u001b[0m \u001b[43m            \u001b[49m\u001b[43mtraining_resample\u001b[49m\u001b[43m \u001b[49m\u001b[38;5;241;43m=\u001b[39;49m\u001b[43m \u001b[49m\u001b[38;5;28;43mself\u001b[39;49m\u001b[38;5;241;43m.\u001b[39;49m\u001b[43mtraining_resample\u001b[49m\u001b[43m,\u001b[49m\n\u001b[1;32m    934\u001b[0m \u001b[43m            \u001b[49m\u001b[43mearly_stopping\u001b[49m\u001b[43m \u001b[49m\u001b[38;5;241;43m=\u001b[39;49m\u001b[43m \u001b[49m\u001b[38;5;28;43mself\u001b[39;49m\u001b[38;5;241;43m.\u001b[39;49m\u001b[43mearly_stopping\u001b[49m\u001b[43m,\u001b[49m\n\u001b[1;32m    935\u001b[0m \u001b[43m            \u001b[49m\u001b[43mscheduler_gamma\u001b[49m\u001b[43m \u001b[49m\u001b[38;5;241;43m=\u001b[39;49m\u001b[43m \u001b[49m\u001b[38;5;28;43mself\u001b[39;49m\u001b[38;5;241;43m.\u001b[39;49m\u001b[43mscheduler_gamma\u001b[49m\u001b[43m,\u001b[49m\n\u001b[1;32m    936\u001b[0m \u001b[43m            \u001b[49m\u001b[43mloss_function_name\u001b[49m\u001b[43m \u001b[49m\u001b[38;5;241;43m=\u001b[39;49m\u001b[43m \u001b[49m\u001b[38;5;28;43mself\u001b[39;49m\u001b[38;5;241;43m.\u001b[39;49m\u001b[43mloss_function_name\u001b[49m\u001b[43m,\u001b[49m\n\u001b[1;32m    937\u001b[0m \u001b[43m            \u001b[49m\u001b[43msos_architecture\u001b[49m\u001b[43m \u001b[49m\u001b[38;5;241;43m=\u001b[39;49m\u001b[43m \u001b[49m\u001b[38;5;28;43mself\u001b[39;49m\u001b[38;5;241;43m.\u001b[39;49m\u001b[43msos_architecture\u001b[49m\u001b[43m,\u001b[49m\n\u001b[1;32m    938\u001b[0m \u001b[43m            \u001b[49m\u001b[43msos_outputlinear\u001b[49m\u001b[43m \u001b[49m\u001b[38;5;241;43m=\u001b[39;49m\u001b[43m \u001b[49m\u001b[38;5;28;43mself\u001b[39;49m\u001b[38;5;241;43m.\u001b[39;49m\u001b[43msos_outputlinear\u001b[49m\u001b[43m,\u001b[49m\n\u001b[1;32m    939\u001b[0m \u001b[43m            \u001b[49m\u001b[43minit_weights\u001b[49m\u001b[43m \u001b[49m\u001b[38;5;241;43m=\u001b[39;49m\u001b[43m \u001b[49m\u001b[43minit_weights\u001b[49m\u001b[43m,\u001b[49m\n\u001b[1;32m    940\u001b[0m \u001b[43m            \u001b[49m\u001b[43mfix_weights\u001b[49m\u001b[43m \u001b[49m\u001b[38;5;241;43m=\u001b[39;49m\u001b[43m \u001b[49m\u001b[43mfix_weights\u001b[49m\u001b[43m)\u001b[49m\n\u001b[1;32m    941\u001b[0m \u001b[38;5;28;01mexcept\u001b[39;00m \u001b[38;5;167;01mValueError\u001b[39;00m:\n\u001b[1;32m    942\u001b[0m     \u001b[38;5;28mprint\u001b[39m(\u001b[38;5;124m\"\u001b[39m\u001b[38;5;124mError: Grid search failed.\u001b[39m\u001b[38;5;124m\"\u001b[39m)\n",
      "File \u001b[0;32m/software/team354/MoCHI/pymochi/models.py:1342\u001b[0m, in \u001b[0;36mMochiTask.fit\u001b[0;34m(self, fold, seed, grid_search, batch_size, learn_rate, num_epochs, num_epochs_grid, l1_regularization_factor, l2_regularization_factor, epoch_status, training_resample, early_stopping, scheduler_gamma, scheduler_epochs, loss_function_name, sos_architecture, sos_outputlinear, init_weights, fix_weights)\u001b[0m\n\u001b[1;32m   1340\u001b[0m     total_epochs \u001b[38;5;241m=\u001b[39m num_epochs_grid\n\u001b[1;32m   1341\u001b[0m \u001b[38;5;28;01mfor\u001b[39;00m epoch \u001b[38;5;129;01min\u001b[39;00m \u001b[38;5;28mrange\u001b[39m(total_epochs):\n\u001b[0;32m-> 1342\u001b[0m     \u001b[43mmodel\u001b[49m\u001b[38;5;241;43m.\u001b[39;49m\u001b[43mtrain_model\u001b[49m\u001b[43m(\u001b[49m\n\u001b[1;32m   1343\u001b[0m \u001b[43m        \u001b[49m\u001b[43mtrain_dataloader\u001b[49m\u001b[43m,\u001b[49m\u001b[43m \u001b[49m\n\u001b[1;32m   1344\u001b[0m \u001b[43m        \u001b[49m\u001b[43mloss_function\u001b[49m\u001b[43m,\u001b[49m\u001b[43m \u001b[49m\n\u001b[1;32m   1345\u001b[0m \u001b[43m        \u001b[49m\u001b[43moptimizer\u001b[49m\u001b[43m,\u001b[49m\n\u001b[1;32m   1346\u001b[0m \u001b[43m        \u001b[49m\u001b[38;5;28;43mself\u001b[39;49m\u001b[38;5;241;43m.\u001b[39;49m\u001b[43mdevice\u001b[49m\u001b[43m,\u001b[49m\u001b[43m \u001b[49m\n\u001b[1;32m   1347\u001b[0m \u001b[43m        \u001b[49m\u001b[43ml1_regularization_factor\u001b[49m\u001b[43m,\u001b[49m\u001b[43m \u001b[49m\n\u001b[1;32m   1348\u001b[0m \u001b[43m        \u001b[49m\u001b[43ml2_regularization_factor\u001b[49m\u001b[43m)\u001b[49m\n\u001b[1;32m   1349\u001b[0m     model\u001b[38;5;241m.\u001b[39mvalidate_model(\n\u001b[1;32m   1350\u001b[0m         valid_dataloader, \n\u001b[1;32m   1351\u001b[0m         loss_function, \n\u001b[0;32m   (...)\u001b[0m\n\u001b[1;32m   1354\u001b[0m         l2_regularization_factor, \n\u001b[1;32m   1355\u001b[0m         model_data_WT)\n\u001b[1;32m   1357\u001b[0m     \u001b[38;5;66;03m#Check scheduler and early-stopping criteria\u001b[39;00m\n",
      "File \u001b[0;32m/software/team354/MoCHI/pymochi/models.py:276\u001b[0m, in \u001b[0;36mMochiModel.train_model\u001b[0;34m(self, dataloader, loss_function, optimizer, device, l1_lambda, l2_lambda)\u001b[0m\n\u001b[1;32m    274\u001b[0m \u001b[38;5;66;03m# Compute prediction error (weighted by measurement error) + regularization terms\u001b[39;00m\n\u001b[1;32m    275\u001b[0m pred \u001b[38;5;241m=\u001b[39m \u001b[38;5;28mself\u001b[39m(select, X, mask)\n\u001b[0;32m--> 276\u001b[0m loss \u001b[38;5;241m=\u001b[39m \u001b[38;5;28;43msum\u001b[39;49m\u001b[43m(\u001b[49m\u001b[43mloss_function\u001b[49m\u001b[43m(\u001b[49m\u001b[43mpred\u001b[49m\u001b[43m,\u001b[49m\u001b[43m \u001b[49m\u001b[43my\u001b[49m\u001b[43m,\u001b[49m\u001b[43m \u001b[49m\u001b[43my_wt\u001b[49m\u001b[43m)\u001b[49m\u001b[43m)\u001b[49m\u001b[38;5;241m/\u001b[39m\u001b[38;5;28mlen\u001b[39m(y) \u001b[38;5;241m+\u001b[39m l1_lambda \u001b[38;5;241m*\u001b[39m l1_norm \u001b[38;5;241m+\u001b[39m l2_lambda \u001b[38;5;241m*\u001b[39m l2_norm\n\u001b[1;32m    277\u001b[0m \u001b[38;5;66;03m# Backpropagation\u001b[39;00m\n\u001b[1;32m    278\u001b[0m optimizer\u001b[38;5;241m.\u001b[39mzero_grad()\n",
      "\u001b[0;31mKeyboardInterrupt\u001b[0m: "
     ]
    }
   ],
   "source": [
    "# started at 11:19\n",
    "# overall 3 models to fit (1 function fit x 1 N_max_interaction_order x 3 datasets)\n",
    "# with 32 Gb of RAM and 8 CPU cores\n",
    "# using 80 Gb GPU RAM\n",
    "\n",
    "k_folds = 10\n",
    "\n",
    "transformations = ['Sigmoid', #'ELU', 'Linear'\n",
    "                  ] \n",
    "\n",
    "N_max_interaction_order = [2, #1\n",
    "                          ]\n",
    "\n",
    "\n",
    "for transformation in transformations:\n",
    "    print('Transformation:', transformation)\n",
    "    \n",
    "    for n_max_interaction_order in N_max_interaction_order:\n",
    "        print('N_max_interaction_order', n_max_interaction_order)\n",
    "        \n",
    "        for i in [2]:\n",
    "            curr_file_path = filenames_full[i]\n",
    "            curr_file_name = curr_file_path.split('/')[-1].split('.')[0]\n",
    "            curr_dataset = datasets[i]\n",
    "            \n",
    "            print('File', curr_file_path)\n",
    "        \n",
    "            my_model_design = pd.DataFrame({\n",
    "                       'phenotype': ['Nucleation_' + curr_dataset],\n",
    "\n",
    "                        # transformation can be one of: Linear, ReLU, SiLU, Sigmoid, SumOfSigmoids, \n",
    "                        #                               TwoStateFractionFolded, ThreeStateFractionFolded, FourStateFractionFolded\n",
    "\n",
    "                       'transformation': [transformation], \n",
    "                       'trait': ['Nucleation'],\n",
    "                       'file': [curr_file_path]})\n",
    "\n",
    "            mochi_project = MochiTask(\n",
    "                       directory = output_dir + '20240424_max_terms_order_' + str(n_max_interaction_order) + '_' + transformation + '_l2_regularization_factor_' + str(l2_regularization_factor_value) + '_' + curr_dataset + '_all_variants',\n",
    "                       data = MochiData(\n",
    "                          model_design = my_model_design,\n",
    "                          max_interaction_order = n_max_interaction_order,\n",
    "                          k_folds = k_folds),\n",
    "                    l2_regularization_factor = l2_regularization_factor_value,\n",
    "\n",
    "                    # this was 200 before by default - now might be a better fit - can try different values in the future\n",
    "                sos_architecture = [5])\n",
    "\n",
    "            # started at X\n",
    "            # takes about 6-7?? minutes\n",
    "            mochi_project.grid_search() \n",
    "\n",
    "            for i in range(k_folds):\n",
    "                mochi_project.fit_best(fold = i+1)\n",
    "\n",
    "            temperature = 30\n",
    "\n",
    "            mochi_report = MochiReport(\n",
    "                       task = mochi_project, # changed from project = mochi_project, there must have been a change in agrument name\n",
    "                       RT = (273+temperature)*0.001987)\n",
    "\n",
    "            energies = mochi_project.get_additive_trait_weights(\n",
    "                       RT = (273+temperature)*0.001987)\n",
    "\n",
    "            mochi_project.save()\n",
    "\n",
    "            print('Done with file', l2_regularization_factor_value, '\\n', '################')\n",
    "\n",
    "        print('Done with transformation', transformation, '\\n', '################')\n",
    "        \n",
    "    print('Done with n_max_interaction_order', n_max_interaction_order, '\\n', '################')"
   ]
  },
  {
   "cell_type": "code",
   "execution_count": null,
   "id": "6547794b-f611-4cc3-a038-dbd6a1b1df6e",
   "metadata": {},
   "outputs": [],
   "source": []
  },
  {
   "cell_type": "code",
   "execution_count": null,
   "id": "bc4eaebe-a08d-4cab-bbd8-6a81c1379724",
   "metadata": {},
   "outputs": [],
   "source": []
  },
  {
   "cell_type": "code",
   "execution_count": null,
   "id": "0834315d-6b6e-4be8-aeb0-ae3d55ff3e15",
   "metadata": {},
   "outputs": [],
   "source": []
  },
  {
   "cell_type": "code",
   "execution_count": null,
   "id": "3d5b8f52-c5a0-4fb7-b147-de5466c12d07",
   "metadata": {},
   "outputs": [],
   "source": []
  },
  {
   "cell_type": "code",
   "execution_count": null,
   "id": "c8b3bcdd-ac76-4ff2-8ccc-a6bf5afb05bb",
   "metadata": {},
   "outputs": [],
   "source": []
  },
  {
   "cell_type": "code",
   "execution_count": null,
   "id": "4d2efbfa-e6de-4bd8-bbd6-c353042d19b0",
   "metadata": {},
   "outputs": [],
   "source": []
  },
  {
   "cell_type": "code",
   "execution_count": null,
   "id": "d1113a40-34ef-427d-92ce-8d4bc1297846",
   "metadata": {},
   "outputs": [],
   "source": []
  },
  {
   "cell_type": "code",
   "execution_count": null,
   "id": "5124a797-7219-422c-97d8-317bbd87f004",
   "metadata": {},
   "outputs": [],
   "source": []
  }
 ],
 "metadata": {
  "kernelspec": {
   "display_name": "pymochi",
   "language": "python",
   "name": "pymochi"
  },
  "language_info": {
   "codemirror_mode": {
    "name": "ipython",
    "version": 3
   },
   "file_extension": ".py",
   "mimetype": "text/x-python",
   "name": "python",
   "nbconvert_exporter": "python",
   "pygments_lexer": "ipython3",
   "version": "3.9.9"
  }
 },
 "nbformat": 4,
 "nbformat_minor": 5
}
