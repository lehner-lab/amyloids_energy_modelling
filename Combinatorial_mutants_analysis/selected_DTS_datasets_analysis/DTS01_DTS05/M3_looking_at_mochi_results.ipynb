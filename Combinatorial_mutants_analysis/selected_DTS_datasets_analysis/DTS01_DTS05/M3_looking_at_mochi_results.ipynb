{
 "cells": [
  {
   "cell_type": "markdown",
   "id": "cefac4dd-ad10-492a-ab72-2054154c46aa",
   "metadata": {
    "tags": []
   },
   "source": [
    "# Looking at MoCHI results (notebook M1, 08.03.2024) on DTS (Combinatorial) datasets\n",
    "\n",
    "1. Allowing for up to 2nd order terms\n",
    "2. Fitting using Sigmoid function\n",
    "3. Using `l2_regularization_factor` parameter = 10^(-5)\n",
    "\n",
    "11.03.2024"
   ]
  },
  {
   "cell_type": "code",
   "execution_count": 1,
   "id": "707bede1-3e53-487b-98dc-9b8d9a4f206c",
   "metadata": {},
   "outputs": [],
   "source": [
    "import pandas as pd\n",
    "import numpy as np\n",
    "import matplotlib\n",
    "import matplotlib.pyplot as plt\n",
    "import seaborn as sns\n",
    "from matplotlib.colors import LinearSegmentedColormap\n",
    "from pymochi.models import MochiTask"
   ]
  },
  {
   "cell_type": "code",
   "execution_count": 2,
   "id": "f82ff3e5-4988-4a7a-bdf7-f9fa7eca9a8b",
   "metadata": {},
   "outputs": [],
   "source": [
    "pd.set_option('display.max_rows', 500)"
   ]
  },
  {
   "cell_type": "code",
   "execution_count": 3,
   "id": "bb92e5ec-a386-43bd-ba36-263283e461a3",
   "metadata": {},
   "outputs": [],
   "source": [
    "results_dir = '/lustre/scratch126/gengen/projects/amyloid_beta_epistasis/amyloids_energy_modelling/Combinatorial_mutants_analysis/mochi_results/'\n"
   ]
  },
  {
   "cell_type": "code",
   "execution_count": 4,
   "id": "dc5338a3-4a16-48c0-bfce-f5dfe83b8dce",
   "metadata": {},
   "outputs": [],
   "source": [
    "filedir = '/lustre/scratch126/gengen/projects/amyloid_beta_epistasis/amyloids_energy_modelling/Combinatorial_mutants_analysis/files/'\n",
    "\n",
    "datasets = ['DTS01',\n",
    "            'DTS05',\n",
    "           ]\n",
    "\n",
    "filenames = {}\n",
    "\n",
    "for dataset in datasets:\n",
    "    filenames[dataset] = 'mochi_all_variants_' + dataset + '_20240424.tsv'\n",
    "\n",
    "output_dir = '/lustre/scratch126/gengen/projects/amyloid_beta_epistasis/DTS_joint_analysis/mochi_results/'"
   ]
  },
  {
   "cell_type": "code",
   "execution_count": 6,
   "id": "f4a31492-0388-4e3c-bb2e-a662d97dfac3",
   "metadata": {},
   "outputs": [],
   "source": [
    "l2_regularisation_factor_value = '1e-05'\n",
    "\n",
    "transformations = ['Sigmoid',\n",
    "                  ] \n"
   ]
  },
  {
   "cell_type": "code",
   "execution_count": 7,
   "id": "37f5f650-fb67-419a-a953-f621f9189ffb",
   "metadata": {
    "tags": []
   },
   "outputs": [
    {
     "name": "stdout",
     "output_type": "stream",
     "text": [
      "Sigmoid\n"
     ]
    }
   ],
   "source": [
    "predictions = {}\n",
    "\n",
    "mochi_tasks = {}\n",
    "\n",
    "for transformation in transformations: \n",
    "    print(transformation)\n",
    "    \n",
    "    curr_path = results_dir + '20240424_max_terms_order_2_' + transformation + '_l2_regularization_factor_' + l2_regularisation_factor_value + '_DTS01_DT05_all_variants/'\n",
    "\n",
    "    #curr_paths_indiv_models = \n",
    "    curr_key = transformation + '_DTS01_DT05_all_variants_1st_and_2nd_order'\n",
    "\n",
    "    predictions[curr_key] = pd.read_csv(curr_path + '/predictions/predicted_phenotypes_all.txt',\n",
    "                                                                       sep='\\t') \n",
    "    predictions[curr_key].phenotype = [str(i) for i in predictions[curr_key].phenotype]\n",
    "\n",
    "    # adding a column with residual values\n",
    "    observed_phenotype_col = 'fitness'\n",
    "    predicted_phenotype_col = 'fold_1'\n",
    "    residuals_col = 'residual_pred_vs_obs'\n",
    "    predictions[curr_key][residuals_col] = predictions[curr_key][predicted_phenotype_col] - predictions[curr_key][observed_phenotype_col]\n",
    "\n",
    "\n",
    "    # loading previous task / model to have some of the parameters here\n",
    "    mochi_tasks[curr_key] = MochiTask(directory = curr_path)\n",
    "    \n",
    "    # rescaling energies to be in kcal/mol\n",
    "    # scaling twice\n",
    "    # using slope and intercept bw DTS and doubles common terms derived in notebook M3\n",
    "    \n",
    "    intercept_value = -0.15589508632224625\n",
    "    slope_value = 0.41604357\n",
    "    \n",
    "    all_folds = [int(i) for i in list(set(predictions[curr_key].loc[predictions[curr_key].Fold.isna()==False,'Fold']))]\n",
    "    for fold in all_folds:\n",
    "        predictions[curr_key]['fold_' + str(fold) + '_additive_trait0'] = (predictions[curr_key]['fold_' + str(fold) + '_additive_trait0'] + intercept_value)/(-slope_value)\n",
    "        \n"
   ]
  },
  {
   "cell_type": "code",
   "execution_count": 8,
   "id": "eb427583-a604-490d-9df6-28106b34e400",
   "metadata": {
    "tags": []
   },
   "outputs": [
    {
     "data": {
      "text/plain": [
       "Index(['aa_seq', 'Nham_aa', 'WT', 'fitness', 'sigma', 'phenotype',\n",
       "       'Nucleation_DTS01', 'Nucleation_DTS05', 'fold_1', 'fold_2', 'fold_3',\n",
       "       'fold_4', 'fold_5', 'fold_6', 'fold_7', 'fold_8', 'fold_9', 'fold_10',\n",
       "       'mean', 'std', 'ci95', 'Fold', 'fold_1_additive_trait0',\n",
       "       'fold_2_additive_trait0', 'fold_3_additive_trait0',\n",
       "       'fold_4_additive_trait0', 'fold_5_additive_trait0',\n",
       "       'fold_6_additive_trait0', 'fold_7_additive_trait0',\n",
       "       'fold_8_additive_trait0', 'fold_9_additive_trait0',\n",
       "       'fold_10_additive_trait0', 'residual_pred_vs_obs'],\n",
       "      dtype='object')"
      ]
     },
     "execution_count": 8,
     "metadata": {},
     "output_type": "execute_result"
    }
   ],
   "source": [
    "predictions['Sigmoid_DTS01_DT05_all_variants_1st_and_2nd_order'].columns"
   ]
  },
  {
   "cell_type": "code",
   "execution_count": 9,
   "id": "7eae91ee-170b-43b4-8d9e-eae038f79d7c",
   "metadata": {},
   "outputs": [
    {
     "data": {
      "text/plain": [
       "str"
      ]
     },
     "execution_count": 9,
     "metadata": {},
     "output_type": "execute_result"
    }
   ],
   "source": [
    "type(predictions['Sigmoid_DTS01_DT05_all_variants_1st_and_2nd_order'].phenotype[0])"
   ]
  },
  {
   "cell_type": "code",
   "execution_count": null,
   "id": "3cf941bd-2496-40c6-92e7-9730f8bad1ec",
   "metadata": {},
   "outputs": [],
   "source": []
  },
  {
   "cell_type": "code",
   "execution_count": 10,
   "id": "540b8252-2353-474a-9a29-6b9eb205bcf0",
   "metadata": {},
   "outputs": [],
   "source": [
    "# importing plotting function from MoCHI for predicted vs observed phenotype\n",
    "def plot_test_performance_multiplot(\n",
    "        #self,\n",
    "        input_df,\n",
    "    axis,\n",
    "    Title=None,\n",
    "        #output_path_prefix\n",
    "):\n",
    "        \"\"\"\n",
    "        Plot model performance on test data.\n",
    "\n",
    "        :param input_df: Input DataFrame with all predictions (required).\n",
    "        :param output_path_prefix: Output file path (required).\n",
    "        :returns: Nothing.\n",
    "        \"\"\" \n",
    "\n",
    "        #Subset to held out variants and relevant columns\n",
    "        all_folds = [int(i) for i in list(set(input_df.loc[input_df.Fold.isna()==False,'Fold']))]\n",
    "        all_folds = [i for i in all_folds if 'fold_'+ str(i) in input_df.columns] \n",
    "        rel_cols = ['fitness', 'phenotype', 'Fold']+['fold_'+str(i) for i in all_folds]\n",
    "        result_df = input_df.loc[input_df.Fold.isna()==False,rel_cols]\n",
    "        \n",
    "        #Observed phenotype\n",
    "        result_df['Observed phenotype'] = result_df['fitness']\n",
    "        \n",
    "        #Predicted phenotype\n",
    "        for i in all_folds:\n",
    "            result_df.loc[result_df.Fold==i,'Predicted phenotype'] = result_df.loc[result_df.Fold==i,'fold_'+str(i)]\n",
    "\n",
    "        #Plot performance for all phenotypes\n",
    "        for i in list(set(result_df.phenotype)):\n",
    "            #Plot\n",
    "            plot_df = result_df.loc[result_df.phenotype==i,:]\n",
    "            #fig, ax = plt.subplots()  # Create a figure containing a single axes.\n",
    "            plot_df.reset_index(drop = True, inplace = True)\n",
    "            n_bin = 50\n",
    "            cmap = LinearSegmentedColormap.from_list('whiteblack', ['white', 'black'], N=n_bin)\n",
    "            z = axis.hexbin(\n",
    "                x = 'Observed phenotype',\n",
    "                y = 'Predicted phenotype',\n",
    "                data = plot_df, gridsize = 100, cmap = cmap, bins = 'log')\n",
    "            #Color scale\n",
    "            plt.colorbar(z, ax=axis\n",
    "                        )\n",
    "            #Guides\n",
    "            axis.axline((0.1, 0.1), slope=1, linestyle = \"dashed\", color = 'black')\n",
    "            axis.axhline(y = 0, color = 'black', linestyle = '--')\n",
    "            axis.axvline(x = 0, color = 'black', linestyle = '--')\n",
    "            #Labels\n",
    "            #axis.set_title(self.task.data.phenotype_names[int(i)-1])\n",
    "            #plt.xlabel('Observed phenotype', size = 14)\n",
    "            #plt.ylabel('Predicted phenotype', size = 14)\n",
    "            axis.set_aspect(\"equal\")\n",
    "            #R-squared\n",
    "            from matplotlib.offsetbox import AnchoredText\n",
    "            cor_coef = np.corrcoef(\n",
    "                result_df.loc[result_df.phenotype==i,'Observed phenotype'], \n",
    "                result_df.loc[result_df.phenotype==i,'Predicted phenotype'])[0,1]\n",
    "            at = AnchoredText(\n",
    "                r'$R^2 = $'+str(round(np.power(cor_coef, 2), 2)), \n",
    "                prop=dict(size=14), frameon=False, loc='upper left')\n",
    "            axis.text(0.5,-3,r'$R^2 = $'+str(round(np.power(cor_coef, 2), 2)))\n",
    "            axis.title.set_text(Title)\n",
    "            #plt.show()\n",
    "            #Save\n",
    "            #plt.savefig(output_path_prefix+self.task.data.phenotype_names[int(i)-1]+\".pdf\")"
   ]
  },
  {
   "cell_type": "markdown",
   "id": "2244eb2a-2052-4be4-8ff8-9074baeb628a",
   "metadata": {},
   "source": [
    "## Results here will be plotted for each of the datasets' predictions\n",
    "\n",
    "For 2 phenotypes/datasets:\n",
    "- DTS01 (Combinatorial-1)\n",
    "- DTS05 (Combinatorial-2)"
   ]
  },
  {
   "cell_type": "code",
   "execution_count": 13,
   "id": "8d6c7ac4-5797-4e68-8e53-fc9dac8d0a72",
   "metadata": {},
   "outputs": [],
   "source": [
    "l2_regularisation_factor_values = ['1e-05']"
   ]
  },
  {
   "cell_type": "markdown",
   "id": "6bdae3ad-73d7-4207-b2ed-67296ee2d46a",
   "metadata": {
    "tags": []
   },
   "source": [
    "# Global epistasis plots"
   ]
  },
  {
   "cell_type": "code",
   "execution_count": 14,
   "id": "99ca31fb-2c2b-411d-81e6-4945abb23029",
   "metadata": {},
   "outputs": [],
   "source": [
    "def plot_observed_phenotype_vs_additivetrait_multiplot(\n",
    "        #self,\n",
    "        input_df,\n",
    "        run_key, # Linear_not_dead; etc, the model run (transformation + file handle) \n",
    "        #output_path_prefix,\n",
    "        phenotype, # phenotype value (str) from input_df['phenotype'] to plot stuff for\n",
    "        axis,\n",
    "        transformation = None,\n",
    "        Title = None,\n",
    "        folds = None,\n",
    "        RT = None):\n",
    "        \"\"\"\n",
    "        Plot observed phenoypte versus additive trait (1-dimensional additive traits only).\n",
    "\n",
    "        :param input_df: Input DataFrame with all predictions (required).\n",
    "        :param output_path_prefix: Output file path (required).\n",
    "        :param folds: list of cross-validation folds (default:None i.e. all).\n",
    "        :param RT: R=gas constant (in kcal/K/mol) * T=Temperature (in K) (optional).\n",
    "        :returns: Nothing.\n",
    "        \"\"\" \n",
    "        #Set folds if not supplied\n",
    "        if folds==None:\n",
    "            folds = [i+1 for i in range(mochi_tasks[run_key].data.k_folds)]\n",
    "\n",
    "        #Set RT if not supplied\n",
    "        if RT==None:\n",
    "            RT = 1\n",
    "\n",
    "        fold = folds[0] # it is 1 now\n",
    "        observed_phenotype_col = 'fitness'\n",
    "\n",
    "        #Plot performance for all 1-dimensional phenotypes\n",
    "        \n",
    "        i = int(phenotype) - 1 # phenotype counter, for phenotype 1 should be 0, and so on\n",
    "                \n",
    "        if len(mochi_tasks[run_key].data.model_design.loc[i,'trait'])==1:\n",
    "            predicted_phenotype_col = 'fold_'+str(fold)\n",
    "            additive_trait_col = predicted_phenotype_col+'_additive_trait0' # this will be 'fold_1_additive_trait0'\n",
    "            # sort by fold_1_additive_trait0\n",
    "            plot_df_sort = input_df.loc[input_df.phenotype==str(i+1),:].sort_values(additive_trait_col)\n",
    "            plot_df_sort.reset_index(drop = True, inplace = True)\n",
    "                \n",
    "            \n",
    "            #Convert units\n",
    "            plot_df_sort[additive_trait_col+\"_kcal/mol\"] = plot_df_sort[additive_trait_col]*RT\n",
    "            additive_trait_col = additive_trait_col+\"_kcal/mol\"\n",
    "            #fig, ax = plt.subplots()\n",
    "            n_bin = 50\n",
    "            cmap = LinearSegmentedColormap.from_list('whiteblack', ['white', 'black'], N=n_bin)\n",
    "            \n",
    "            z = axis.hexbin(\n",
    "                    x = additive_trait_col,\n",
    "                    y = observed_phenotype_col,\n",
    "                    data = plot_df_sort.loc[plot_df_sort.phenotype==str(i+1),:], gridsize = 100, cmap = cmap, bins = 'log')\n",
    "            axis.plot(\n",
    "                    plot_df_sort.loc[plot_df_sort.phenotype==str(i+1),additive_trait_col], \n",
    "                    plot_df_sort.loc[plot_df_sort.phenotype==str(i+1),predicted_phenotype_col], mfc='none', \n",
    "                    linestyle = \"-\", color = 'red'\n",
    "                )\n",
    "            #Color scale\n",
    "            plt.colorbar(z, ax=axis)\n",
    "            #Guides\n",
    "            axis.axhline(y = 0, color = 'black', linestyle = '--')\n",
    "            axis.axvline(x = 0, color = 'black', linestyle = '--')\n",
    "                \n",
    "            #Labels\n",
    "            #ax.set_title(mochi_tasks[run_key].data.phenotype_names[int(i)])\n",
    "            axis.set_title(Title, fontsize = 10)\n",
    "            if transformation != None:\n",
    "                axis.set_ylabel(str(transformation) + '\\n transformation', size = 14)\n",
    "            #axis.set_xlabel('Additive trait (-dEa)', size = 14)\n",
    "            #Save\n",
    "            #plt.savefig(output_path_prefix+self.task.data.phenotype_names[int(i)]+\".pdf\")"
   ]
  },
  {
   "cell_type": "code",
   "execution_count": 15,
   "id": "5dce0373-f82f-4060-9468-19bf058b7a8e",
   "metadata": {
    "tags": []
   },
   "outputs": [],
   "source": [
    "phenotypes = np.unique(predictions['Sigmoid_DTS01_DT05_all_variants_1st_and_2nd_order']['phenotype'])"
   ]
  },
  {
   "cell_type": "code",
   "execution_count": 16,
   "id": "4cd74f6f-95dc-4e19-9579-80f2afae343e",
   "metadata": {
    "tags": []
   },
   "outputs": [
    {
     "data": {
      "text/plain": [
       "array(['1', '2'], dtype=object)"
      ]
     },
     "execution_count": 16,
     "metadata": {},
     "output_type": "execute_result"
    }
   ],
   "source": [
    "phenotypes"
   ]
  },
  {
   "cell_type": "code",
   "execution_count": 18,
   "id": "1fd1de1c-5554-4aa7-935e-1f05eddbcdd6",
   "metadata": {
    "tags": []
   },
   "outputs": [
    {
     "data": {
      "image/png": "[encoded data removed]",
      "text/plain": [
       "<Figure size 500x200 with 4 Axes>"
      ]
     },
     "metadata": {},
     "output_type": "display_data"
    }
   ],
   "source": [
    "# all the results for run with all 3 doubles datasets\n",
    "# N_max_inter = 1 everywhere\n",
    "\n",
    "# only plotting for Sigmoid\n",
    "\n",
    "transformations = ['Sigmoid']\n",
    "\n",
    "fig, axs = plt.subplots(len(l2_regularisation_factor_values), len(phenotypes),\n",
    "                        figsize=(5, 2), squeeze=False)\n",
    "fig.tight_layout()\n",
    "fig.subplots_adjust(hspace=0.4)\n",
    "\n",
    "fig.supxlabel('Observed phenotype')\n",
    "fig.supylabel('Predicted phenotype')\n",
    "\n",
    "    \n",
    "\n",
    "for i in range(len(phenotypes)):\n",
    "    \n",
    "    # plotting for each dataset\n",
    "    curr_phenotype = phenotypes[i] # eLife is 1, NNK (C-term) is 2, Nicking (N-term) is 3\n",
    "\n",
    "    curr_transformation = 'Sigmoid'\n",
    "    \n",
    "    for j in range(len(l2_regularisation_factor_values)):\n",
    "        #print(j)\n",
    "        curr_l2_regularisation_factor_value = l2_regularisation_factor_values[j]\n",
    "        \n",
    "        curr_key = 'Sigmoid_DTS01_DT05_all_variants_1st_and_2nd_order'\n",
    "        \n",
    "        # separating input table by phenotype/dataset into 3\n",
    "    \n",
    "        curr_predictions_all = predictions[curr_key]\n",
    "        curr_predictions_selected = curr_predictions_all[curr_predictions_all['phenotype'] == curr_phenotype]\n",
    "        #curr_predictions_2 = curr_predictions_all[curr_predictions_all['phenotype'] == '2']\n",
    "        #curr_predictions_3 = curr_predictions_all[curr_predictions_all['phenotype'] == '3']\n",
    "    \n",
    "        plot_observed_phenotype_vs_additivetrait_multiplot(curr_predictions_selected,\n",
    "                                run_key=curr_key,\n",
    "                                axis=axs[j, i], phenotype=curr_phenotype,\n",
    "                                 Title = 'combinatorial, phenotype' + curr_phenotype + '\\n ' + curr_key)\n",
    "        \n",
    "#plt.savefig('./figures/20240718_mochi_observed_phenotype_vs_additivetrait_Nucleation_DTS01_DTS01.pdf',\n",
    "#            bbox_inches = 'tight')\n",
    "\n",
    "    \n"
   ]
  },
  {
   "cell_type": "code",
   "execution_count": null,
   "id": "ee38463c-94ed-474c-8d3d-d2f0df207764",
   "metadata": {},
   "outputs": [],
   "source": []
  },
  {
   "cell_type": "markdown",
   "id": "0eda14e5-050f-4add-9ad7-77742651060a",
   "metadata": {
    "tags": []
   },
   "source": [
    "# Residuals plots"
   ]
  },
  {
   "cell_type": "code",
   "execution_count": 19,
   "id": "9b7876be-0e7e-4d47-b4ab-fae587b23b6c",
   "metadata": {},
   "outputs": [],
   "source": [
    "def plot_residuals_multiplot(\n",
    "        #self,\n",
    "        input_df,\n",
    "        run_key, # Linear_not_dead; etc, the model run (transformation + file handle) \n",
    "        #output_path_prefix,\n",
    "        phenotype, # phenotype value (str) from input_df['phenotype'] to plot stuff for\n",
    "        axis,\n",
    "        transformation = None,\n",
    "        Title = None,\n",
    "        folds = None,\n",
    "        RT = None):\n",
    "        \"\"\"\n",
    "        Plot observed phenoypte versus additive trait (1-dimensional additive traits only).\n",
    "\n",
    "        :param input_df: Input DataFrame with all predictions (required).\n",
    "        :param output_path_prefix: Output file path (required).\n",
    "        :param folds: list of cross-validation folds (default:None i.e. all).\n",
    "        :param RT: R=gas constant (in kcal/K/mol) * T=Temperature (in K) (optional).\n",
    "        :returns: Nothing.\n",
    "        \"\"\" \n",
    "        #Set folds if not supplied\n",
    "        if folds==None:\n",
    "            folds = [i+1 for i in range(mochi_tasks[run_key].data.k_folds)]\n",
    "\n",
    "        #Set RT if not supplied\n",
    "        if RT==None:\n",
    "            RT = 1\n",
    "\n",
    "        fold = folds[0] # it is 1 now\n",
    "        observed_phenotype_col = 'fitness'\n",
    "\n",
    "        #Plot performance for all 1-dimensional phenotypes\n",
    "        \n",
    "        i = int(phenotype) - 1 # phenotype counter, for phenotype 1 should be 0, and so on\n",
    "                \n",
    "        if len(mochi_tasks[run_key].data.model_design.loc[i,'trait'])==1:\n",
    "            predicted_phenotype_col = 'fold_'+str(fold)\n",
    "            additive_trait_col = predicted_phenotype_col+'_additive_trait0' # this will be 'fold_1_additive_trait0'\n",
    "            # sort by fold_1_additive_trait0\n",
    "            plot_df_sort = input_df.loc[input_df.phenotype==str(i+1),:].sort_values(additive_trait_col)\n",
    "            plot_df_sort.reset_index(drop = True, inplace = True)\n",
    "                \n",
    "            \n",
    "            #Convert units\n",
    "            plot_df_sort[additive_trait_col+\"_kcal/mol\"] = plot_df_sort[additive_trait_col]*RT\n",
    "            additive_trait_col = additive_trait_col+\"_kcal/mol\"\n",
    "            residuals_col = 'residual_obs_vs_pred'\n",
    "            #fig, ax = plt.subplots()\n",
    "            n_bin = 50\n",
    "            cmap = LinearSegmentedColormap.from_list('whiteblack', ['white', 'black'], N=n_bin)\n",
    "            \n",
    "            z = axis.hexbin(\n",
    "                    x = additive_trait_col,\n",
    "                    y = residuals_col,\n",
    "                    data = plot_df_sort.loc[plot_df_sort.phenotype==str(i+1),:], gridsize = 100, cmap = cmap, bins = 'log')\n",
    "            axis.plot(\n",
    "                    plot_df_sort.loc[plot_df_sort.phenotype==str(i+1),additive_trait_col], \n",
    "                    plot_df_sort.loc[plot_df_sort.phenotype==str(i+1),predicted_phenotype_col], mfc='none', \n",
    "                    linestyle = \"-\", color = 'red'\n",
    "                )\n",
    "            #Color scale\n",
    "            plt.colorbar(z, ax=axis)\n",
    "            #Guides\n",
    "            axis.axhline(y = 0, color = 'black', linestyle = '--')\n",
    "            axis.axvline(x = 0, color = 'black', linestyle = '--')\n",
    "                \n",
    "            #Labels\n",
    "            #ax.set_title(mochi_tasks[run_key].data.phenotype_names[int(i)])\n",
    "            axis.set_title(Title, fontsize = 10)\n",
    "            if transformation != None:\n",
    "                axis.set_ylabel(str(transformation) + '\\n transformation', size = 14)\n",
    "            #axis.set_xlabel('Additive trait (-dEa)', size = 14)\n",
    "            #Save\n",
    "            #plt.savefig(output_path_prefix+self.task.data.phenotype_names[int(i)]+\".pdf\")"
   ]
  },
  {
   "cell_type": "code",
   "execution_count": 20,
   "id": "b001b7dd-afd8-4820-88ae-55e0637ce7f7",
   "metadata": {
    "tags": []
   },
   "outputs": [
    {
     "data": {
      "text/plain": [
       "{'Sigmoid_DTS01_DT05_all_variants_1st_and_2nd_order': <pymochi.models.MochiTask at 0x14cf38093fd0>}"
      ]
     },
     "execution_count": 20,
     "metadata": {},
     "output_type": "execute_result"
    }
   ],
   "source": [
    "mochi_tasks"
   ]
  },
  {
   "cell_type": "code",
   "execution_count": 21,
   "id": "436c90d0-731c-4448-8c36-2fadf239148a",
   "metadata": {},
   "outputs": [],
   "source": [
    "def plot_residuals_multiplot_with_smoothed_average(\n",
    "        #self,\n",
    "        input_df,\n",
    "        run_key, # Linear_not_dead; etc, the model run (transformation + file handle) \n",
    "        #output_path_prefix,\n",
    "        phenotype, # phenotype value (str) from input_df['phenotype'] to plot stuff for\n",
    "        axis,\n",
    "        transformation = None,\n",
    "        Title = None,\n",
    "        folds = None,\n",
    "        RT = None):\n",
    "        \"\"\"\n",
    "        Plot observed phenoypte versus additive trait (1-dimensional additive traits only).\n",
    "\n",
    "        :param input_df: Input DataFrame with all predictions (required).\n",
    "        :param output_path_prefix: Output file path (required).\n",
    "        :param folds: list of cross-validation folds (default:None i.e. all).\n",
    "        :param RT: R=gas constant (in kcal/K/mol) * T=Temperature (in K) (optional).\n",
    "        :returns: Nothing.\n",
    "        \"\"\" \n",
    "        #Set folds if not supplied\n",
    "        if folds==None:\n",
    "            folds = [i+1 for i in range(mochi_tasks[run_key].data.k_folds)]\n",
    "\n",
    "        #Set RT if not supplied\n",
    "        if RT==None:\n",
    "            RT = 1\n",
    "\n",
    "        fold = folds[0] # it is 1 now\n",
    "        observed_phenotype_col = 'fitness'\n",
    "\n",
    "        #Plot performance for all 1-dimensional phenotypes\n",
    "        \n",
    "        i = int(phenotype) - 1 # phenotype counter, for phenotype 1 should be 0, and so on\n",
    "                \n",
    "        if len(mochi_tasks[run_key].data.model_design.loc[i,'trait'])==1:\n",
    "            predicted_phenotype_col = 'fold_'+str(fold)\n",
    "            additive_trait_col = predicted_phenotype_col+'_additive_trait0' # this will be 'fold_1_additive_trait0'\n",
    "            # sort by fold_1_additive_trait0\n",
    "            plot_df_sort = input_df.loc[input_df.phenotype==str(i+1),:].sort_values(additive_trait_col)\n",
    "            plot_df_sort.reset_index(drop = True, inplace = True)\n",
    "                \n",
    "            \n",
    "            #Convert units\n",
    "            plot_df_sort[additive_trait_col+\"_kcal/mol\"] = plot_df_sort[additive_trait_col]*RT\n",
    "            additive_trait_col = additive_trait_col+\"_kcal/mol\"\n",
    "            residuals_col = 'residual_pred_vs_obs'\n",
    "            #fig, ax = plt.subplots()\n",
    "            n_bin = 50\n",
    "            cmap = LinearSegmentedColormap.from_list('whiteblack', ['white', 'black'], N=n_bin)\n",
    "            \n",
    "            z = axis.hexbin(\n",
    "                    x = additive_trait_col,\n",
    "                    y = residuals_col,\n",
    "                    data = plot_df_sort.loc[plot_df_sort.phenotype==str(i+1),:], gridsize = 100, cmap = cmap, bins = 'log')\n",
    "            \n",
    "            # range of values along X axis (additive trait col)\n",
    "            x_range = [np.min(plot_df_sort.loc[plot_df_sort.phenotype==str(i+1),additive_trait_col]), \n",
    "                  np.max(plot_df_sort.loc[plot_df_sort.phenotype==str(i+1),additive_trait_col])]\n",
    "            \n",
    "            # iteratively pass all N=50 bins along x axis\n",
    "            N_x_bins = 50\n",
    "            smoothed_mean_vec = [0]*N_x_bins # should be of N_x_bins length \n",
    "            x_positions_for_smoothed_mean_vec = []\n",
    "            \n",
    "            for j in range(N_x_bins):\n",
    "                #print(j)\n",
    "                step = (x_range[1] - x_range[0])/N_x_bins\n",
    "                #print('step:', step)\n",
    "                curr_min = x_range[0] + step*j\n",
    "                curr_max = x_range[0] + step*(j+1)\n",
    "\n",
    "                #print('curr_min:',curr_min)\n",
    "                #print('curr_max:',curr_max)\n",
    "\n",
    "                curr_x_vector = plot_df_sort.loc[plot_df_sort.phenotype==str(i+1),additive_trait_col]\n",
    "                # observed NS values (y axis)\n",
    "                curr_y_vector = plot_df_sort.loc[plot_df_sort.phenotype==str(i+1),residuals_col]\n",
    "\n",
    "                #print('curr_x_vector:',curr_x_vector)\n",
    "                #print('curr_y_vector:',curr_y_vector)\n",
    "\n",
    "                # indices of element of curr_x_vector that are in [curr_min,curr_max] bounds\n",
    "                idx_bin = [k for k,v in enumerate(curr_x_vector) if (v >= curr_min) & (v < curr_max)]\n",
    "\n",
    "                #print('idx_bin', idx_bin)\n",
    "\n",
    "                # if there are any values of relevant observed_phenotype_col vector within this range, take their average and overwrite the current 0 in smoothed_mean_vec\n",
    "                if len(idx_bin) > 0:\n",
    "                    curr_y_values_in_bounds = [curr_y_vector[m] for m in idx_bin]\n",
    "                    curr_average = np.mean(curr_y_values_in_bounds)\n",
    "                    smoothed_mean_vec[j] = curr_average\n",
    "                    \n",
    "                x_positions_for_smoothed_mean_vec.append(curr_min+step/2)\n",
    "            \n",
    "            \n",
    "            axis.plot(\n",
    "                    x_positions_for_smoothed_mean_vec, \n",
    "                    smoothed_mean_vec, mfc='none', \n",
    "                    linestyle = \"-\", color = 'red'\n",
    "                )\n",
    "            #Color scale\n",
    "            plt.colorbar(z, ax=axis)\n",
    "            #Guides\n",
    "            axis.axhline(y = 0, color = 'black', linestyle = '--')\n",
    "            axis.axvline(x = 0, color = 'black', linestyle = '--')\n",
    "                \n",
    "            #Labels\n",
    "            #ax.set_title(mochi_tasks[run_key].data.phenotype_names[int(i)])\n",
    "            axis.set_title(Title, fontsize = 10)\n",
    "            if transformation != None:\n",
    "                axis.set_ylabel(str(transformation) + '\\n transformation', size = 14)\n",
    "            #axis.set_xlabel('Additive trait (-dEa)', size = 14)\n",
    "            #Save\n",
    "            #plt.savefig(output_path_prefix+self.task.data.phenotype_names[int(i)]+\".pdf\")"
   ]
  },
  {
   "cell_type": "code",
   "execution_count": 22,
   "id": "99b23025-a69e-4334-b060-894fe14813e7",
   "metadata": {
    "tags": []
   },
   "outputs": [
    {
     "name": "stdout",
     "output_type": "stream",
     "text": [
      "/lustre/scratch126/gengen/projects/amyloid_beta_epistasis/amyloids_energy_modelling/Combinatorial_mutants_analysis/selected_DTS_datasets_analysis/DTS01_DTS05\n"
     ]
    }
   ],
   "source": [
    "%%bash\n",
    "\n",
    "pwd"
   ]
  },
  {
   "cell_type": "code",
   "execution_count": 23,
   "id": "ce8bce6d-b289-4991-8d00-1b21ccd9e6fc",
   "metadata": {
    "tags": []
   },
   "outputs": [
    {
     "data": {
      "image/png": "[encoded data removed]",
      "text/plain": [
       "<Figure size 500x200 with 4 Axes>"
      ]
     },
     "metadata": {},
     "output_type": "display_data"
    }
   ],
   "source": [
    "# all the results for run with all 3 doubles datasets\n",
    "# N_max_inter = 1 everywhere\n",
    "\n",
    "fig, (ax1, ax2) = plt.subplots(1, 2, figsize=(5,2))\n",
    "\n",
    "fig.tight_layout()\n",
    "fig.subplots_adjust(hspace=0.4)\n",
    "\n",
    "#fig.supxlabel('Observed phenotype')\n",
    "#fig.supylabel('Predicted phenotype')\n",
    "\n",
    "curr_transformation = 'Sigmoid'\n",
    "\n",
    "curr_phenotype = '1' # DTS01 aka Combinatorial-1\n",
    "\n",
    "curr_predictions_all = predictions['Sigmoid_DTS01_DT05_all_variants_1st_and_2nd_order']\n",
    "\n",
    "curr_predictions = curr_predictions_all[curr_predictions_all['phenotype'] == curr_phenotype]\n",
    "\n",
    "plot_residuals_multiplot_with_smoothed_average(curr_predictions,\n",
    "                                run_key='Sigmoid_DTS01_DT05_all_variants_1st_and_2nd_order',\n",
    "                                axis=ax1, phenotype=curr_phenotype,\n",
    "                                 Title = 'DTS01 (Combinatorial-1) \\n ' + curr_transformation)\n",
    "        \n",
    "    \n",
    "curr_phenotype = '2' # DTS05 aka Combinatorial-2\n",
    "\n",
    "    \n",
    "curr_predictions = curr_predictions_all[curr_predictions_all['phenotype'] == curr_phenotype]\n",
    "plot_residuals_multiplot_with_smoothed_average(curr_predictions,\n",
    "                                run_key='Sigmoid_DTS01_DT05_all_variants_1st_and_2nd_order',\n",
    "                                axis=ax2, phenotype=curr_phenotype,\n",
    "                                 Title = 'DTS05 (Combinatorial-2) \\n ' + curr_transformation)\n",
    "\n",
    "    \n",
    "\n",
    "#plt.savefig('./figures/20240718_mochi_residuals_DTS01_DTS05.pdf',\n",
    "#           bbox_inches = 'tight')\n",
    "\n",
    "    \n"
   ]
  }
 ],
 "metadata": {
  "kernelspec": {
   "display_name": "pymochi",
   "language": "python",
   "name": "pymochi"
  },
  "language_info": {
   "codemirror_mode": {
    "name": "ipython",
    "version": 3
   },
   "file_extension": ".py",
   "mimetype": "text/x-python",
   "name": "python",
   "nbconvert_exporter": "python",
   "pygments_lexer": "ipython3",
   "version": "3.9.9"
  }
 },
 "nbformat": 4,
 "nbformat_minor": 5
}
